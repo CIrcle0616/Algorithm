{
 "cells": [
  {
   "cell_type": "code",
   "execution_count": null,
   "metadata": {},
   "outputs": [],
   "source": [
    "#valid-palindrome\n",
    "class Solutions:\n",
    "    def isPallndrome(self, s: str) -> bool:\n",
    "        s = s.lower()\n",
    "        s = re.sub('^a-z0-9', ' ', s) #정규식 영숫자 추출\n",
    "        #슬라이시\n",
    "        return s == s[::-1]         "
   ]
  },
  {
   "cell_type": "code",
   "execution_count": null,
   "metadata": {},
   "outputs": [],
   "source": [
    "#Reverse String\n",
    "class Solutions:\n",
    "    def reverseString(self, s: str) -> None:\n",
    "        left, right = 0, len(s) - 1\n",
    "        while left < right:\n",
    "            s[left], s[right] = s[right], s[left]\n",
    "            left += 1\n",
    "            right -= 1"
   ]
  },
  {
   "cell_type": "code",
   "execution_count": 4,
   "metadata": {},
   "outputs": [
    {
     "name": "stdout",
     "output_type": "stream",
     "text": [
      "['let1 art can', 'let3 art zero', 'let2 own kit dig', 'dig1 8 1 5 1', 'dig2 3 6']\n"
     ]
    }
   ],
   "source": [
    "logs: list[str] = [\"dig1 8 1 5 1\",\"let1 art can\",\"dig2 3 6\",\"let2 own kit dig\",\"let3 art zero\"]\n",
    "sort_logs: list[str] = []\n",
    "sort_letter: list[str] = []\n",
    "for letter in logs:\n",
    "    strs: str = letter.split()\n",
    "    if strs[1].isdigit():\n",
    "        sort_logs.append(letter)\n",
    "    else:\n",
    "        sort_letter.append(letter)\n",
    "sort_letter.sort(key = lambda x: (x.split()[1:], x.split()[0]))\n",
    "logs: list[str] = sort_letter + sort_logs\n",
    "print(logs)\n",
    "        "
   ]
  },
  {
   "cell_type": "code",
   "execution_count": 26,
   "metadata": {},
   "outputs": [
    {
     "data": {
      "text/plain": [
       "'ball'"
      ]
     },
     "execution_count": 26,
     "metadata": {},
     "output_type": "execute_result"
    }
   ],
   "source": [
    "from collections import Counter\n",
    "import re\n",
    "\n",
    "paragraph = \"Bob hit a ball, the hit BALL flew far after it was hit.\"\n",
    "banned = [\"hit\"]\n",
    "paragraph = re.sub('[.,]', '', paragraph)\n",
    "paragraph = paragraph.split()\n",
    "strs = []\n",
    "for para in paragraph:\n",
    "    para = para.lower()\n",
    "    if not para == banned[0]:\n",
    "        strs.append(para)\n",
    "Counter(strs).most_common(1)[0][0]"
   ]
  },
  {
   "cell_type": "code",
   "execution_count": 33,
   "metadata": {},
   "outputs": [
    {
     "name": "stdout",
     "output_type": "stream",
     "text": [
      "defaultdict(<class 'list'>, {'aet': ['eat', 'tea', 'ate'], 'ant': ['tan', 'nat'], 'abt': ['bat']})\n"
     ]
    }
   ],
   "source": [
    "import collections\n",
    "\n",
    "\n",
    "strs = [\"eat\",\"tea\",\"tan\",\"ate\",\"nat\",\"bat\"]\n",
    "anagrams = collections.defaultdict(list)\n",
    "\n",
    "for word in strs:\n",
    "    anagrams[''.join(sorted(word))].append(word)\n",
    "print(anagrams)"
   ]
  },
  {
   "cell_type": "code",
   "execution_count": 45,
   "metadata": {},
   "outputs": [
    {
     "name": "stdout",
     "output_type": "stream",
     "text": [
      "bab\n"
     ]
    }
   ],
   "source": [
    "s = \"babad\"\n",
    "a = ''\n",
    "for left in range(len(s)):\n",
    "    for right in range(len(s), left, -1):\n",
    "        word = s[left:right]\n",
    "        if word == word[::-1]:\n",
    "            if len(a) < len(word):\n",
    "                a = word\n",
    "print(a)"
   ]
  }
 ],
 "metadata": {
  "kernelspec": {
   "display_name": "Python 3",
   "language": "python",
   "name": "python3"
  },
  "language_info": {
   "codemirror_mode": {
    "name": "ipython",
    "version": 3
   },
   "file_extension": ".py",
   "mimetype": "text/x-python",
   "name": "python",
   "nbconvert_exporter": "python",
   "pygments_lexer": "ipython3",
   "version": "3.9.13"
  },
  "orig_nbformat": 4
 },
 "nbformat": 4,
 "nbformat_minor": 2
}
