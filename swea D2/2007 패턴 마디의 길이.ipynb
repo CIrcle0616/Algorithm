{
 "cells": [
  {
   "cell_type": "code",
   "execution_count": 13,
   "metadata": {},
   "outputs": [
    {
     "name": "stdout",
     "output_type": "stream",
     "text": [
      "#1 5\n",
      "#2 7\n",
      "#3 6\n",
      "#4 9\n",
      "#5 8\n",
      "#6 5\n",
      "#7 9\n",
      "#8 5\n",
      "#9 9\n",
      "#10 9\n"
     ]
    }
   ],
   "source": [
    "#2007 패턴 마디의 길이\n",
    "T = int(input())\n",
    "for t in range(1,T+1):\n",
    "    cnt = []\n",
    "    line = input()\n",
    "    for i in range(1,10):\n",
    "        if line[:i] == line[i:2*i]:\n",
    "            cnt.append(i)\n",
    "    print(f\"#{t} {cnt[0]}\")"
   ]
  },
  {
   "cell_type": "markdown",
   "metadata": {},
   "source": [
    "문제 푸는데 조건이 중요하다 반복되는 제일 작은 마디를 찾을것!"
   ]
  }
 ],
 "metadata": {
  "kernelspec": {
   "display_name": "Python 3.9.13 64-bit",
   "language": "python",
   "name": "python3"
  },
  "language_info": {
   "codemirror_mode": {
    "name": "ipython",
    "version": 3
   },
   "file_extension": ".py",
   "mimetype": "text/x-python",
   "name": "python",
   "nbconvert_exporter": "python",
   "pygments_lexer": "ipython3",
   "version": "3.9.13"
  },
  "orig_nbformat": 4,
  "vscode": {
   "interpreter": {
    "hash": "b0fa6594d8f4cbf19f97940f81e996739fb7646882a419484c72d19e05852a7e"
   }
  }
 },
 "nbformat": 4,
 "nbformat_minor": 2
}
