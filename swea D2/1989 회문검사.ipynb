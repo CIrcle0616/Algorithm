{
 "cells": [
  {
   "cell_type": "code",
   "execution_count": 2,
   "metadata": {},
   "outputs": [
    {
     "name": "stdout",
     "output_type": "stream",
     "text": [
      "#1 1\n",
      "#2 0\n",
      "#3 1\n"
     ]
    }
   ],
   "source": [
    "#1989 초심자의 회문 검사\n",
    "T = int(input())\n",
    "for t in range(1,T+1):\n",
    "    a = 0\n",
    "    word = input()\n",
    "    if word == word[::-1]:\n",
    "        a = 1\n",
    "    print(f\"#{t} {a}\")"
   ]
  }
 ],
 "metadata": {
  "kernelspec": {
   "display_name": "Python 3.9.12 ('base')",
   "language": "python",
   "name": "python3"
  },
  "language_info": {
   "codemirror_mode": {
    "name": "ipython",
    "version": 3
   },
   "file_extension": ".py",
   "mimetype": "text/x-python",
   "name": "python",
   "nbconvert_exporter": "python",
   "pygments_lexer": "ipython3",
   "version": "3.9.12"
  },
  "orig_nbformat": 4,
  "vscode": {
   "interpreter": {
    "hash": "397e9deae21f49c3e583a19b85572220c6920b1dd8d9982012edebf91228d231"
   }
  }
 },
 "nbformat": 4,
 "nbformat_minor": 2
}
