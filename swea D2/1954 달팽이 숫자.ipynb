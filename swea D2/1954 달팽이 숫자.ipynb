{
 "cells": [
  {
   "cell_type": "code",
   "execution_count": 60,
   "metadata": {},
   "outputs": [
    {
     "name": "stdout",
     "output_type": "stream",
     "text": [
      "#  1\n",
      "1 \n",
      "#  2\n",
      "1 2 \n",
      "4 3 \n",
      "#  3\n",
      "1 2 3 \n",
      "8 9 4 \n",
      "7 6 5 \n",
      "#  4\n",
      "1 2 3 4 \n",
      "12 13 14 5 \n",
      "11 16 15 6 \n",
      "10 9 8 7 \n",
      "#  5\n",
      "1 2 3 4 5 \n",
      "16 17 18 19 6 \n",
      "15 24 25 20 7 \n",
      "14 23 22 21 8 \n",
      "13 12 11 10 9 \n",
      "#  6\n",
      "1 2 3 4 5 6 \n",
      "20 21 22 23 24 7 \n",
      "19 32 33 34 25 8 \n",
      "18 31 36 35 26 9 \n",
      "17 30 29 28 27 10 \n",
      "16 15 14 13 12 11 \n",
      "#  7\n",
      "1 2 3 4 5 6 7 \n",
      "24 25 26 27 28 29 8 \n",
      "23 40 41 42 43 30 9 \n",
      "22 39 48 49 44 31 10 \n",
      "21 38 47 46 45 32 11 \n",
      "20 37 36 35 34 33 12 \n",
      "19 18 17 16 15 14 13 \n",
      "#  8\n",
      "1 2 3 4 5 6 7 8 \n",
      "28 29 30 31 32 33 34 9 \n",
      "27 48 49 50 51 52 35 10 \n",
      "26 47 60 61 62 53 36 11 \n",
      "25 46 59 64 63 54 37 12 \n",
      "24 45 58 57 56 55 38 13 \n",
      "23 44 43 42 41 40 39 14 \n",
      "22 21 20 19 18 17 16 15 \n",
      "#  9\n",
      "1 2 3 4 5 6 7 8 9 \n",
      "32 33 34 35 36 37 38 39 10 \n",
      "31 56 57 58 59 60 61 40 11 \n",
      "30 55 72 73 74 75 62 41 12 \n",
      "29 54 71 80 81 76 63 42 13 \n",
      "28 53 70 79 78 77 64 43 14 \n",
      "27 52 69 68 67 66 65 44 15 \n",
      "26 51 50 49 48 47 46 45 16 \n",
      "25 24 23 22 21 20 19 18 17 \n",
      "#  10\n",
      "1 2 3 4 5 6 7 8 9 10 \n",
      "36 37 38 39 40 41 42 43 44 11 \n",
      "35 64 65 66 67 68 69 70 45 12 \n",
      "34 63 84 85 86 87 88 71 46 13 \n",
      "33 62 83 96 97 98 89 72 47 14 \n",
      "32 61 82 95 100 99 90 73 48 15 \n",
      "31 60 81 94 93 92 91 74 49 16 \n",
      "30 59 80 79 78 77 76 75 50 17 \n",
      "29 58 57 56 55 54 53 52 51 18 \n",
      "28 27 26 25 24 23 22 21 20 19 \n"
     ]
    }
   ],
   "source": [
    "# 1954 달팽이 숫자\n",
    "T = int(input())\n",
    "for t in range(1,T+1):\n",
    "    N = int(input())\n",
    "    dx = [1,0,-1,0]\n",
    "    dy = [0,1,0,-1]\n",
    "    snail = [[False]*N for _ in range(N)]\n",
    "    trace = 1\n",
    "    y, x = 0,0\n",
    "    i = 0\n",
    "    while False not in snail:\n",
    "        snail[y][x] = trace\n",
    "        trace += 1\n",
    "        if i == 4:\n",
    "            i = 0\n",
    "        ny = y+dy[i]\n",
    "        nx = x+dx[i]\n",
    "        if nx == N or ny == N or nx < 0 or snail[ny][nx] :\n",
    "            i += 1\n",
    "            trace -= 1\n",
    "            continue\n",
    "        y = ny\n",
    "        x = nx\n",
    "    print('# ',t)\n",
    "    for i in range(N):\n",
    "        for j in range(N):\n",
    "            print(snail[i][j],end=' ')\n",
    "        print()"
   ]
  },
  {
   "cell_type": "code",
   "execution_count": 58,
   "metadata": {},
   "outputs": [
    {
     "data": {
      "text/plain": [
       "[[1, 2, 3, 4, 5],\n",
       " [16, 17, 18, 19, 6],\n",
       " [15, 24, 25, 20, 7],\n",
       " [14, 23, 22, 21, 8],\n",
       " [13, 12, 11, 10, 9]]"
      ]
     },
     "execution_count": 58,
     "metadata": {},
     "output_type": "execute_result"
    }
   ],
   "source": [
    "snail"
   ]
  },
  {
   "cell_type": "code",
   "execution_count": 14,
   "metadata": {},
   "outputs": [
    {
     "name": "stdout",
     "output_type": "stream",
     "text": [
      "1\n"
     ]
    }
   ],
   "source": [
    "if snail[0][1]:\n",
    "    print('1')"
   ]
  }
 ],
 "metadata": {
  "kernelspec": {
   "display_name": "Python 3.9.13 64-bit",
   "language": "python",
   "name": "python3"
  },
  "language_info": {
   "codemirror_mode": {
    "name": "ipython",
    "version": 3
   },
   "file_extension": ".py",
   "mimetype": "text/x-python",
   "name": "python",
   "nbconvert_exporter": "python",
   "pygments_lexer": "ipython3",
   "version": "3.9.13"
  },
  "orig_nbformat": 4,
  "vscode": {
   "interpreter": {
    "hash": "b0fa6594d8f4cbf19f97940f81e996739fb7646882a419484c72d19e05852a7e"
   }
  }
 },
 "nbformat": 4,
 "nbformat_minor": 2
}
