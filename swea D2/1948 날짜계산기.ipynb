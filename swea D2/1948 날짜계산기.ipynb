{
 "cells": [
  {
   "cell_type": "code",
   "execution_count": 9,
   "metadata": {},
   "outputs": [
    {
     "name": "stdout",
     "output_type": "stream",
     "text": [
      "# 1 31\n",
      "# 2 161\n",
      "# 3 103\n",
      "# 4 194\n"
     ]
    },
    {
     "ename": "ValueError",
     "evalue": "not enough values to unpack (expected 4, got 0)",
     "output_type": "error",
     "traceback": [
      "\u001b[0;31m---------------------------------------------------------------------------\u001b[0m",
      "\u001b[0;31mValueError\u001b[0m                                Traceback (most recent call last)",
      "\u001b[1;32m/Users/owl/Desktop/Algorithm/swea D2/1948 날짜계산기.ipynb 셀 1\u001b[0m in \u001b[0;36m<cell line: 4>\u001b[0;34m()\u001b[0m\n\u001b[1;32m      <a href='vscode-notebook-cell:/Users/owl/Desktop/Algorithm/swea%20D2/1948%20%EB%82%A0%EC%A7%9C%EA%B3%84%EC%82%B0%EA%B8%B0.ipynb#W1sZmlsZQ%3D%3D?line=2'>3</a>\u001b[0m date \u001b[39m=\u001b[39m [\u001b[39m31\u001b[39m, \u001b[39m28\u001b[39m, \u001b[39m31\u001b[39m, \u001b[39m30\u001b[39m, \u001b[39m31\u001b[39m, \u001b[39m30\u001b[39m, \u001b[39m31\u001b[39m, \u001b[39m31\u001b[39m, \u001b[39m30\u001b[39m, \u001b[39m31\u001b[39m, \u001b[39m30\u001b[39m, \u001b[39m31\u001b[39m]\n\u001b[1;32m      <a href='vscode-notebook-cell:/Users/owl/Desktop/Algorithm/swea%20D2/1948%20%EB%82%A0%EC%A7%9C%EA%B3%84%EC%82%B0%EA%B8%B0.ipynb#W1sZmlsZQ%3D%3D?line=3'>4</a>\u001b[0m \u001b[39mfor\u001b[39;00m t \u001b[39min\u001b[39;00m \u001b[39mrange\u001b[39m(\u001b[39m1\u001b[39m,T\u001b[39m+\u001b[39m\u001b[39m1\u001b[39m):\n\u001b[0;32m----> <a href='vscode-notebook-cell:/Users/owl/Desktop/Algorithm/swea%20D2/1948%20%EB%82%A0%EC%A7%9C%EA%B3%84%EC%82%B0%EA%B8%B0.ipynb#W1sZmlsZQ%3D%3D?line=4'>5</a>\u001b[0m     a1, a2, b1, b2 \u001b[39m=\u001b[39m \u001b[39mmap\u001b[39m(\u001b[39mint\u001b[39m,\u001b[39minput\u001b[39m()\u001b[39m.\u001b[39msplit())\n\u001b[1;32m      <a href='vscode-notebook-cell:/Users/owl/Desktop/Algorithm/swea%20D2/1948%20%EB%82%A0%EC%A7%9C%EA%B3%84%EC%82%B0%EA%B8%B0.ipynb#W1sZmlsZQ%3D%3D?line=5'>6</a>\u001b[0m     cnt \u001b[39m=\u001b[39m \u001b[39m0\u001b[39m\n\u001b[1;32m      <a href='vscode-notebook-cell:/Users/owl/Desktop/Algorithm/swea%20D2/1948%20%EB%82%A0%EC%A7%9C%EA%B3%84%EC%82%B0%EA%B8%B0.ipynb#W1sZmlsZQ%3D%3D?line=6'>7</a>\u001b[0m     \u001b[39mwhile\u001b[39;00m \u001b[39mTrue\u001b[39;00m:\n",
      "\u001b[0;31mValueError\u001b[0m: not enough values to unpack (expected 4, got 0)"
     ]
    }
   ],
   "source": [
    "#1948 날짜 계산기\n",
    "T = int(input())\n",
    "date = [31, 28, 31, 30, 31, 30, 31, 31, 30, 31, 30, 31]\n",
    "for t in range(1,T+1):\n",
    "    a1, a2, b1, b2 = map(int,input().split())\n",
    "    cnt = 0\n",
    "    while True:\n",
    "        cnt += 1\n",
    "        if a1 == b1:\n",
    "            cnt += b2 - a2\n",
    "            break\n",
    "        if a2 == date[a1-1]:\n",
    "            a1 += 1\n",
    "            a2 = 0\n",
    "        a2 += 1\n",
    "\n",
    "    print(f'# {t} {cnt}')\n"
   ]
  }
 ],
 "metadata": {
  "kernelspec": {
   "display_name": "Python 3.9.13 64-bit",
   "language": "python",
   "name": "python3"
  },
  "language_info": {
   "codemirror_mode": {
    "name": "ipython",
    "version": 3
   },
   "file_extension": ".py",
   "mimetype": "text/x-python",
   "name": "python",
   "nbconvert_exporter": "python",
   "pygments_lexer": "ipython3",
   "version": "3.9.13"
  },
  "orig_nbformat": 4,
  "vscode": {
   "interpreter": {
    "hash": "b0fa6594d8f4cbf19f97940f81e996739fb7646882a419484c72d19e05852a7e"
   }
  }
 },
 "nbformat": 4,
 "nbformat_minor": 2
}
