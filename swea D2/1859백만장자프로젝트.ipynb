{
 "cells": [
  {
   "cell_type": "code",
   "execution_count": 22,
   "metadata": {},
   "outputs": [
    {
     "name": "stdout",
     "output_type": "stream",
     "text": [
      "2\n",
      "4\n",
      "6\n",
      "#1 6\n"
     ]
    }
   ],
   "source": [
    "# SWEA D2 1859 백만 장자 프로젝트\n",
    "T = int(input())\n",
    "for i in range(T):\n",
    "    N = int(input())\n",
    "    price = list(map(int,input().split()))\n",
    "    _max = max(price)\n",
    "    profit = 0\n",
    "    for j in range(N):\n",
    "        if i == len(price)-1:\n",
    "            break\n",
    "        if price[j] - _max < 0:\n",
    "            profit += (_max - price[j])\n",
    "            print(profit)\n",
    "        else:\n",
    "            _max = max(price[i+1:])\n",
    "    print(f\"#{i+1} {profit}\")\n",
    "\n",
    "        "
   ]
  },
  {
   "cell_type": "code",
   "execution_count": 14,
   "metadata": {},
   "outputs": [
    {
     "name": "stdout",
     "output_type": "stream",
     "text": [
      "2\n",
      "1\n"
     ]
    },
    {
     "ename": "ValueError",
     "evalue": "max() arg is an empty sequence",
     "output_type": "error",
     "traceback": [
      "\u001b[0;31m---------------------------------------------------------------------------\u001b[0m",
      "\u001b[0;31mValueError\u001b[0m                                Traceback (most recent call last)",
      "\u001b[1;32mUntitled-2.ipynb 셀 2\u001b[0m in \u001b[0;36m<cell line: 6>\u001b[0;34m()\u001b[0m\n\u001b[1;32m      <a href='vscode-notebook-cell:Untitled-2.ipynb?jupyter-notebook#W1sdW50aXRsZWQ%3D?line=3'>4</a>\u001b[0m     \u001b[39mprint\u001b[39m(idx)\n\u001b[1;32m      <a href='vscode-notebook-cell:Untitled-2.ipynb?jupyter-notebook#W1sdW50aXRsZWQ%3D?line=4'>5</a>\u001b[0m     \u001b[39mreturn\u001b[39;00m findIdx(price[idx\u001b[39m+\u001b[39m\u001b[39m1\u001b[39m:])\n\u001b[0;32m----> <a href='vscode-notebook-cell:Untitled-2.ipynb?jupyter-notebook#W1sdW50aXRsZWQ%3D?line=5'>6</a>\u001b[0m findIdx([\u001b[39m1\u001b[39;49m,\u001b[39m1\u001b[39;49m,\u001b[39m3\u001b[39;49m,\u001b[39m1\u001b[39;49m,\u001b[39m2\u001b[39;49m])\n",
      "\u001b[1;32mUntitled-2.ipynb 셀 2\u001b[0m in \u001b[0;36mfindIdx\u001b[0;34m(price)\u001b[0m\n\u001b[1;32m      <a href='vscode-notebook-cell:Untitled-2.ipynb?jupyter-notebook#W1sdW50aXRsZWQ%3D?line=2'>3</a>\u001b[0m idx \u001b[39m=\u001b[39m price\u001b[39m.\u001b[39mindex(_max)\n\u001b[1;32m      <a href='vscode-notebook-cell:Untitled-2.ipynb?jupyter-notebook#W1sdW50aXRsZWQ%3D?line=3'>4</a>\u001b[0m \u001b[39mprint\u001b[39m(idx)\n\u001b[0;32m----> <a href='vscode-notebook-cell:Untitled-2.ipynb?jupyter-notebook#W1sdW50aXRsZWQ%3D?line=4'>5</a>\u001b[0m \u001b[39mreturn\u001b[39;00m findIdx(price[idx\u001b[39m+\u001b[39;49m\u001b[39m1\u001b[39;49m:])\n",
      "\u001b[1;32mUntitled-2.ipynb 셀 2\u001b[0m in \u001b[0;36mfindIdx\u001b[0;34m(price)\u001b[0m\n\u001b[1;32m      <a href='vscode-notebook-cell:Untitled-2.ipynb?jupyter-notebook#W1sdW50aXRsZWQ%3D?line=2'>3</a>\u001b[0m idx \u001b[39m=\u001b[39m price\u001b[39m.\u001b[39mindex(_max)\n\u001b[1;32m      <a href='vscode-notebook-cell:Untitled-2.ipynb?jupyter-notebook#W1sdW50aXRsZWQ%3D?line=3'>4</a>\u001b[0m \u001b[39mprint\u001b[39m(idx)\n\u001b[0;32m----> <a href='vscode-notebook-cell:Untitled-2.ipynb?jupyter-notebook#W1sdW50aXRsZWQ%3D?line=4'>5</a>\u001b[0m \u001b[39mreturn\u001b[39;00m findIdx(price[idx\u001b[39m+\u001b[39;49m\u001b[39m1\u001b[39;49m:])\n",
      "\u001b[1;32mUntitled-2.ipynb 셀 2\u001b[0m in \u001b[0;36mfindIdx\u001b[0;34m(price)\u001b[0m\n\u001b[1;32m      <a href='vscode-notebook-cell:Untitled-2.ipynb?jupyter-notebook#W1sdW50aXRsZWQ%3D?line=0'>1</a>\u001b[0m \u001b[39mdef\u001b[39;00m \u001b[39mfindIdx\u001b[39m(price):\n\u001b[0;32m----> <a href='vscode-notebook-cell:Untitled-2.ipynb?jupyter-notebook#W1sdW50aXRsZWQ%3D?line=1'>2</a>\u001b[0m     _max \u001b[39m=\u001b[39m \u001b[39mmax\u001b[39;49m(price)\n\u001b[1;32m      <a href='vscode-notebook-cell:Untitled-2.ipynb?jupyter-notebook#W1sdW50aXRsZWQ%3D?line=2'>3</a>\u001b[0m     idx \u001b[39m=\u001b[39m price\u001b[39m.\u001b[39mindex(_max)\n\u001b[1;32m      <a href='vscode-notebook-cell:Untitled-2.ipynb?jupyter-notebook#W1sdW50aXRsZWQ%3D?line=3'>4</a>\u001b[0m     \u001b[39mprint\u001b[39m(idx)\n",
      "\u001b[0;31mValueError\u001b[0m: max() arg is an empty sequence"
     ]
    }
   ],
   "source": [
    "idx = []\n",
    "def findIdx(price):\n",
    "    _max = max(price)\n",
    "    idx = price.index(_max)\n",
    "    print(idx)\n",
    "    return findIdx(price[idx+1:])\n",
    "findIdx([1,1,3,1,2])"
   ]
  }
 ],
 "metadata": {
  "kernelspec": {
   "display_name": "Python 3.9.13 64-bit",
   "language": "python",
   "name": "python3"
  },
  "language_info": {
   "codemirror_mode": {
    "name": "ipython",
    "version": 3
   },
   "file_extension": ".py",
   "mimetype": "text/x-python",
   "name": "python",
   "nbconvert_exporter": "python",
   "pygments_lexer": "ipython3",
   "version": "3.9.13"
  },
  "orig_nbformat": 4,
  "vscode": {
   "interpreter": {
    "hash": "b0fa6594d8f4cbf19f97940f81e996739fb7646882a419484c72d19e05852a7e"
   }
  }
 },
 "nbformat": 4,
 "nbformat_minor": 2
}
