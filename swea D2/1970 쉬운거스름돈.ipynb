{
 "cells": [
  {
   "cell_type": "code",
   "execution_count": 3,
   "metadata": {},
   "outputs": [
    {
     "name": "stdout",
     "output_type": "stream",
     "text": [
      "#1\n",
      "0 3 0 2 1 3 1 0 \n",
      "#2\n",
      "0 0 0 0 0 1 1 1 \n"
     ]
    }
   ],
   "source": [
    "# 1970 쉬운 거스름돈\n",
    "T = int(input())\n",
    "num = [50000,10000,5000,1000,500,100,50,10]\n",
    "for t in range(1,T+1):\n",
    "    N = int(input())\n",
    "    refund = []\n",
    "    for i in num:\n",
    "        refund.append(N//i)\n",
    "        N = N % i\n",
    "    print(f'#{t}')\n",
    "    for i in refund:\n",
    "        print(i,end=' ')\n",
    "    print()\n",
    "    "
   ]
  },
  {
   "cell_type": "code",
   "execution_count": null,
   "metadata": {},
   "outputs": [],
   "source": []
  }
 ],
 "metadata": {
  "kernelspec": {
   "display_name": "Python 3.9.13 64-bit",
   "language": "python",
   "name": "python3"
  },
  "language_info": {
   "codemirror_mode": {
    "name": "ipython",
    "version": 3
   },
   "file_extension": ".py",
   "mimetype": "text/x-python",
   "name": "python",
   "nbconvert_exporter": "python",
   "pygments_lexer": "ipython3",
   "version": "3.9.13"
  },
  "orig_nbformat": 4,
  "vscode": {
   "interpreter": {
    "hash": "b0fa6594d8f4cbf19f97940f81e996739fb7646882a419484c72d19e05852a7e"
   }
  }
 },
 "nbformat": 4,
 "nbformat_minor": 2
}
