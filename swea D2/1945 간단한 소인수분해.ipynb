{
 "cells": [
  {
   "cell_type": "code",
   "execution_count": 6,
   "metadata": {},
   "outputs": [
    {
     "ename": "ValueError",
     "evalue": "invalid literal for int() with base 10: ''",
     "output_type": "error",
     "traceback": [
      "\u001b[0;31m---------------------------------------------------------------------------\u001b[0m",
      "\u001b[0;31mValueError\u001b[0m                                Traceback (most recent call last)",
      "\u001b[1;32m/Users/owl/Desktop/Algorithm/swea D2/1945 간단한 소인수분해.ipynb 셀 1\u001b[0m in \u001b[0;36m<cell line: 3>\u001b[0;34m()\u001b[0m\n\u001b[1;32m      <a href='vscode-notebook-cell:/Users/owl/Desktop/Algorithm/swea%20D2/1945%20%EA%B0%84%EB%8B%A8%ED%95%9C%20%EC%86%8C%EC%9D%B8%EC%88%98%EB%B6%84%ED%95%B4.ipynb#W1sZmlsZQ%3D%3D?line=3'>4</a>\u001b[0m soin \u001b[39m=\u001b[39m {\u001b[39m2\u001b[39m:\u001b[39m0\u001b[39m,\u001b[39m3\u001b[39m:\u001b[39m0\u001b[39m,\u001b[39m5\u001b[39m:\u001b[39m0\u001b[39m,\u001b[39m7\u001b[39m:\u001b[39m0\u001b[39m,\u001b[39m11\u001b[39m:\u001b[39m0\u001b[39m}\n\u001b[1;32m      <a href='vscode-notebook-cell:/Users/owl/Desktop/Algorithm/swea%20D2/1945%20%EA%B0%84%EB%8B%A8%ED%95%9C%20%EC%86%8C%EC%9D%B8%EC%88%98%EB%B6%84%ED%95%B4.ipynb#W1sZmlsZQ%3D%3D?line=4'>5</a>\u001b[0m insu \u001b[39m=\u001b[39m [\u001b[39m2\u001b[39m,\u001b[39m3\u001b[39m,\u001b[39m5\u001b[39m,\u001b[39m7\u001b[39m,\u001b[39m11\u001b[39m]\n\u001b[0;32m----> <a href='vscode-notebook-cell:/Users/owl/Desktop/Algorithm/swea%20D2/1945%20%EA%B0%84%EB%8B%A8%ED%95%9C%20%EC%86%8C%EC%9D%B8%EC%88%98%EB%B6%84%ED%95%B4.ipynb#W1sZmlsZQ%3D%3D?line=5'>6</a>\u001b[0m N \u001b[39m=\u001b[39m \u001b[39mint\u001b[39;49m(\u001b[39minput\u001b[39;49m())\n\u001b[1;32m      <a href='vscode-notebook-cell:/Users/owl/Desktop/Algorithm/swea%20D2/1945%20%EA%B0%84%EB%8B%A8%ED%95%9C%20%EC%86%8C%EC%9D%B8%EC%88%98%EB%B6%84%ED%95%B4.ipynb#W1sZmlsZQ%3D%3D?line=6'>7</a>\u001b[0m \u001b[39mwhile\u001b[39;00m N \u001b[39m!=\u001b[39m \u001b[39m1\u001b[39m:\n\u001b[1;32m      <a href='vscode-notebook-cell:/Users/owl/Desktop/Algorithm/swea%20D2/1945%20%EA%B0%84%EB%8B%A8%ED%95%9C%20%EC%86%8C%EC%9D%B8%EC%88%98%EB%B6%84%ED%95%B4.ipynb#W1sZmlsZQ%3D%3D?line=7'>8</a>\u001b[0m     \u001b[39mfor\u001b[39;00m i \u001b[39min\u001b[39;00m insu:\n",
      "\u001b[0;31mValueError\u001b[0m: invalid literal for int() with base 10: ''"
     ]
    }
   ],
   "source": [
    "# 1945 간단한 소인수분해\n",
    "T = int(input())    \n",
    "for t in range(1,T+1):\n",
    "    soin = {2:0,3:0,5:0,7:0,11:0}\n",
    "    insu = [2,3,5,7,11]\n",
    "    N = int(input())\n",
    "    while N != 1:\n",
    "        for i in insu:\n",
    "            if N % i == 0:\n",
    "                N = N//i\n",
    "                soin[i] += 1\n",
    "    print(f'#{t}',end=' ')\n",
    "    for i in insu:\n",
    "        print(soin[i],end=' ')\n",
    "    print()\n"
   ]
  },
  {
   "cell_type": "code",
   "execution_count": 5,
   "metadata": {},
   "outputs": [
    {
     "data": {
      "text/plain": [
       "{2: 3, 3: 2, 5: 2, 7: 3, 11: 1}"
      ]
     },
     "execution_count": 5,
     "metadata": {},
     "output_type": "execute_result"
    }
   ],
   "source": [
    "soin"
   ]
  }
 ],
 "metadata": {
  "kernelspec": {
   "display_name": "Python 3.9.13 64-bit",
   "language": "python",
   "name": "python3"
  },
  "language_info": {
   "codemirror_mode": {
    "name": "ipython",
    "version": 3
   },
   "file_extension": ".py",
   "mimetype": "text/x-python",
   "name": "python",
   "nbconvert_exporter": "python",
   "pygments_lexer": "ipython3",
   "version": "3.9.13"
  },
  "orig_nbformat": 4,
  "vscode": {
   "interpreter": {
    "hash": "b0fa6594d8f4cbf19f97940f81e996739fb7646882a419484c72d19e05852a7e"
   }
  }
 },
 "nbformat": 4,
 "nbformat_minor": 2
}
