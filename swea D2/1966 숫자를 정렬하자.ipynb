{
 "cells": [
  {
   "cell_type": "code",
   "execution_count": 3,
   "metadata": {},
   "outputs": [
    {
     "name": "stdout",
     "output_type": "stream",
     "text": [
      "#1 0 1 4 7 8 \n",
      "#2 \n",
      "#3 \n",
      "#4 \n",
      "#5 \n",
      "#6 \n",
      "#7 \n",
      "#8 \n",
      "#9 \n",
      "#10 \n"
     ]
    }
   ],
   "source": [
    "# 1966 숫자를 정렬하자\n",
    "T = int(input())\n",
    "for t in range(1,T+1):\n",
    "    N = input()\n",
    "    a = list(map(int,input().split()))\n",
    "    a.sort()\n",
    "    print(f'#{t}',end=' ')\n",
    "    for i in a:\n",
    "        print(i,end=' ')\n",
    "    print()\n",
    "    "
   ]
  }
 ],
 "metadata": {
  "kernelspec": {
   "display_name": "Python 3.9.13 64-bit",
   "language": "python",
   "name": "python3"
  },
  "language_info": {
   "codemirror_mode": {
    "name": "ipython",
    "version": 3
   },
   "file_extension": ".py",
   "mimetype": "text/x-python",
   "name": "python",
   "nbconvert_exporter": "python",
   "pygments_lexer": "ipython3",
   "version": "3.9.13"
  },
  "orig_nbformat": 4,
  "vscode": {
   "interpreter": {
    "hash": "b0fa6594d8f4cbf19f97940f81e996739fb7646882a419484c72d19e05852a7e"
   }
  }
 },
 "nbformat": 4,
 "nbformat_minor": 2
}
