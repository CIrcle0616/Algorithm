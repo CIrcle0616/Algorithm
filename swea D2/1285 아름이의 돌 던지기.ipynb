{
 "cells": [
  {
   "cell_type": "code",
   "execution_count": 6,
   "metadata": {},
   "outputs": [
    {
     "name": "stdout",
     "output_type": "stream",
     "text": [
      "#1 100 2\n",
      "#2 1 1\n"
     ]
    }
   ],
   "source": [
    "# 1285 아름이의 돌 던지기\n",
    "T = int(input())\n",
    "for t in range(1,T+1):\n",
    "    N = int(input())\n",
    "    a = map(int,input().split())\n",
    "    a = [abs(i) for i in a]\n",
    "    distance = min(a)\n",
    "    n = 0\n",
    "    for i in range(N):\n",
    "        if distance == a[i]:\n",
    "            n += 1\n",
    "    print(f'#{t} {distance} {n}')"
   ]
  },
  {
   "cell_type": "code",
   "execution_count": 3,
   "metadata": {},
   "outputs": [
    {
     "data": {
      "text/plain": [
       "1"
      ]
     },
     "execution_count": 3,
     "metadata": {},
     "output_type": "execute_result"
    }
   ],
   "source": [
    "distance"
   ]
  }
 ],
 "metadata": {
  "kernelspec": {
   "display_name": "Python 3.9.13 64-bit",
   "language": "python",
   "name": "python3"
  },
  "language_info": {
   "codemirror_mode": {
    "name": "ipython",
    "version": 3
   },
   "file_extension": ".py",
   "mimetype": "text/x-python",
   "name": "python",
   "nbconvert_exporter": "python",
   "pygments_lexer": "ipython3",
   "version": "3.9.13"
  },
  "orig_nbformat": 4,
  "vscode": {
   "interpreter": {
    "hash": "b0fa6594d8f4cbf19f97940f81e996739fb7646882a419484c72d19e05852a7e"
   }
  }
 },
 "nbformat": 4,
 "nbformat_minor": 2
}
