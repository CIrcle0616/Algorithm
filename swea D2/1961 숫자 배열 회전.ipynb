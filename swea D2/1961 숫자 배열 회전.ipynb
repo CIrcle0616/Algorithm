{
 "cells": [
  {
   "cell_type": "code",
   "execution_count": 5,
   "metadata": {},
   "outputs": [
    {
     "name": "stdout",
     "output_type": "stream",
     "text": [
      "741 987 369 \n",
      "852 654 258 \n",
      "963 321 147 \n"
     ]
    }
   ],
   "source": [
    "# 1961 숫자 배열 회전\n",
    "T = int(input())\n",
    "for t in range(1,T+1):\n",
    "    N = int(input())\n",
    "    graph = [list(map(int,input().split())) for _ in range(N)]\n",
    "    graph90 = [[0]*N for _ in range(N)]\n",
    "    graph180 = [[0]*N for _ in range(N)]\n",
    "    graph270 = [[0]*N for _ in range(N)]\n",
    "    for i in range(N):\n",
    "        for j in range(N):\n",
    "            graph90[j][N-1-i] = graph[i][j]\n",
    "            graph180[N-1-i][N-1-j] = graph[i][j]\n",
    "            graph270[i][j] = graph[j][N-1-i]\n",
    "    jechul = [[0] * 3 for _ in range(N)]\n",
    "    for i in range(N):\n",
    "        je90, je180, je270 = '','',''\n",
    "        for j in range(N):\n",
    "            je90 += str(graph90[i][j])\n",
    "            je180 += str(graph180[i][j])\n",
    "            je270 += str(graph270[i][j])\n",
    "        jechul[i][0] = je90\n",
    "        jechul[i][1] = je180\n",
    "        jechul[i][2] = je270\n",
    "    for i in range(N):\n",
    "        for j in range(3):\n",
    "            print(jechul[i][j],end=' ')\n",
    "        print()\n",
    "\n"
   ]
  }
 ],
 "metadata": {
  "kernelspec": {
   "display_name": "Python 3.9.13 64-bit",
   "language": "python",
   "name": "python3"
  },
  "language_info": {
   "codemirror_mode": {
    "name": "ipython",
    "version": 3
   },
   "file_extension": ".py",
   "mimetype": "text/x-python",
   "name": "python",
   "nbconvert_exporter": "python",
   "pygments_lexer": "ipython3",
   "version": "3.9.13"
  },
  "orig_nbformat": 4,
  "vscode": {
   "interpreter": {
    "hash": "b0fa6594d8f4cbf19f97940f81e996739fb7646882a419484c72d19e05852a7e"
   }
  }
 },
 "nbformat": 4,
 "nbformat_minor": 2
}
