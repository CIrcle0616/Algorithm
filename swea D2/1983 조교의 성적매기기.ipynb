{
 "cells": [
  {
   "cell_type": "code",
   "execution_count": 20,
   "metadata": {},
   "outputs": [
    {
     "ename": "ValueError",
     "evalue": "invalid literal for int() with base 10: ''",
     "output_type": "error",
     "traceback": [
      "\u001b[0;31m---------------------------------------------------------------------------\u001b[0m",
      "\u001b[0;31mValueError\u001b[0m                                Traceback (most recent call last)",
      "\u001b[1;32m/Users/owl/Desktop/Algorithm/swea D2/1983 조교의 성적매기기.ipynb 셀 1\u001b[0m in \u001b[0;36m<cell line: 2>\u001b[0;34m()\u001b[0m\n\u001b[1;32m      <a href='vscode-notebook-cell:/Users/owl/Desktop/Algorithm/swea%20D2/1983%20%EC%A1%B0%EA%B5%90%EC%9D%98%20%EC%84%B1%EC%A0%81%EB%A7%A4%EA%B8%B0%EA%B8%B0.ipynb#W1sZmlsZQ%3D%3D?line=0'>1</a>\u001b[0m \u001b[39m#1983 조교의 성적 매기기\u001b[39;00m\n\u001b[0;32m----> <a href='vscode-notebook-cell:/Users/owl/Desktop/Algorithm/swea%20D2/1983%20%EC%A1%B0%EA%B5%90%EC%9D%98%20%EC%84%B1%EC%A0%81%EB%A7%A4%EA%B8%B0%EA%B8%B0.ipynb#W1sZmlsZQ%3D%3D?line=1'>2</a>\u001b[0m T \u001b[39m=\u001b[39m \u001b[39mint\u001b[39;49m(\u001b[39minput\u001b[39;49m())\n\u001b[1;32m      <a href='vscode-notebook-cell:/Users/owl/Desktop/Algorithm/swea%20D2/1983%20%EC%A1%B0%EA%B5%90%EC%9D%98%20%EC%84%B1%EC%A0%81%EB%A7%A4%EA%B8%B0%EA%B8%B0.ipynb#W1sZmlsZQ%3D%3D?line=2'>3</a>\u001b[0m grade \u001b[39m=\u001b[39m [\u001b[39m\"\u001b[39m\u001b[39mA+\u001b[39m\u001b[39m\"\u001b[39m,\u001b[39m\"\u001b[39m\u001b[39mA0\u001b[39m\u001b[39m\"\u001b[39m,\u001b[39m\"\u001b[39m\u001b[39mA-\u001b[39m\u001b[39m\"\u001b[39m,\u001b[39m\"\u001b[39m\u001b[39mB+\u001b[39m\u001b[39m\"\u001b[39m,\u001b[39m\"\u001b[39m\u001b[39mB0\u001b[39m\u001b[39m\"\u001b[39m,\u001b[39m\"\u001b[39m\u001b[39mB-\u001b[39m\u001b[39m\"\u001b[39m,\u001b[39m\"\u001b[39m\u001b[39mC+\u001b[39m\u001b[39m\"\u001b[39m,\u001b[39m\"\u001b[39m\u001b[39mC0\u001b[39m\u001b[39m\"\u001b[39m,\u001b[39m\"\u001b[39m\u001b[39mC-\u001b[39m\u001b[39m\"\u001b[39m,\u001b[39m\"\u001b[39m\u001b[39mD0\u001b[39m\u001b[39m\"\u001b[39m]\n\u001b[1;32m      <a href='vscode-notebook-cell:/Users/owl/Desktop/Algorithm/swea%20D2/1983%20%EC%A1%B0%EA%B5%90%EC%9D%98%20%EC%84%B1%EC%A0%81%EB%A7%A4%EA%B8%B0%EA%B8%B0.ipynb#W1sZmlsZQ%3D%3D?line=3'>4</a>\u001b[0m \u001b[39mfor\u001b[39;00m t \u001b[39min\u001b[39;00m \u001b[39mrange\u001b[39m(\u001b[39m1\u001b[39m,T\u001b[39m+\u001b[39m\u001b[39m1\u001b[39m):\n",
      "\u001b[0;31mValueError\u001b[0m: invalid literal for int() with base 10: ''"
     ]
    }
   ],
   "source": [
    "#1983 조교의 성적 매기기\n",
    "T = int(input())\n",
    "grade = [\"A+\",\"A0\",\"A-\",\"B+\",\"B0\",\"B-\",\"C+\",\"C0\",\"C-\",\"D0\"]\n",
    "for t in range(1,T+1):\n",
    "    N,K = map(int,input().split())\n",
    "    a = []\n",
    "    for i in range(N):\n",
    "        b,c,d = map(int,input().split())\n",
    "        a.append(0.35*b + 0.45*c + 0.2*d)\n",
    "    stu = a[K-1]\n",
    "    a.sort(reverse=True)\n",
    "    n = N//10\n",
    "    sung = grade[a.index(stu)//n]\n",
    "    print(f\"#{t} {sung}\")\n",
    "    \n",
    "    \n",
    "    "
   ]
  },
  {
   "cell_type": "code",
   "execution_count": 10,
   "metadata": {},
   "outputs": [],
   "source": [
    "a = {1:90,2:30}\n",
    "a1 = dict(sorted(a.items(),reverse=True))"
   ]
  },
  {
   "cell_type": "code",
   "execution_count": 23,
   "metadata": {},
   "outputs": [
    {
     "data": {
      "text/plain": [
       "0"
      ]
     },
     "execution_count": 23,
     "metadata": {},
     "output_type": "execute_result"
    }
   ],
   "source": [
    "3//4"
   ]
  }
 ],
 "metadata": {
  "kernelspec": {
   "display_name": "Python 3.9.13 64-bit",
   "language": "python",
   "name": "python3"
  },
  "language_info": {
   "codemirror_mode": {
    "name": "ipython",
    "version": 3
   },
   "file_extension": ".py",
   "mimetype": "text/x-python",
   "name": "python",
   "nbconvert_exporter": "python",
   "pygments_lexer": "ipython3",
   "version": "3.9.13"
  },
  "orig_nbformat": 4,
  "vscode": {
   "interpreter": {
    "hash": "b0fa6594d8f4cbf19f97940f81e996739fb7646882a419484c72d19e05852a7e"
   }
  }
 },
 "nbformat": 4,
 "nbformat_minor": 2
}
