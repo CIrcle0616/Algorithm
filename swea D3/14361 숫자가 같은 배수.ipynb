{
 "cells": [
  {
   "cell_type": "code",
   "execution_count": 14,
   "metadata": {},
   "outputs": [
    {
     "name": "stdout",
     "output_type": "stream",
     "text": [
      "#1 possible\n",
      "#2 impossible\n",
      "#3 possible\n"
     ]
    }
   ],
   "source": [
    "#14361 숫자가 같은 배수\n",
    "T = int(input())\n",
    "for t in range(1,T+1):\n",
    "    N = int(input())\n",
    "    a = len(str(N))\n",
    "    cnt_N = {}\n",
    "    for i in str(N):\n",
    "        if i not in cnt_N:\n",
    "            cnt_N[i] = 1\n",
    "        else:\n",
    "            cnt_N[i] += 1\n",
    "    k = 2\n",
    "    newN = N * k\n",
    "    possiblity = 'impossible'\n",
    "    while len(str(newN)) == a:\n",
    "        cnt_newN = {}\n",
    "        for i in str(newN):\n",
    "            if i not in cnt_newN:\n",
    "                cnt_newN[i] = 1\n",
    "            else:\n",
    "                cnt_newN[i] += 1\n",
    "        if cnt_N == cnt_newN:\n",
    "            possiblity = 'possible'\n",
    "        k += 1\n",
    "        newN = N * k\n",
    "    print(f'#{t} {possiblity}')\n",
    "\n"
   ]
  },
  {
   "cell_type": "code",
   "execution_count": 12,
   "metadata": {},
   "outputs": [
    {
     "data": {
      "text/plain": [
       "{'1': 1, '4': 1, '2': 1, '8': 1, '5': 1, '7': 1}"
      ]
     },
     "execution_count": 12,
     "metadata": {},
     "output_type": "execute_result"
    }
   ],
   "source": [
    "cnt_N"
   ]
  }
 ],
 "metadata": {
  "kernelspec": {
   "display_name": "Python 3.9.13 64-bit",
   "language": "python",
   "name": "python3"
  },
  "language_info": {
   "codemirror_mode": {
    "name": "ipython",
    "version": 3
   },
   "file_extension": ".py",
   "mimetype": "text/x-python",
   "name": "python",
   "nbconvert_exporter": "python",
   "pygments_lexer": "ipython3",
   "version": "3.9.13"
  },
  "orig_nbformat": 4,
  "vscode": {
   "interpreter": {
    "hash": "b0fa6594d8f4cbf19f97940f81e996739fb7646882a419484c72d19e05852a7e"
   }
  }
 },
 "nbformat": 4,
 "nbformat_minor": 2
}
