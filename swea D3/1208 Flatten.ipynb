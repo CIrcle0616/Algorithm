{
 "cells": [
  {
   "cell_type": "code",
   "execution_count": null,
   "metadata": {},
   "outputs": [],
   "source": [
    "#1208 Flatten\n",
    "for t in range(1,11):\n",
    "    dump = int(input())\n",
    "    graph = list(map(int,input().split()))\n",
    "    for i in range(dump):\n",
    "        graph.sort()\n",
    "        graph[0] = graph[0] + 1\n",
    "        graph[-1] = graph[-1] - 1\n",
    "        graph.sort()\n",
    "        if i == dump - 1:\n",
    "            cha = graph[-1] - graph[0]\n",
    "    print(f'#{t} {cha}')"
   ]
  }
 ],
 "metadata": {
  "kernelspec": {
   "display_name": "Python 3.9.13 64-bit",
   "language": "python",
   "name": "python3"
  },
  "language_info": {
   "name": "python",
   "version": "3.9.13"
  },
  "orig_nbformat": 4,
  "vscode": {
   "interpreter": {
    "hash": "b0fa6594d8f4cbf19f97940f81e996739fb7646882a419484c72d19e05852a7e"
   }
  }
 },
 "nbformat": 4,
 "nbformat_minor": 2
}
