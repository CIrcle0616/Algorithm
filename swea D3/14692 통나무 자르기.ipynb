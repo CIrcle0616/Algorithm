{
 "cells": [
  {
   "cell_type": "code",
   "execution_count": 11,
   "metadata": {},
   "outputs": [
    {
     "name": "stdout",
     "output_type": "stream",
     "text": [
      "#1 Alice\n",
      "#2 Bob\n",
      "#3 Alice\n",
      "#4 Alice\n",
      "#5 Alice\n"
     ]
    }
   ],
   "source": [
    "#14692 통나무 자르기\n",
    "T = int(input())\n",
    "length = int\n",
    "def tong(leng):\n",
    "    if leng % 2 == 0: return \"Alice\"\n",
    "    if leng % 2 != 0: return \"Bob\"\n",
    "for t in range(1,T+1):\n",
    "    n = int(input())\n",
    "    print(f'#{t} {tong(n)}')\n",
    "\n",
    "    "
   ]
  },
  {
   "cell_type": "code",
   "execution_count": 9,
   "metadata": {},
   "outputs": [
    {
     "data": {
      "text/plain": [
       "'Alice'"
      ]
     },
     "execution_count": 9,
     "metadata": {},
     "output_type": "execute_result"
    }
   ],
   "source": [
    "def tong(leng):\n",
    "    if leng % 2 == 0: return \"Alice\"\n",
    "    if leng % 2 != 0: return \"Bob\"\n",
    "tong(100)"
   ]
  }
 ],
 "metadata": {
  "kernelspec": {
   "display_name": "Python 3.9.13 64-bit",
   "language": "python",
   "name": "python3"
  },
  "language_info": {
   "codemirror_mode": {
    "name": "ipython",
    "version": 3
   },
   "file_extension": ".py",
   "mimetype": "text/x-python",
   "name": "python",
   "nbconvert_exporter": "python",
   "pygments_lexer": "ipython3",
   "version": "3.9.13"
  },
  "orig_nbformat": 4,
  "vscode": {
   "interpreter": {
    "hash": "b0fa6594d8f4cbf19f97940f81e996739fb7646882a419484c72d19e05852a7e"
   }
  }
 },
 "nbformat": 4,
 "nbformat_minor": 2
}
