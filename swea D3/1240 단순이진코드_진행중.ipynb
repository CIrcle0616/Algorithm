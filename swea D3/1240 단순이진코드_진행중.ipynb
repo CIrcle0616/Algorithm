{
 "cells": [
  {
   "cell_type": "code",
   "execution_count": null,
   "metadata": {},
   "outputs": [],
   "source": [
    "# 1240 단순 2진 암호코드\n",
    "T = int(input())\n",
    "codeList = {0:[0,0,0,1,1,0,1],1:[0,0,1,1,0,0,1],2:[0,0,1,0,0,1,1],\n",
    "3:[0,1,1,1,1,0,1],4:[0,1,0,0,0,1,1],5:[0,1,1,0,0,0,1],6:[0,1,0,1,1,1,1],\n",
    "7:[0,1,1,1,0,1,1],8:[0,1,1,0,1,1,1],9:[0,0,0,1,0,1,1]}\n",
    "for t in range(1,T+1):\n",
    "    N, M = map(int,input().split())\n",
    "    password = [list(map(int,input())) for _ in range(N)]\n",
    "    extCode = []\n",
    "    for i in range(N):\n",
    "        if 1 in password[i]:\n",
    "            for j in range(M):\n",
    "                if password[i][j] == 1:\n",
    "                    last = j\n",
    "            ext = password[i][last-55:last+1]\n",
    "            for j in range(1,8):\n",
    "                for k in range(10):\n",
    "                    if codeList[k] == ext[(j-1)*8:j*8-1]:\n",
    "                        extCode.append(k)\n",
    "                        if len(extCode) == 8:\n",
    "                            break\n",
    "                    if len(extCode) == 8:\n",
    "                        break\n",
    "                if len(extCode) == 8:\n",
    "                    break\n",
    "            if len(extCode) == 8:\n",
    "                break\n",
    "        if len(extCode) == 8:\n",
    "            break\n",
    "    corrCode = 0\n",
    "    a = (extCode[0] + extCode[2] + extCode[4] + extCode[6]) * 3\n",
    "    b = extCode[1] + extCode[3] + extCode[5] + extCode[7]\n",
    "    if (a + b) % 10 == 0:\n",
    "        corrCode = a//3 + b\n",
    "    print(f'#{t} {corrCode}')\n",
    "\n",
    "                \n"
   ]
  },
  {
   "cell_type": "code",
   "execution_count": 6,
   "metadata": {},
   "outputs": [],
   "source": [
    "lst = [list(map(int,input())) for _ in range(2)]"
   ]
  },
  {
   "cell_type": "code",
   "execution_count": 9,
   "metadata": {},
   "outputs": [
    {
     "data": {
      "text/plain": [
       "[1, 2]"
      ]
     },
     "execution_count": 9,
     "metadata": {},
     "output_type": "execute_result"
    }
   ],
   "source": [
    "lst[0][0:2]"
   ]
  }
 ],
 "metadata": {
  "kernelspec": {
   "display_name": "Python 3.9.13 64-bit",
   "language": "python",
   "name": "python3"
  },
  "language_info": {
   "codemirror_mode": {
    "name": "ipython",
    "version": 3
   },
   "file_extension": ".py",
   "mimetype": "text/x-python",
   "name": "python",
   "nbconvert_exporter": "python",
   "pygments_lexer": "ipython3",
   "version": "3.9.13"
  },
  "orig_nbformat": 4,
  "vscode": {
   "interpreter": {
    "hash": "b0fa6594d8f4cbf19f97940f81e996739fb7646882a419484c72d19e05852a7e"
   }
  }
 },
 "nbformat": 4,
 "nbformat_minor": 2
}
