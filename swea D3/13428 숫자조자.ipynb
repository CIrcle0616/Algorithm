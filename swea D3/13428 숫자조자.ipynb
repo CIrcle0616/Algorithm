{
 "cells": [
  {
   "cell_type": "code",
   "execution_count": null,
   "metadata": {},
   "outputs": [],
   "source": [
    "#13428 숫자조작\n",
    "T = int(input())\n",
    "for t in range(1,T+1):\n",
    "    N = input()\n",
    "    low, high = int(N), int(N)\n",
    "    N = [N]\n",
    "    for i in range(len(N)):\n",
    "        "
   ]
  }
 ],
 "metadata": {
  "kernelspec": {
   "display_name": "Python 3.9.13 64-bit",
   "language": "python",
   "name": "python3"
  },
  "language_info": {
   "name": "python",
   "version": "3.9.13"
  },
  "orig_nbformat": 4,
  "vscode": {
   "interpreter": {
    "hash": "b0fa6594d8f4cbf19f97940f81e996739fb7646882a419484c72d19e05852a7e"
   }
  }
 },
 "nbformat": 4,
 "nbformat_minor": 2
}
