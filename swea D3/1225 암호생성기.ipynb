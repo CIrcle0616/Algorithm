{
 "cells": [
  {
   "cell_type": "code",
   "execution_count": null,
   "metadata": {},
   "outputs": [],
   "source": [
    "# 1225 암호생성기\n",
    "from collections import deque\n",
    "for t in range(1,11):\n",
    "    a = input()\n",
    "    nums = list(map(int,input().split()))\n",
    "    nums = deque(nums)\n",
    "    while True:\n",
    "        breaker = False\n",
    "        for i in range(1,6):\n",
    "            a = nums.popleft()\n",
    "            a = a - i\n",
    "            if a <= 0:\n",
    "                a = 0\n",
    "                nums.append(a)\n",
    "                breaker = True\n",
    "                break\n",
    "            nums.append(a)\n",
    "        if breaker == True: \n",
    "            break\n",
    "    b = ''\n",
    "    while nums:\n",
    "        b += str(nums.popleft()) + ' '\n",
    "    print(f'#{t} {b}')\n"
   ]
  }
 ],
 "metadata": {
  "kernelspec": {
   "display_name": "Python 3.9.13 64-bit",
   "language": "python",
   "name": "python3"
  },
  "language_info": {
   "codemirror_mode": {
    "name": "ipython",
    "version": 3
   },
   "file_extension": ".py",
   "mimetype": "text/x-python",
   "name": "python",
   "nbconvert_exporter": "python",
   "pygments_lexer": "ipython3",
   "version": "3.9.13"
  },
  "orig_nbformat": 4,
  "vscode": {
   "interpreter": {
    "hash": "b0fa6594d8f4cbf19f97940f81e996739fb7646882a419484c72d19e05852a7e"
   }
  }
 },
 "nbformat": 4,
 "nbformat_minor": 2
}
