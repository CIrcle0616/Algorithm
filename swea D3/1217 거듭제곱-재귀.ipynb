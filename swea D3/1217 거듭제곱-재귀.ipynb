{
 "cells": [
  {
   "cell_type": "code",
   "execution_count": null,
   "metadata": {},
   "outputs": [],
   "source": [
    "#1217 거듭제곱\n",
    "def square(N,M):\n",
    "    if M == 1: return N\n",
    "    if M % 2 == 0: return square(N,M//2)*square(N,M//2)\n",
    "    if M % 2 == 1: return square(N,1)*square(N,(M-1)//2)*square(N,(M-1)//2)\n",
    "#M = 1 일때 재귀종료 조건 M이 짝수나 홀수이냐에 따라서 재귀 조건을 다르게 줌\n",
    "for tc in range(1,11): #tc가 10개\n",
    "    N, M = map(int,input().split())\n",
    "    print(f'#{tc} {square(N,M)}')"
   ]
  },
  {
   "cell_type": "code",
   "execution_count": 3,
   "metadata": {},
   "outputs": [
    {
     "data": {
      "text/plain": [
       "43046721"
      ]
     },
     "execution_count": 3,
     "metadata": {},
     "output_type": "execute_result"
    }
   ],
   "source": [
    "square(9,8)"
   ]
  }
 ],
 "metadata": {
  "kernelspec": {
   "display_name": "Python 3.9.13 64-bit",
   "language": "python",
   "name": "python3"
  },
  "language_info": {
   "codemirror_mode": {
    "name": "ipython",
    "version": 3
   },
   "file_extension": ".py",
   "mimetype": "text/x-python",
   "name": "python",
   "nbconvert_exporter": "python",
   "pygments_lexer": "ipython3",
   "version": "3.9.13"
  },
  "orig_nbformat": 4,
  "vscode": {
   "interpreter": {
    "hash": "b0fa6594d8f4cbf19f97940f81e996739fb7646882a419484c72d19e05852a7e"
   }
  }
 },
 "nbformat": 4,
 "nbformat_minor": 2
}
