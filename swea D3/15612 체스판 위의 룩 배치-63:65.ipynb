{
 "cells": [
  {
   "cell_type": "code",
   "execution_count": null,
   "metadata": {},
   "outputs": [],
   "source": [
    "# 15612 체스판 위의 룩 배치\n",
    "T = int(input())\n",
    "for t in range(1,T+1):\n",
    "    graph = [list(input()) for _ in range(8)]\n",
    "    y = []\n",
    "    x = []\n",
    "    cnt = 0\n",
    "    out = ''\n",
    "    for i in range(8):\n",
    "        for j in range(8):\n",
    "            if graph[i][j] == 'O':\n",
    "                cnt += 1\n",
    "                if i in y or j in x:\n",
    "                    out = 'no'\n",
    "                    break\n",
    "                y.append(i)\n",
    "                x.append(j)\n",
    "        if out == 'no':\n",
    "            break\n",
    "    if cnt == 8 and out == '':\n",
    "        out = 'yes'\n",
    "    else:\n",
    "        out = 'no'\n",
    "    print(f'#{t} {out}')\n"
   ]
  },
  {
   "cell_type": "code",
   "execution_count": 19,
   "metadata": {},
   "outputs": [
    {
     "name": "stdout",
     "output_type": "stream",
     "text": [
      "#1 yes\n"
     ]
    }
   ],
   "source": [
    "T = int(input())\n",
    "for t in range(1,T+1):\n",
    "    graph = [list(input()) for _ in range(8)]\n",
    "    y = []\n",
    "    x = []\n",
    "    cnt = 0\n",
    "    for i in range(8):\n",
    "        for j in range(8):\n",
    "            if graph[i][j] == 'O':\n",
    "                cnt += 1\n",
    "                if i in y or j in x:\n",
    "                    out = 'no'\n",
    "                    break\n",
    "                y.append(i)\n",
    "                x.append(j)\n",
    "    a = (y == [0,1,2,3,4,5,6,7])\n",
    "    b = (x == [0,1,2,3,4,5,6,7])\n",
    "    if cnt == 8 and a == True and b == True:\n",
    "        out = 'yes'\n",
    "    print(f'#{t} {out}')"
   ]
  },
  {
   "cell_type": "code",
   "execution_count": 21,
   "metadata": {},
   "outputs": [
    {
     "data": {
      "text/plain": [
       "True"
      ]
     },
     "execution_count": 21,
     "metadata": {},
     "output_type": "execute_result"
    }
   ],
   "source": [
    "T = int(input())\n",
    "for t in range(1,T+1):\n",
    "    graph = [list(input()) for _ in range(8)]\n",
    "    y = []\n",
    "    x = []\n",
    "    cnt = 0\n",
    "    for i in range(8):\n",
    "        for j in range(8):\n",
    "            if graph[i][j] == 'O':\n",
    "                cnt += 1\n",
    "                y.append(i)\n",
    "                x.append(j)\n",
    "    a = (y == [0,1,2,3,4,5,6,7])\n",
    "    b = (x == [0,1,2,3,4,5,6,7])\n",
    "    if cnt == 8:\n",
    "        if a == True:\n",
    "            if b == True:\n",
    "        \t    out = 'yes'\n",
    "    else: \n",
    "    print(f'#{t} {out}')"
   ]
  },
  {
   "cell_type": "markdown",
   "metadata": {},
   "source": []
  },
  {
   "cell_type": "code",
   "execution_count": 9,
   "metadata": {},
   "outputs": [
    {
     "data": {
      "text/plain": [
       "9"
      ]
     },
     "execution_count": 9,
     "metadata": {},
     "output_type": "execute_result"
    }
   ],
   "source": [
    "cnt"
   ]
  }
 ],
 "metadata": {
  "kernelspec": {
   "display_name": "Python 3.9.13 64-bit",
   "language": "python",
   "name": "python3"
  },
  "language_info": {
   "codemirror_mode": {
    "name": "ipython",
    "version": 3
   },
   "file_extension": ".py",
   "mimetype": "text/x-python",
   "name": "python",
   "nbconvert_exporter": "python",
   "pygments_lexer": "ipython3",
   "version": "3.9.13"
  },
  "orig_nbformat": 4,
  "vscode": {
   "interpreter": {
    "hash": "b0fa6594d8f4cbf19f97940f81e996739fb7646882a419484c72d19e05852a7e"
   }
  }
 },
 "nbformat": 4,
 "nbformat_minor": 2
}
