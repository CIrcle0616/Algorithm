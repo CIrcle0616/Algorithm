{
 "cells": [
  {
   "cell_type": "code",
   "execution_count": 2,
   "metadata": {},
   "outputs": [
    {
     "ename": "KeyboardInterrupt",
     "evalue": "Interrupted by user",
     "output_type": "error",
     "traceback": [
      "\u001b[0;31m---------------------------------------------------------------------------\u001b[0m",
      "\u001b[0;31mKeyboardInterrupt\u001b[0m                         Traceback (most recent call last)",
      "\u001b[1;32m/Users/owl/Desktop/Algorithm/swea D3/15612 체스판 위의 룩 배치-63:65.ipynb 셀 1\u001b[0m in \u001b[0;36m<cell line: 4>\u001b[0;34m()\u001b[0m\n\u001b[1;32m      <a href='vscode-notebook-cell:/Users/owl/Desktop/Algorithm/swea%20D3/15612%20%EC%B2%B4%EC%8A%A4%ED%8C%90%20%EC%9C%84%EC%9D%98%20%EB%A3%A9%20%EB%B0%B0%EC%B9%98-63%3A65.ipynb#W0sZmlsZQ%3D%3D?line=2'>3</a>\u001b[0m a \u001b[39m=\u001b[39m [\u001b[39m0\u001b[39m,\u001b[39m1\u001b[39m,\u001b[39m2\u001b[39m,\u001b[39m3\u001b[39m,\u001b[39m4\u001b[39m,\u001b[39m5\u001b[39m,\u001b[39m6\u001b[39m,\u001b[39m7\u001b[39m]\n\u001b[1;32m      <a href='vscode-notebook-cell:/Users/owl/Desktop/Algorithm/swea%20D3/15612%20%EC%B2%B4%EC%8A%A4%ED%8C%90%20%EC%9C%84%EC%9D%98%20%EB%A3%A9%20%EB%B0%B0%EC%B9%98-63%3A65.ipynb#W0sZmlsZQ%3D%3D?line=3'>4</a>\u001b[0m \u001b[39mfor\u001b[39;00m t \u001b[39min\u001b[39;00m \u001b[39mrange\u001b[39m(\u001b[39m1\u001b[39m,T\u001b[39m+\u001b[39m\u001b[39m1\u001b[39m):\n\u001b[0;32m----> <a href='vscode-notebook-cell:/Users/owl/Desktop/Algorithm/swea%20D3/15612%20%EC%B2%B4%EC%8A%A4%ED%8C%90%20%EC%9C%84%EC%9D%98%20%EB%A3%A9%20%EB%B0%B0%EC%B9%98-63%3A65.ipynb#W0sZmlsZQ%3D%3D?line=4'>5</a>\u001b[0m     graph \u001b[39m=\u001b[39m [\u001b[39mlist\u001b[39m(\u001b[39minput\u001b[39m()) \u001b[39mfor\u001b[39;00m _ \u001b[39min\u001b[39;00m \u001b[39mrange\u001b[39m(\u001b[39m8\u001b[39m)]\n\u001b[1;32m      <a href='vscode-notebook-cell:/Users/owl/Desktop/Algorithm/swea%20D3/15612%20%EC%B2%B4%EC%8A%A4%ED%8C%90%20%EC%9C%84%EC%9D%98%20%EB%A3%A9%20%EB%B0%B0%EC%B9%98-63%3A65.ipynb#W0sZmlsZQ%3D%3D?line=5'>6</a>\u001b[0m     y \u001b[39m=\u001b[39m []\n\u001b[1;32m      <a href='vscode-notebook-cell:/Users/owl/Desktop/Algorithm/swea%20D3/15612%20%EC%B2%B4%EC%8A%A4%ED%8C%90%20%EC%9C%84%EC%9D%98%20%EB%A3%A9%20%EB%B0%B0%EC%B9%98-63%3A65.ipynb#W0sZmlsZQ%3D%3D?line=6'>7</a>\u001b[0m     x \u001b[39m=\u001b[39m []\n",
      "\u001b[1;32m/Users/owl/Desktop/Algorithm/swea D3/15612 체스판 위의 룩 배치-63:65.ipynb 셀 1\u001b[0m in \u001b[0;36m<listcomp>\u001b[0;34m(.0)\u001b[0m\n\u001b[1;32m      <a href='vscode-notebook-cell:/Users/owl/Desktop/Algorithm/swea%20D3/15612%20%EC%B2%B4%EC%8A%A4%ED%8C%90%20%EC%9C%84%EC%9D%98%20%EB%A3%A9%20%EB%B0%B0%EC%B9%98-63%3A65.ipynb#W0sZmlsZQ%3D%3D?line=2'>3</a>\u001b[0m a \u001b[39m=\u001b[39m [\u001b[39m0\u001b[39m,\u001b[39m1\u001b[39m,\u001b[39m2\u001b[39m,\u001b[39m3\u001b[39m,\u001b[39m4\u001b[39m,\u001b[39m5\u001b[39m,\u001b[39m6\u001b[39m,\u001b[39m7\u001b[39m]\n\u001b[1;32m      <a href='vscode-notebook-cell:/Users/owl/Desktop/Algorithm/swea%20D3/15612%20%EC%B2%B4%EC%8A%A4%ED%8C%90%20%EC%9C%84%EC%9D%98%20%EB%A3%A9%20%EB%B0%B0%EC%B9%98-63%3A65.ipynb#W0sZmlsZQ%3D%3D?line=3'>4</a>\u001b[0m \u001b[39mfor\u001b[39;00m t \u001b[39min\u001b[39;00m \u001b[39mrange\u001b[39m(\u001b[39m1\u001b[39m,T\u001b[39m+\u001b[39m\u001b[39m1\u001b[39m):\n\u001b[0;32m----> <a href='vscode-notebook-cell:/Users/owl/Desktop/Algorithm/swea%20D3/15612%20%EC%B2%B4%EC%8A%A4%ED%8C%90%20%EC%9C%84%EC%9D%98%20%EB%A3%A9%20%EB%B0%B0%EC%B9%98-63%3A65.ipynb#W0sZmlsZQ%3D%3D?line=4'>5</a>\u001b[0m     graph \u001b[39m=\u001b[39m [\u001b[39mlist\u001b[39m(\u001b[39minput\u001b[39;49m()) \u001b[39mfor\u001b[39;00m _ \u001b[39min\u001b[39;00m \u001b[39mrange\u001b[39m(\u001b[39m8\u001b[39m)]\n\u001b[1;32m      <a href='vscode-notebook-cell:/Users/owl/Desktop/Algorithm/swea%20D3/15612%20%EC%B2%B4%EC%8A%A4%ED%8C%90%20%EC%9C%84%EC%9D%98%20%EB%A3%A9%20%EB%B0%B0%EC%B9%98-63%3A65.ipynb#W0sZmlsZQ%3D%3D?line=5'>6</a>\u001b[0m     y \u001b[39m=\u001b[39m []\n\u001b[1;32m      <a href='vscode-notebook-cell:/Users/owl/Desktop/Algorithm/swea%20D3/15612%20%EC%B2%B4%EC%8A%A4%ED%8C%90%20%EC%9C%84%EC%9D%98%20%EB%A3%A9%20%EB%B0%B0%EC%B9%98-63%3A65.ipynb#W0sZmlsZQ%3D%3D?line=6'>7</a>\u001b[0m     x \u001b[39m=\u001b[39m []\n",
      "File \u001b[0;32m/opt/homebrew/lib/python3.9/site-packages/ipykernel/kernelbase.py:1177\u001b[0m, in \u001b[0;36mKernel.raw_input\u001b[0;34m(self, prompt)\u001b[0m\n\u001b[1;32m   1173\u001b[0m \u001b[39mif\u001b[39;00m \u001b[39mnot\u001b[39;00m \u001b[39mself\u001b[39m\u001b[39m.\u001b[39m_allow_stdin:\n\u001b[1;32m   1174\u001b[0m     \u001b[39mraise\u001b[39;00m StdinNotImplementedError(\n\u001b[1;32m   1175\u001b[0m         \u001b[39m\"\u001b[39m\u001b[39mraw_input was called, but this frontend does not support input requests.\u001b[39m\u001b[39m\"\u001b[39m\n\u001b[1;32m   1176\u001b[0m     )\n\u001b[0;32m-> 1177\u001b[0m \u001b[39mreturn\u001b[39;00m \u001b[39mself\u001b[39;49m\u001b[39m.\u001b[39;49m_input_request(\n\u001b[1;32m   1178\u001b[0m     \u001b[39mstr\u001b[39;49m(prompt),\n\u001b[1;32m   1179\u001b[0m     \u001b[39mself\u001b[39;49m\u001b[39m.\u001b[39;49m_parent_ident[\u001b[39m\"\u001b[39;49m\u001b[39mshell\u001b[39;49m\u001b[39m\"\u001b[39;49m],\n\u001b[1;32m   1180\u001b[0m     \u001b[39mself\u001b[39;49m\u001b[39m.\u001b[39;49mget_parent(\u001b[39m\"\u001b[39;49m\u001b[39mshell\u001b[39;49m\u001b[39m\"\u001b[39;49m),\n\u001b[1;32m   1181\u001b[0m     password\u001b[39m=\u001b[39;49m\u001b[39mFalse\u001b[39;49;00m,\n\u001b[1;32m   1182\u001b[0m )\n",
      "File \u001b[0;32m/opt/homebrew/lib/python3.9/site-packages/ipykernel/kernelbase.py:1219\u001b[0m, in \u001b[0;36mKernel._input_request\u001b[0;34m(self, prompt, ident, parent, password)\u001b[0m\n\u001b[1;32m   1216\u001b[0m             \u001b[39mbreak\u001b[39;00m\n\u001b[1;32m   1217\u001b[0m \u001b[39mexcept\u001b[39;00m \u001b[39mKeyboardInterrupt\u001b[39;00m:\n\u001b[1;32m   1218\u001b[0m     \u001b[39m# re-raise KeyboardInterrupt, to truncate traceback\u001b[39;00m\n\u001b[0;32m-> 1219\u001b[0m     \u001b[39mraise\u001b[39;00m \u001b[39mKeyboardInterrupt\u001b[39;00m(\u001b[39m\"\u001b[39m\u001b[39mInterrupted by user\u001b[39m\u001b[39m\"\u001b[39m) \u001b[39mfrom\u001b[39;00m \u001b[39mNone\u001b[39m\n\u001b[1;32m   1220\u001b[0m \u001b[39mexcept\u001b[39;00m \u001b[39mException\u001b[39;00m:\n\u001b[1;32m   1221\u001b[0m     \u001b[39mself\u001b[39m\u001b[39m.\u001b[39mlog\u001b[39m.\u001b[39mwarning(\u001b[39m\"\u001b[39m\u001b[39mInvalid Message:\u001b[39m\u001b[39m\"\u001b[39m, exc_info\u001b[39m=\u001b[39m\u001b[39mTrue\u001b[39;00m)\n",
      "\u001b[0;31mKeyboardInterrupt\u001b[0m: Interrupted by user"
     ]
    }
   ],
   "source": [
    "# 15612 체스판 위의 룩 배치\n",
    "T = int(input())\n",
    "for t in range(1,T+1):\n",
    "    graph = [list(input()) for _ in range(8)]\n",
    "    y = []\n",
    "    x = []\n",
    "    cnt = 0\n",
    "    out = ''\n",
    "    for i in range(8):\n",
    "        for j in range(8):\n",
    "            if graph[i][j] == 'O':\n",
    "                cnt += 1\n",
    "                if i in y or j in x:\n",
    "                    out = 'no'\n",
    "                    break\n",
    "                y.append(i)\n",
    "                x.append(j)\n",
    "        if out == 'no':\n",
    "            break\n",
    "    if cnt == 8 and out == '':\n",
    "        out = 'yes'\n",
    "    else:\n",
    "        out = 'no'\n",
    "    print(f'#{t} {out}')\n"
   ]
  },
  {
   "cell_type": "code",
   "execution_count": 19,
   "metadata": {},
   "outputs": [
    {
     "name": "stdout",
     "output_type": "stream",
     "text": [
      "#1 yes\n"
     ]
    }
   ],
   "source": [
    "T = int(input())\n",
    "for t in range(1,T+1):\n",
    "    graph = [list(input()) for _ in range(8)]\n",
    "    y = []\n",
    "    x = []\n",
    "    cnt = 0\n",
    "    for i in range(8):\n",
    "        for j in range(8):\n",
    "            if graph[i][j] == 'O':\n",
    "                cnt += 1\n",
    "                if i in y or j in x:\n",
    "                    out = 'no'\n",
    "                    break\n",
    "                y.append(i)\n",
    "                x.append(j)\n",
    "    a = (y == [0,1,2,3,4,5,6,7])\n",
    "    b = (x == [0,1,2,3,4,5,6,7])\n",
    "    if cnt == 8 and a == True and b == True:\n",
    "        out = 'yes'\n",
    "    print(f'#{t} {out}')"
   ]
  },
  {
   "cell_type": "code",
   "execution_count": 21,
   "metadata": {},
   "outputs": [
    {
     "data": {
      "text/plain": [
       "True"
      ]
     },
     "execution_count": 21,
     "metadata": {},
     "output_type": "execute_result"
    }
   ],
   "source": [
    "T = int(input())\n",
    "for t in range(1,T+1):\n",
    "    graph = [list(input()) for _ in range(8)]\n",
    "    y = []\n",
    "    x = []\n",
    "    cnt = 0\n",
    "    for i in range(8):\n",
    "        for j in range(8):\n",
    "            if graph[i][j] == 'O':\n",
    "                cnt += 1\n",
    "                y.append(i)\n",
    "                x.append(j)\n",
    "    a = (y == [0,1,2,3,4,5,6,7])\n",
    "    b = (x == [0,1,2,3,4,5,6,7])\n",
    "    if cnt == 8:\n",
    "        if a == True:\n",
    "            if b == True:\n",
    "        \t    out = 'yes'\n",
    "    else: \n",
    "    print(f'#{t} {out}')"
   ]
  },
  {
   "cell_type": "markdown",
   "metadata": {},
   "source": []
  },
  {
   "cell_type": "code",
   "execution_count": 9,
   "metadata": {},
   "outputs": [
    {
     "data": {
      "text/plain": [
       "9"
      ]
     },
     "execution_count": 9,
     "metadata": {},
     "output_type": "execute_result"
    }
   ],
   "source": [
    "cnt"
   ]
  }
 ],
 "metadata": {
  "kernelspec": {
   "display_name": "Python 3.9.13 64-bit",
   "language": "python",
   "name": "python3"
  },
  "language_info": {
   "codemirror_mode": {
    "name": "ipython",
    "version": 3
   },
   "file_extension": ".py",
   "mimetype": "text/x-python",
   "name": "python",
   "nbconvert_exporter": "python",
   "pygments_lexer": "ipython3",
   "version": "3.9.13"
  },
  "orig_nbformat": 4,
  "vscode": {
   "interpreter": {
    "hash": "b0fa6594d8f4cbf19f97940f81e996739fb7646882a419484c72d19e05852a7e"
   }
  }
 },
 "nbformat": 4,
 "nbformat_minor": 2
}
