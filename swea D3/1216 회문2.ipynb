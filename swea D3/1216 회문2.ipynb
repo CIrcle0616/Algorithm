{
 "cells": [
  {
   "cell_type": "code",
   "execution_count": 1,
   "metadata": {},
   "outputs": [
    {
     "ename": "IndentationError",
     "evalue": "expected an indented block (3772882648.py, line 6)",
     "output_type": "error",
     "traceback": [
      "\u001b[0;36m  Input \u001b[0;32mIn [1]\u001b[0;36m\u001b[0m\n\u001b[0;31m    \u001b[0m\n\u001b[0m    ^\u001b[0m\n\u001b[0;31mIndentationError\u001b[0m\u001b[0;31m:\u001b[0m expected an indented block\n"
     ]
    }
   ],
   "source": [
    "# 1217 회문2\n",
    "def is_palindrome(a):\n",
    "    if a == a[::-1]: \n",
    "        return True\n",
    "def cnt_palindrome_row(x):\n",
    "    for i in range(100,1,-1):\n",
    "        for j in range(100):\n",
    "            for k in range(100):\n",
    "                if i+k > 100:\n",
    "                    break\n",
    "                if is_palindrome(x[j][k:k+i]):\n",
    "                    return i \n",
    "\n",
    "for _ in range(10):\n",
    "    tc = int(input())\n",
    "    graph = [list(input()) for _ in range(100)]\n",
    "    row = cnt_palindrome_row(graph)\n",
    "    cols = list(zip(*graph))\n",
    "    col = cnt_palindrome_row(cols)\n",
    "    if row > col:\n",
    "        a = row\n",
    "    else:\n",
    "        a = col\n",
    "    print(f'#{tc} {a}')\n",
    "\n",
    "                    \n",
    "\n",
    "            "
   ]
  },
  {
   "cell_type": "code",
   "execution_count": 8,
   "metadata": {},
   "outputs": [
    {
     "data": {
      "text/plain": [
       "[0, 1, 2, 3, 4]"
      ]
     },
     "execution_count": 8,
     "metadata": {},
     "output_type": "execute_result"
    }
   ],
   "source": [
    "a = [[0,1,2,3,4],[5,6,7,8,9]]\n",
    "a[0:1][0]"
   ]
  }
 ],
 "metadata": {
  "kernelspec": {
   "display_name": "Python 3.9.13 64-bit",
   "language": "python",
   "name": "python3"
  },
  "language_info": {
   "codemirror_mode": {
    "name": "ipython",
    "version": 3
   },
   "file_extension": ".py",
   "mimetype": "text/x-python",
   "name": "python",
   "nbconvert_exporter": "python",
   "pygments_lexer": "ipython3",
   "version": "3.9.13"
  },
  "orig_nbformat": 4,
  "vscode": {
   "interpreter": {
    "hash": "b0fa6594d8f4cbf19f97940f81e996739fb7646882a419484c72d19e05852a7e"
   }
  }
 },
 "nbformat": 4,
 "nbformat_minor": 2
}
