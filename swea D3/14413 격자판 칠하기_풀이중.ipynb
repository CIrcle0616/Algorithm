{
 "cells": [
  {
   "cell_type": "code",
   "execution_count": 10,
   "metadata": {},
   "outputs": [
    {
     "name": "stdout",
     "output_type": "stream",
     "text": [
      "#1 impossible\n"
     ]
    }
   ],
   "source": [
    "# 14413 격자판 칠하기\n",
    "T = int(input())\n",
    "for t in range(1,T+1):\n",
    "    N, M = map(int,input().split())\n",
    "    graph = [list(input()) for _ in range(N)]\n",
    "    possibility = \"possible\"\n",
    "    gr = {'.':'#', '#':'.'}\n",
    "    for i in range(N):\n",
    "        prev = ''\n",
    "        for j in range(M):\n",
    "            if prev == '' and graph[i][j] == '?':\n",
    "                continue\n",
    "            if graph[i][j] == '?':\n",
    "                graph[i][j] = gr[prev]\n",
    "            elif prev == graph[i][j]:\n",
    "                possibility = 'impossible'\n",
    "                break\n",
    "            prev = graph[i][j]\n",
    "        if possibility == 'impossible':\n",
    "            break\n",
    "    print(f\"#{t} {possibility}\")\n"
   ]
  },
  {
   "cell_type": "code",
   "execution_count": 4,
   "metadata": {},
   "outputs": [
    {
     "data": {
      "text/plain": [
       "[['#', '.', '#', '.', '#', '.'],\n",
       " ['#', '#', '?', '?', '?', '?'],\n",
       " ['.', '#', '.', '.', '?', '?']]"
      ]
     },
     "execution_count": 4,
     "metadata": {},
     "output_type": "execute_result"
    }
   ],
   "source": [
    "graph"
   ]
  }
 ],
 "metadata": {
  "kernelspec": {
   "display_name": "Python 3.9.13 64-bit",
   "language": "python",
   "name": "python3"
  },
  "language_info": {
   "codemirror_mode": {
    "name": "ipython",
    "version": 3
   },
   "file_extension": ".py",
   "mimetype": "text/x-python",
   "name": "python",
   "nbconvert_exporter": "python",
   "pygments_lexer": "ipython3",
   "version": "3.9.13"
  },
  "orig_nbformat": 4,
  "vscode": {
   "interpreter": {
    "hash": "b0fa6594d8f4cbf19f97940f81e996739fb7646882a419484c72d19e05852a7e"
   }
  }
 },
 "nbformat": 4,
 "nbformat_minor": 2
}
