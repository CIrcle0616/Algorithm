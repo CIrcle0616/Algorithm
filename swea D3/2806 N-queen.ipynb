{
 "cells": [
  {
   "cell_type": "code",
   "execution_count": null,
   "metadata": {},
   "outputs": [],
   "source": [
    "#2806 N-Queen\n",
    "T = int(input())\n",
    "\n",
    "def is_promissing(x):\n",
    "    for i in range(x):\n",
    "        if row[x] == row[i] or abs(row[x] - row[i]) == abs(x-i):\n",
    "            return False\n",
    "    return True\n",
    "\n",
    "def n_queens(x):\n",
    "    global ans\n",
    "    if x == N:\n",
    "        ans += 1\n",
    "    else:\n",
    "        for i in range(N):\n",
    "            #[x, i]에 퀸을 놓겠다.\n",
    "            row[x] = i\n",
    "            if is_promissing(x):\n",
    "                n_queens(x+1)\n",
    "for tc in range(1,T+1):\n",
    "    N = int(input())\n",
    "    ans = 0\n",
    "    row = [0] * N\n",
    "    n_queens(0)\n",
    "    print(f'#{tc} {ans}')\n",
    "\n"
   ]
  }
 ],
 "metadata": {
  "kernelspec": {
   "display_name": "Python 3.9.13 64-bit",
   "language": "python",
   "name": "python3"
  },
  "language_info": {
   "name": "python",
   "version": "3.9.13"
  },
  "orig_nbformat": 4,
  "vscode": {
   "interpreter": {
    "hash": "b0fa6594d8f4cbf19f97940f81e996739fb7646882a419484c72d19e05852a7e"
   }
  }
 },
 "nbformat": 4,
 "nbformat_minor": 2
}
