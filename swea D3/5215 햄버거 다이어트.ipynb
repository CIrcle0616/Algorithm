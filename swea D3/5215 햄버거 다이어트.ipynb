{
 "cells": [
  {
   "cell_type": "code",
   "execution_count": null,
   "metadata": {},
   "outputs": [],
   "source": [
    "#5215 햄버거 다이어트\n",
    "def dfs(index, sTate, sKcal):\n",
    "    global maxTaste\n",
    "    #총 칼로리 넘으면 리턴\n",
    "    if sKcal > L:\n",
    "        return\n",
    "    #taste의 합이 제일 큰 taste 합보다 크면 갱신\n",
    "    if maxTaste < sTate:\n",
    "        maxTaste = sTate\n",
    "    #햄버거 재료 데이터를 다 돌면 리턴\n",
    "    if index == N:\n",
    "        return\n",
    "    #index 파라미터를 통해 taste, kcal 대입\n",
    "    taste, kcal = data[index]\n",
    "    #햄버거 재료 리스트에서 재료를 사용했을 때\n",
    "    dfs(index + 1, sTate + taste, sKcal + kcal)\n",
    "    #햄버거 재료 리스트에서 재료를 사용하지 않았을 때\n",
    "    dfs(index + 1, sTate, sKcal)\n",
    "\n",
    "t = int(input())\n",
    "for tc in range(1, t+1):\n",
    "    N, L = map(int,input().split())\n",
    "    data = [list(map(int,input().split())) for _ in range(N)]\n",
    "\n",
    "    maxTaste = 0\n",
    "    dfs(0,0,0)\n",
    "    print(\"#{} {}\",format(tc, maxTaste))"
   ]
  }
 ],
 "metadata": {
  "kernelspec": {
   "display_name": "Python 3.9.13 64-bit",
   "language": "python",
   "name": "python3"
  },
  "language_info": {
   "codemirror_mode": {
    "name": "ipython",
    "version": 3
   },
   "file_extension": ".py",
   "mimetype": "text/x-python",
   "name": "python",
   "nbconvert_exporter": "python",
   "pygments_lexer": "ipython3",
   "version": "3.9.13"
  },
  "orig_nbformat": 4,
  "vscode": {
   "interpreter": {
    "hash": "b0fa6594d8f4cbf19f97940f81e996739fb7646882a419484c72d19e05852a7e"
   }
  }
 },
 "nbformat": 4,
 "nbformat_minor": 2
}
