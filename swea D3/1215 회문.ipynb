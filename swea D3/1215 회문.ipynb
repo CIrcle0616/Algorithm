{
 "cells": [
  {
   "cell_type": "code",
   "execution_count": 1,
   "metadata": {},
   "outputs": [
    {
     "ename": "IndentationError",
     "evalue": "expected an indented block (2618541170.py, line 7)",
     "output_type": "error",
     "traceback": [
      "\u001b[0;36m  Input \u001b[0;32mIn [1]\u001b[0;36m\u001b[0m\n\u001b[0;31m    temp = graph[i][j] + graph[i][j+1] + graph[i][j+1] graph[i][j+1]\u001b[0m\n\u001b[0m    ^\u001b[0m\n\u001b[0;31mIndentationError\u001b[0m\u001b[0;31m:\u001b[0m expected an indented block\n"
     ]
    }
   ],
   "source": [
    "# 1215 회문1\n",
    "for t in range(1,11):\n",
    "    N = int(input())\n",
    "    graph = [list(input()) for _ in range(8)]\n",
    "    cnt = 0\n",
    "    for i in range(8):\n",
    "        for j in range(8-N+1):\n",
    "            temp = ''\n",
    "            tempo = ''\n",
    "            for k in range(N):\n",
    "                temp += graph[i][j+k]\n",
    "                tempo += graph[j+k][i]\n",
    "            if temp == temp[::-1]:\n",
    "                cnt += 1\n",
    "            if tempo == tempo[::-1]:\n",
    "                cnt += 1\n",
    "    print(f'#{t} {cnt}')"
   ]
  },
  {
   "cell_type": "code",
   "execution_count": null,
   "metadata": {},
   "outputs": [],
   "source": []
  }
 ],
 "metadata": {
  "kernelspec": {
   "display_name": "Python 3.9.13 64-bit",
   "language": "python",
   "name": "python3"
  },
  "language_info": {
   "codemirror_mode": {
    "name": "ipython",
    "version": 3
   },
   "file_extension": ".py",
   "mimetype": "text/x-python",
   "name": "python",
   "nbconvert_exporter": "python",
   "pygments_lexer": "ipython3",
   "version": "3.9.13"
  },
  "orig_nbformat": 4,
  "vscode": {
   "interpreter": {
    "hash": "b0fa6594d8f4cbf19f97940f81e996739fb7646882a419484c72d19e05852a7e"
   }
  }
 },
 "nbformat": 4,
 "nbformat_minor": 2
}
