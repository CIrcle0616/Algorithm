{
 "cells": [
  {
   "cell_type": "code",
   "execution_count": null,
   "metadata": {},
   "outputs": [],
   "source": [
    "#1209 Sum\n",
    "for t in range(1,11):\n",
    "    a = input()\n",
    "    graph = [list(map(int,input().split())) for _ in range(100)]\n",
    "    sum_garo, sumMax_sero, sumMax_daegag = 0,0,0\n",
    "    sum_sero = [0] * 100\n",
    "    sum_daegag = [0, 0]\n",
    "    for i in range(100):\n",
    "        if sum(graph[i]) > sum_garo:\n",
    "            sum_garo = sum(graph[i])\n",
    "        for j in range(100):\n",
    "            sum_sero[j] += graph[i][j]\n",
    "        sum_daegag[0] += graph[i][i]\n",
    "        sum_daegag[1] += graph[99-i][99-i]\n",
    "    sumMax_daegag = max(sum_daegag)\n",
    "    sumMax_sero = max(sum_sero)\n",
    "    a = [sum_garo,sumMax_sero,sumMax_daegag]\n",
    "    print(f'#{t} {max(a)}')"
   ]
  },
  {
   "cell_type": "markdown",
   "metadata": {},
   "source": []
  }
 ],
 "metadata": {
  "kernelspec": {
   "display_name": "Python 3.9.13 64-bit",
   "language": "python",
   "name": "python3"
  },
  "language_info": {
   "name": "python",
   "version": "3.9.13"
  },
  "orig_nbformat": 4,
  "vscode": {
   "interpreter": {
    "hash": "b0fa6594d8f4cbf19f97940f81e996739fb7646882a419484c72d19e05852a7e"
   }
  }
 },
 "nbformat": 4,
 "nbformat_minor": 2
}
