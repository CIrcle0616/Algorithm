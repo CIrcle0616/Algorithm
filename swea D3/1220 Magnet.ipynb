{
 "cells": [
  {
   "cell_type": "code",
   "execution_count": null,
   "metadata": {},
   "outputs": [],
   "source": [
    "#1220 Magnet\n",
    "for t in range(1,11):\n",
    "    input()\n",
    "    graph = [list(map(int,input().split())) for _ in range(100)]\n",
    "    cnt = 0\n",
    "    for i in range(100):\n",
    "        r, c = 0, i\n",
    "        stack = []\n",
    "        while r < 100:\n",
    "            if 1 not in stack and graph[r][c] == 1:\n",
    "                stack.append(1)\n",
    "            elif 1 in stack and graph[r][c] == 2:\n",
    "                cnt += stack.pop()\n",
    "            r += 1\n",
    "    print(f'#{t} {cnt}')\n",
    "\n"
   ]
  },
  {
   "cell_type": "markdown",
   "metadata": {},
   "source": [
    "1단계 graph[i][j]가 0이 아닐때\n",
    "2단계 line[j]가 0이면 line[j]에 graph[i][j]값을 저장하고 다음 루프로 넘긴다.\n",
    "다시 1단계를 통과하면 2-2를 판단한다. 1또는 2일테고 line[j]와 graph[i][j]가 다른 값이면 \n",
    "cnt += 1을 하고 line[j]에 graph[i][j] \n",
    "조건 추가 N극이면 2에 끌리고 S극이면 1에 끌린다. \n",
    "stack 사용하고 1-2순서로 교착되어야만 교착상태가 카운트된다.\n"
   ]
  }
 ],
 "metadata": {
  "kernelspec": {
   "display_name": "Python 3.9.13 64-bit",
   "language": "python",
   "name": "python3"
  },
  "language_info": {
   "codemirror_mode": {
    "name": "ipython",
    "version": 3
   },
   "file_extension": ".py",
   "mimetype": "text/x-python",
   "name": "python",
   "nbconvert_exporter": "python",
   "pygments_lexer": "ipython3",
   "version": "3.9.13"
  },
  "orig_nbformat": 4,
  "vscode": {
   "interpreter": {
    "hash": "b0fa6594d8f4cbf19f97940f81e996739fb7646882a419484c72d19e05852a7e"
   }
  }
 },
 "nbformat": 4,
 "nbformat_minor": 2
}
