{
 "cells": [
  {
   "cell_type": "code",
   "execution_count": null,
   "metadata": {},
   "outputs": [],
   "source": [
    "# 1244 [S/W 문제해결 응용] 2일차 - 최대상금\n",
    "T = int(input())\n",
    "for t in range(1,T+1):\n",
    "    money, cnt = input().split()\n",
    "    cnt = int(cnt)\n",
    "    variety = set()\n",
    "    for _ in range(cnt):\n",
    "        for i in range(len(money)):\n",
    "            for j in range(i+1,len(money)):\n",
    "                a, b = money[i], money[j]\n",
    "                exchange = \n",
    "                variety.add(int(money))\n",
    "\n"
   ]
  }
 ],
 "metadata": {
  "kernelspec": {
   "display_name": "Python 3.9.13 64-bit",
   "language": "python",
   "name": "python3"
  },
  "language_info": {
   "codemirror_mode": {
    "name": "ipython",
    "version": 3
   },
   "file_extension": ".py",
   "mimetype": "text/x-python",
   "name": "python",
   "nbconvert_exporter": "python",
   "pygments_lexer": "ipython3",
   "version": "3.9.13"
  },
  "orig_nbformat": 4,
  "vscode": {
   "interpreter": {
    "hash": "b0fa6594d8f4cbf19f97940f81e996739fb7646882a419484c72d19e05852a7e"
   }
  }
 },
 "nbformat": 4,
 "nbformat_minor": 2
}
