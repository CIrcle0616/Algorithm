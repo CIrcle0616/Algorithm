{
 "cells": [
  {
   "cell_type": "code",
   "execution_count": 58,
   "metadata": {},
   "outputs": [
    {
     "name": "stdout",
     "output_type": "stream",
     "text": [
      "4\n"
     ]
    }
   ],
   "source": [
    "#17136 색종이 붙이기\n",
    "graph = [list(map(int,input().split())) for _ in range(10)]\n",
    "\n",
    "paper = [0,0,0,0,0,0]\n",
    "visited = [[0]*10 for _ in range(10)]\n",
    "#위 아래 오른쪽 왼쪽\n",
    "dy = [1,-1,0,0]\n",
    "dx = [0,0,1,-1]\n",
    "\n",
    "\n",
    "def isRec(y,x,graph,n):\n",
    "    if n == 1: return 1\n",
    "    ret = 0\n",
    "    for i in range(n):\n",
    "        for j in range(n):\n",
    "            if y+i >= 10 or x+j >= 10: continue\n",
    "            ret += graph[y+i][x+j]\n",
    "    if ret == n**2: return n\n",
    "    else: return isRec(y,x,graph,n-1)\n",
    "\n",
    "def dfs(y,x,n):\n",
    "    if visited [y][x] == 1: return\n",
    "    if n == 0: return\n",
    "    visited[y][x] = 1\n",
    "    for i in range(4):\n",
    "        ny = y + dy[i]\n",
    "        nx = x + dx[i]\n",
    "        if ny < 0 or ny >= 10 or nx < 0 or nx >= 10 or graph[ny][nx] == 0: continue\n",
    "        dfs(ny,nx,n-1)\n",
    "    return paper\n",
    "\n",
    "for i in range(10):\n",
    "    for j in range(10):\n",
    "        if graph[i][j] == 1 and visited[i][j] == 0:\n",
    "            n = isRec(i,j,graph,5)\n",
    "            dfs(i,j,n**2)\n",
    "            paper[n] += 1\n",
    "            \n",
    "cnt = 0\n",
    "for i in range(1,6):\n",
    "    if paper[i] > 5: \n",
    "        print(-1)\n",
    "        break\n",
    "    cnt += paper[i]\n",
    "else:\n",
    "    print(cnt)"
   ]
  },
  {
   "cell_type": "code",
   "execution_count": 9,
   "metadata": {},
   "outputs": [
    {
     "name": "stdout",
     "output_type": "stream",
     "text": [
      "[0, 0, 0, 0, 0]\n",
      "[0, 0, 0, 0, 0]\n",
      "[0, 0, 0, 0, 0]\n",
      "[0, 0, 0, 0, 0]\n",
      "[0, 0, 0, 0, 0]\n"
     ]
    }
   ],
   "source": []
  },
  {
   "cell_type": "code",
   "execution_count": 51,
   "metadata": {},
   "outputs": [
    {
     "data": {
      "text/plain": [
       "[[0, 0, 0, 0, 0, 0, 0, 0, 0, 0],\n",
       " [0, 1, 1, 0, 0, 0, 0, 0, 0, 0],\n",
       " [0, 0, 1, 0, 0, 0, 0, 0, 0, 0],\n",
       " [0, 0, 0, 0, 1, 1, 0, 0, 0, 0],\n",
       " [0, 0, 0, 0, 1, 1, 0, 0, 0, 0],\n",
       " [0, 0, 0, 0, 0, 0, 0, 0, 0, 0],\n",
       " [0, 0, 1, 0, 0, 0, 0, 0, 0, 0],\n",
       " [0, 0, 0, 0, 0, 0, 0, 0, 0, 0],\n",
       " [0, 0, 0, 0, 0, 0, 0, 0, 0, 0],\n",
       " [0, 0, 0, 0, 0, 0, 0, 0, 0, 0]]"
      ]
     },
     "execution_count": 51,
     "metadata": {},
     "output_type": "execute_result"
    }
   ],
   "source": [
    "visited"
   ]
  }
 ],
 "metadata": {
  "kernelspec": {
   "display_name": "Python 3",
   "language": "python",
   "name": "python3"
  },
  "language_info": {
   "codemirror_mode": {
    "name": "ipython",
    "version": 3
   },
   "file_extension": ".py",
   "mimetype": "text/x-python",
   "name": "python",
   "nbconvert_exporter": "python",
   "pygments_lexer": "ipython3",
   "version": "3.9.13"
  },
  "orig_nbformat": 4,
  "vscode": {
   "interpreter": {
    "hash": "b0fa6594d8f4cbf19f97940f81e996739fb7646882a419484c72d19e05852a7e"
   }
  }
 },
 "nbformat": 4,
 "nbformat_minor": 2
}
