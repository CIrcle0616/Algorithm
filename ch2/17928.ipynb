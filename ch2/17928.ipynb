{
 "cells": [
  {
   "cell_type": "code",
   "execution_count": 12,
   "metadata": {},
   "outputs": [
    {
     "name": "stdout",
     "output_type": "stream",
     "text": [
      "-1 8 8 -1 "
     ]
    }
   ],
   "source": [
    "#17298 오큰수\n",
    "n = int(input())\n",
    "array = list(map(int,input().split()))\n",
    "NGE = [-1] * n\n",
    "for i in range(n):\n",
    "    for j in range(i+1,n):\n",
    "        if array[i] < array[j]:\n",
    "            NGE[i] = array[j]\n",
    "            break\n",
    "        \n",
    "for i in range(n):\n",
    "    print(NGE[i],end=' ')\n"
   ]
  },
  {
   "cell_type": "code",
   "execution_count": 36,
   "metadata": {},
   "outputs": [
    {
     "name": "stdout",
     "output_type": "stream",
     "text": [
      "-1 8 8 -1\n"
     ]
    }
   ],
   "source": [
    "n = int(input())\n",
    "array = list(map(int,input().split()))\n",
    "NGE = [-1] * n\n",
    "stack = []\n",
    "\n",
    "for i in range(n):\n",
    "    while stack and array[stack[-1]] < array[i]:\n",
    "        NGE[stack[-1]] = array[i]\n",
    "        stack.pop()\n",
    "    stack.append(i)\n",
    "\n",
    "print(*NGE)\n",
    "\n",
    "#index 값을 스택에 저장하는 것이 키포인트"
   ]
  },
  {
   "cell_type": "code",
   "execution_count": 34,
   "metadata": {},
   "outputs": [
    {
     "data": {
      "text/plain": [
       "[3]"
      ]
     },
     "execution_count": 34,
     "metadata": {},
     "output_type": "execute_result"
    }
   ],
   "source": []
  }
 ],
 "metadata": {
  "kernelspec": {
   "display_name": "Python 3",
   "language": "python",
   "name": "python3"
  },
  "language_info": {
   "codemirror_mode": {
    "name": "ipython",
    "version": 3
   },
   "file_extension": ".py",
   "mimetype": "text/x-python",
   "name": "python",
   "nbconvert_exporter": "python",
   "pygments_lexer": "ipython3",
   "version": "3.9.13"
  },
  "orig_nbformat": 4,
  "vscode": {
   "interpreter": {
    "hash": "b0fa6594d8f4cbf19f97940f81e996739fb7646882a419484c72d19e05852a7e"
   }
  }
 },
 "nbformat": 4,
 "nbformat_minor": 2
}
