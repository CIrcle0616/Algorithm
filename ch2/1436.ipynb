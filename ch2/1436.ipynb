{
 "cells": [
  {
   "attachments": {},
   "cell_type": "markdown",
   "metadata": {},
   "source": [
    "# 1436 영화감독 숌\n",
    "무식하게 풀 수 있는 문제이다. 어떤 문제를 보고 계산횟수를 어림잡아보고 이를 통해서 접근이 가능함을 알고 접근하는 것이 중요하다."
   ]
  },
  {
   "cell_type": "code",
   "execution_count": null,
   "metadata": {},
   "outputs": [],
   "source": [
    "N = int(input())\n",
    "flag = False\n",
    "a = 666\n",
    "cnt = 1\n",
    "if N == 1:\n",
    "    flag = True\n",
    "while flag == False:\n",
    "    a += 1\n",
    "    if '666' in str(a):\n",
    "        cnt += 1\n",
    "        if cnt == N:\n",
    "            flag = True\n",
    "print(a)"
   ]
  },
  {
   "cell_type": "code",
   "execution_count": null,
   "metadata": {},
   "outputs": [],
   "source": []
  }
 ],
 "metadata": {
  "kernelspec": {
   "display_name": "Python 3",
   "language": "python",
   "name": "python3"
  },
  "language_info": {
   "codemirror_mode": {
    "name": "ipython",
    "version": 3
   },
   "file_extension": ".py",
   "mimetype": "text/x-python",
   "name": "python",
   "nbconvert_exporter": "python",
   "pygments_lexer": "ipython3",
   "version": "3.9.13"
  },
  "orig_nbformat": 4,
  "vscode": {
   "interpreter": {
    "hash": "b0fa6594d8f4cbf19f97940f81e996739fb7646882a419484c72d19e05852a7e"
   }
  }
 },
 "nbformat": 4,
 "nbformat_minor": 2
}
