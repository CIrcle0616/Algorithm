{
 "cells": [
  {
   "cell_type": "markdown",
   "metadata": {},
   "source": [
    "# 4659번\n",
    "## 제한조건\n",
    "    1. 모음(a,e,i,o,u) 하나를 반드시 포함하여야 한다.\n",
    "    2. 모음이 3개 혹은 자음이 3개 연속으로 오면 안 된다.\n",
    "    3. 같은 글자가 연속적으로 두번 오면 안되나, ee 와 oo는 허용한다."
   ]
  },
  {
   "cell_type": "code",
   "execution_count": 8,
   "metadata": {},
   "outputs": [
    {
     "name": "stdout",
     "output_type": "stream",
     "text": [
      "<a> is accpetable.\n"
     ]
    }
   ],
   "source": [
    "a = ['a','e',\"i\",'o','u']\n",
    "while True:\n",
    "    pwd = input()\n",
    "    word = []\n",
    "    if pwd == \"end\":\n",
    "        break\n",
    "    lcnt = 0\n",
    "    vcnt = 0\n",
    "    prev = ''\n",
    "    flags = 0\n",
    "    is_include_v = 0\n",
    "    for i in pwd:\n",
    "        if i in a:\n",
    "            lcnt += 1\n",
    "            vcnt = 0\n",
    "            is_include_v = 1\n",
    "        else:\n",
    "            lcnt = 0\n",
    "            vcnt += 1\n",
    "        if lcnt == 3 or vcnt == 3:\n",
    "            flags = 1\n",
    "        if i == prev and i != 'e' and i != 'o':\n",
    "            flags = 1\n",
    "        prev = i\n",
    "    if is_include_v:\n",
    "        if flags:\n",
    "            print(f\"<{pwd}> is not acceptable.\")\n",
    "        else:\n",
    "            print(f\"<{pwd}> is accpetable.\")\n",
    "    else:\n",
    "        print(f\"<{pwd}> is not acceptable.\")\n",
    "            \n",
    "        \n"
   ]
  }
 ],
 "metadata": {
  "kernelspec": {
   "display_name": "Python 3.9.13 64-bit",
   "language": "python",
   "name": "python3"
  },
  "language_info": {
   "codemirror_mode": {
    "name": "ipython",
    "version": 3
   },
   "file_extension": ".py",
   "mimetype": "text/x-python",
   "name": "python",
   "nbconvert_exporter": "python",
   "pygments_lexer": "ipython3",
   "version": "3.9.13"
  },
  "orig_nbformat": 4,
  "vscode": {
   "interpreter": {
    "hash": "b0fa6594d8f4cbf19f97940f81e996739fb7646882a419484c72d19e05852a7e"
   }
  }
 },
 "nbformat": 4,
 "nbformat_minor": 2
}
