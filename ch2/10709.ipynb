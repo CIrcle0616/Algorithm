{
 "cells": [
  {
   "cell_type": "markdown",
   "metadata": {},
   "source": [
    "# 10709 기상캐스터\n"
   ]
  },
  {
   "cell_type": "code",
   "execution_count": null,
   "metadata": {},
   "outputs": [],
   "source": [
    "#dfs\n",
    "def dfs(y,x,graph,visited):\n",
    "    visited[y][x] = 1\n",
    "    for i in range(4):\n",
    "        ny = y + dy[i]\n",
    "        nx = x + dx[i]\n",
    "        if ny < 0 or ny >= N or nx < 0 or nx >= M:\n",
    "            continue\n",
    "        if visited[ny][nx] == 0:\n",
    "            return dfs[ny][nx]"
   ]
  },
  {
   "cell_type": "code",
   "execution_count": null,
   "metadata": {},
   "outputs": [],
   "source": [
    "#bfs\n",
    "from collections import deque\n",
    "q = deque()\n",
    "def bfs(y,x,graph,visited):\n",
    "    q.append((y,x))\n",
    "    while q:\n",
    "        y,x = q.popleft()\n",
    "        for i in range(4):\n",
    "            ny = y + dy[i]\n",
    "            nx = x + dx[i]\n",
    "            if ny < 0 or ny >= N or nx < 0 or nx >= M:\n",
    "                continue\n",
    "            if visited[ny][nx] == 0:\n",
    "                q.append((ny,nx))\n",
    "\n"
   ]
  },
  {
   "cell_type": "code",
   "execution_count": 68,
   "metadata": {},
   "outputs": [
    {
     "ename": "TypeError",
     "evalue": "'list' object is not callable",
     "output_type": "error",
     "traceback": [
      "\u001b[0;31m---------------------------------------------------------------------------\u001b[0m",
      "\u001b[0;31mTypeError\u001b[0m                                 Traceback (most recent call last)",
      "\u001b[1;32mUntitled-1.ipynb 셀 4\u001b[0m in \u001b[0;36m<cell line: 3>\u001b[0;34m()\u001b[0m\n\u001b[1;32m      <a href='vscode-notebook-cell:Untitled-1.ipynb?jupyter-notebook#W4sdW50aXRsZWQ%3D?line=0'>1</a>\u001b[0m \u001b[39mfrom\u001b[39;00m \u001b[39mcollections\u001b[39;00m \u001b[39mimport\u001b[39;00m deque\n\u001b[0;32m----> <a href='vscode-notebook-cell:Untitled-1.ipynb?jupyter-notebook#W4sdW50aXRsZWQ%3D?line=2'>3</a>\u001b[0m H, W \u001b[39m=\u001b[39m \u001b[39mmap\u001b[39;49m(\u001b[39mint\u001b[39;49m,\u001b[39minput\u001b[39;49m()\u001b[39m.\u001b[39;49msplit())\n\u001b[1;32m      <a href='vscode-notebook-cell:Untitled-1.ipynb?jupyter-notebook#W4sdW50aXRsZWQ%3D?line=3'>4</a>\u001b[0m graph \u001b[39m=\u001b[39m []\n\u001b[1;32m      <a href='vscode-notebook-cell:Untitled-1.ipynb?jupyter-notebook#W4sdW50aXRsZWQ%3D?line=4'>5</a>\u001b[0m visited \u001b[39m=\u001b[39m []\n",
      "\u001b[0;31mTypeError\u001b[0m: 'list' object is not callable"
     ]
    }
   ],
   "source": [
    "from collections import deque\n",
    "\n",
    "H, W = map(int,input().split())\n",
    "graph = []\n",
    "visited = []\n",
    "q = deque()\n",
    "for i in range(H):\n",
    "    word = input()\n",
    "    line = []\n",
    "    for j in word:\n",
    "        line.append(j)\n",
    "    graph.append(line)\n",
    "    visited.append([0]*W)\n",
    "def bfs(y,x):\n",
    "    q.append((y,x))\n",
    "    while q:\n",
    "        y,x = q.popleft()\n",
    "        nx = x + 1\n",
    "        if nx >= W or nx < 0:\n",
    "            continue\n",
    "        if graph[y][x] == 'c':\n",
    "            if graph[y][nx] == '.':\n",
    "                graph[y][nx] = 'c'\n",
    "                visited[y][nx] = visited[y][x]+1\n",
    "                q.append((y,nx))\n",
    "for i in range(H):\n",
    "    for j in range(W):\n",
    "        bfs(i,j)\n",
    "for i in range(H):\n",
    "    for j in range(W):\n",
    "        if graph[i][j] != 'c':\n",
    "            visited[i][j] = -1\n",
    "for i in range(H):\n",
    "    for j in range(W):\n",
    "        print(visited[i][j],end=' ')\n",
    "    print()\n"
   ]
  },
  {
   "cell_type": "markdown",
   "metadata": {},
   "source": []
  },
  {
   "cell_type": "code",
   "execution_count": 51,
   "metadata": {},
   "outputs": [
    {
     "ename": "IndexError",
     "evalue": "list index out of range",
     "output_type": "error",
     "traceback": [
      "\u001b[0;31m---------------------------------------------------------------------------\u001b[0m",
      "\u001b[0;31mIndexError\u001b[0m                                Traceback (most recent call last)",
      "\u001b[1;32mUntitled-1.ipynb 셀 5\u001b[0m in \u001b[0;36m<cell line: 12>\u001b[0;34m()\u001b[0m\n\u001b[1;32m     <a href='vscode-notebook-cell:Untitled-1.ipynb?jupyter-notebook#X13sdW50aXRsZWQ%3D?line=13'>14</a>\u001b[0m \u001b[39mif\u001b[39;00m graph[i][j] \u001b[39m==\u001b[39m \u001b[39m0\u001b[39m:\n\u001b[1;32m     <a href='vscode-notebook-cell:Untitled-1.ipynb?jupyter-notebook#X13sdW50aXRsZWQ%3D?line=14'>15</a>\u001b[0m     cnt \u001b[39m=\u001b[39m \u001b[39m1\u001b[39m\n\u001b[0;32m---> <a href='vscode-notebook-cell:Untitled-1.ipynb?jupyter-notebook#X13sdW50aXRsZWQ%3D?line=15'>16</a>\u001b[0m     \u001b[39mwhile\u001b[39;00m graph[i][j\u001b[39m+\u001b[39;49m\u001b[39m1\u001b[39;49m] \u001b[39m==\u001b[39m \u001b[39m-\u001b[39m\u001b[39m1\u001b[39m:\n\u001b[1;32m     <a href='vscode-notebook-cell:Untitled-1.ipynb?jupyter-notebook#X13sdW50aXRsZWQ%3D?line=16'>17</a>\u001b[0m         graph[i][j\u001b[39m+\u001b[39m\u001b[39m1\u001b[39m] \u001b[39m=\u001b[39m cnt\n\u001b[1;32m     <a href='vscode-notebook-cell:Untitled-1.ipynb?jupyter-notebook#X13sdW50aXRsZWQ%3D?line=17'>18</a>\u001b[0m         cnt \u001b[39m+\u001b[39m\u001b[39m=\u001b[39m \u001b[39m1\u001b[39m\n",
      "\u001b[0;31mIndexError\u001b[0m: list index out of range"
     ]
    }
   ],
   "source": [
    "H, W = map(int,input().split())\n",
    "graph = []\n",
    "visited = []\n",
    "for i in range(H):\n",
    "    graph.append(input().split())\n",
    "for i in range(H):\n",
    "    for j in range(W):\n",
    "        if graph[i][j] == 'c':\n",
    "            graph[i][j] = 0\n",
    "        else:\n",
    "            graph[i][j] = -1\n",
    "for i in range(H):\n",
    "    for j in range(W):\n",
    "        if graph[i][j] == 0:\n",
    "            cnt = 1\n",
    "            while graph[i][j] == -1:\n",
    "                graph[i][j] = cnt\n",
    "                cnt += 1\n",
    "for i in range(H):\n",
    "    for j in range(W):\n",
    "        print(graph[i][j],end=' ')\n",
    "    print()\n",
    "            \n"
   ]
  },
  {
   "cell_type": "code",
   "execution_count": 65,
   "metadata": {},
   "outputs": [
    {
     "data": {
      "text/plain": [
       "[['c', '.', '.', 'c'], ['.', '.', 'c', '.'], ['.', '.', '.', '.']]"
      ]
     },
     "execution_count": 65,
     "metadata": {},
     "output_type": "execute_result"
    }
   ],
   "source": [
    "a = 'c..c'\n",
    "map1 = []\n",
    "for i in range(3):\n",
    "    line = input()\n",
    "    line1 = []\n",
    "    for j in line:\n",
    "        line1.append(j)\n",
    "    map1.append(line1)\n",
    "map1\n",
    "map"
   ]
  },
  {
   "cell_type": "code",
   "execution_count": 69,
   "metadata": {},
   "outputs": [
    {
     "data": {
      "text/plain": [
       "[]"
      ]
     },
     "execution_count": 69,
     "metadata": {},
     "output_type": "execute_result"
    }
   ],
   "source": [
    "map"
   ]
  }
 ],
 "metadata": {
  "kernelspec": {
   "display_name": "Python 3.9.13 64-bit",
   "language": "python",
   "name": "python3"
  },
  "language_info": {
   "codemirror_mode": {
    "name": "ipython",
    "version": 3
   },
   "file_extension": ".py",
   "mimetype": "text/x-python",
   "name": "python",
   "nbconvert_exporter": "python",
   "pygments_lexer": "ipython3",
   "version": "3.9.13"
  },
  "orig_nbformat": 4,
  "vscode": {
   "interpreter": {
    "hash": "b0fa6594d8f4cbf19f97940f81e996739fb7646882a419484c72d19e05852a7e"
   }
  }
 },
 "nbformat": 4,
 "nbformat_minor": 2
}
