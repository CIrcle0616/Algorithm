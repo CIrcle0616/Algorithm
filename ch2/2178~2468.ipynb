{
 "cells": [
  {
   "cell_type": "code",
   "execution_count": 6,
   "metadata": {},
   "outputs": [
    {
     "ename": "ValueError",
     "evalue": "invalid literal for int() with base 10: ''",
     "output_type": "error",
     "traceback": [
      "\u001b[0;31m---------------------------------------------------------------------------\u001b[0m",
      "\u001b[0;31mValueError\u001b[0m                                Traceback (most recent call last)",
      "\u001b[1;32m/Users/owl/Desktop/Algorithm/inflearn_ch2.ipynb 셀 1\u001b[0m in \u001b[0;36m<cell line: 2>\u001b[0;34m()\u001b[0m\n\u001b[1;32m      <a href='vscode-notebook-cell:/Users/owl/Desktop/Algorithm/inflearn_ch2.ipynb#W0sZmlsZQ%3D%3D?line=0'>1</a>\u001b[0m a \u001b[39m=\u001b[39m []\n\u001b[0;32m----> <a href='vscode-notebook-cell:/Users/owl/Desktop/Algorithm/inflearn_ch2.ipynb#W0sZmlsZQ%3D%3D?line=1'>2</a>\u001b[0m \u001b[39mfor\u001b[39;00m _ \u001b[39min\u001b[39;00m \u001b[39mrange\u001b[39m(\u001b[39mint\u001b[39;49m(\u001b[39minput\u001b[39;49m())):\n\u001b[1;32m      <a href='vscode-notebook-cell:/Users/owl/Desktop/Algorithm/inflearn_ch2.ipynb#W0sZmlsZQ%3D%3D?line=2'>3</a>\u001b[0m     a\u001b[39m.\u001b[39mappend(\u001b[39mint\u001b[39m(\u001b[39minput\u001b[39m()))\n\u001b[1;32m      <a href='vscode-notebook-cell:/Users/owl/Desktop/Algorithm/inflearn_ch2.ipynb#W0sZmlsZQ%3D%3D?line=3'>4</a>\u001b[0m a\u001b[39m.\u001b[39msort()\n",
      "\u001b[0;31mValueError\u001b[0m: invalid literal for int() with base 10: ''"
     ]
    }
   ],
   "source": [
    "a = []\n",
    "for _ in range(int(input())):\n",
    "    a.append(int(input()))\n",
    "a.sort()\n",
    "for i in a:\n",
    "    print(i)"
   ]
  },
  {
   "cell_type": "code",
   "execution_count": 31,
   "metadata": {},
   "outputs": [
    {
     "name": "stdout",
     "output_type": "stream",
     "text": [
      "1\n",
      "2\n",
      "4\n",
      "5\n",
      "6\n",
      "7\n",
      "8\n",
      "43\n",
      "65\n",
      "67\n",
      "76\n",
      "89\n",
      "242\n",
      "456\n",
      "543\n",
      "625\n",
      "645\n",
      "653\n",
      "678\n",
      "1432\n",
      "2341\n",
      "2345\n",
      "4353\n",
      "5437\n",
      "5654\n",
      "6345\n",
      "6543\n",
      "6546\n",
      "7563\n",
      "7654\n",
      "7743\n",
      "8467\n",
      "24532\n",
      "64563\n",
      "626224\n",
      "787645\n"
     ]
    }
   ],
   "source": [
    "a = [0 for x in range(1000001)]\n",
    "n = int(input())\n",
    "for _ in range(n):\n",
    "    inp = int(input())\n",
    "    a[inp] = inp\n",
    "\n",
    "for i in a:\n",
    "    if i:\n",
    "        print(i)"
   ]
  },
  {
   "cell_type": "code",
   "execution_count": 5,
   "metadata": {},
   "outputs": [
    {
     "name": "stdout",
     "output_type": "stream",
     "text": [
      "[2, 5, 4, 3, 1]\n",
      "[2, 4, 5, 3, 1]\n",
      "[2, 3, 5, 4, 1]\n",
      "[2, 3, 4, 5, 1]\n",
      "[1, 3, 4, 5, 2]\n",
      "[1, 2, 4, 5, 3]\n",
      "[1, 2, 3, 5, 4]\n",
      "[1, 2, 3, 4, 5]\n",
      "1\n",
      "2\n",
      "3\n",
      "4\n",
      "5\n"
     ]
    }
   ],
   "source": [
    "a = []\n",
    "n = 0\n",
    "for _ in range(int(input())):\n",
    "    a.append(int(input()))\n",
    "for i in range(len(a)):\n",
    "    for j in range(len(a)):\n",
    "        if a[i] < a[j]:\n",
    "            a[i], a[j] = a[j], a[i]\n",
    "            print(a)\n",
    "for i in a:\n",
    "    print(i)"
   ]
  },
  {
   "cell_type": "code",
   "execution_count": 34,
   "metadata": {},
   "outputs": [
    {
     "data": {
      "text/plain": [
       "[[1, 0, 1, 1, 1, 1],\n",
       " [1, 0, 1, 0, 1, 0],\n",
       " [1, 0, 1, 0, 1, 1],\n",
       " [1, 1, 1, 0, 1, 1]]"
      ]
     },
     "execution_count": 34,
     "metadata": {},
     "output_type": "execute_result"
    }
   ],
   "source": [
    "#2178\n",
    "#미로를 인접리스트에 저장하는 방법\n",
    "N, M = map(int, input().split())\n",
    "miro = []\n",
    "\n",
    "for _ in range(N):\n",
    "    line = []\n",
    "    for i in input():\n",
    "        line.append(int(i))\n",
    "    miro.append(line)\n",
    "miro\n"
   ]
  },
  {
   "cell_type": "code",
   "execution_count": 50,
   "metadata": {},
   "outputs": [
    {
     "ename": "ValueError",
     "evalue": "not enough values to unpack (expected 2, got 0)",
     "output_type": "error",
     "traceback": [
      "\u001b[0;31m---------------------------------------------------------------------------\u001b[0m",
      "\u001b[0;31mValueError\u001b[0m                                Traceback (most recent call last)",
      "\u001b[1;32m/Users/owl/Desktop/Algorithm/inflearn_ch2.ipynb 셀 5\u001b[0m in \u001b[0;36m<cell line: 3>\u001b[0;34m()\u001b[0m\n\u001b[1;32m      <a href='vscode-notebook-cell:/Users/owl/Desktop/Algorithm/inflearn_ch2.ipynb#W6sZmlsZQ%3D%3D?line=0'>1</a>\u001b[0m \u001b[39m#2178\u001b[39;00m\n\u001b[1;32m      <a href='vscode-notebook-cell:/Users/owl/Desktop/Algorithm/inflearn_ch2.ipynb#W6sZmlsZQ%3D%3D?line=1'>2</a>\u001b[0m \u001b[39m#미로를 인접리스트에 저장하는 방법\u001b[39;00m\n\u001b[0;32m----> <a href='vscode-notebook-cell:/Users/owl/Desktop/Algorithm/inflearn_ch2.ipynb#W6sZmlsZQ%3D%3D?line=2'>3</a>\u001b[0m N, M \u001b[39m=\u001b[39m \u001b[39mmap\u001b[39m(\u001b[39mint\u001b[39m, \u001b[39minput\u001b[39m()\u001b[39m.\u001b[39msplit())\n\u001b[1;32m      <a href='vscode-notebook-cell:/Users/owl/Desktop/Algorithm/inflearn_ch2.ipynb#W6sZmlsZQ%3D%3D?line=3'>4</a>\u001b[0m \u001b[39mdef\u001b[39;00m \u001b[39mmake_miro\u001b[39m(n,m):\n\u001b[1;32m      <a href='vscode-notebook-cell:/Users/owl/Desktop/Algorithm/inflearn_ch2.ipynb#W6sZmlsZQ%3D%3D?line=4'>5</a>\u001b[0m     miro \u001b[39m=\u001b[39m []\n",
      "\u001b[0;31mValueError\u001b[0m: not enough values to unpack (expected 2, got 0)"
     ]
    }
   ],
   "source": [
    "#2178\n",
    "#미로를 인접리스트에 저장하는 방법\n",
    "N, M = map(int, input().split())\n",
    "def make_miro(n,m):\n",
    "    miro = []\n",
    "    for i in range(n):\n",
    "        line = []\n",
    "        line_str = input()\n",
    "        for j in range(m):\n",
    "            line.append(int(line_str[j]))\n",
    "        miro.append(line)\n",
    "    return miro\n",
    "miro = make_miro(N,M)\n",
    "cnt = 0\n",
    "dx = [1, 0]\n",
    "dy = [0, 1]\n",
    "def find_way()\n",
    "    \n",
    "\n"
   ]
  },
  {
   "cell_type": "code",
   "execution_count": 42,
   "metadata": {},
   "outputs": [],
   "source": [
    "def make_miro(n,m):\n",
    "    miro = []\n",
    "    for i in range(n):\n",
    "        line = []\n",
    "        for j in range(m):\n",
    "            line.append(int(input()[j-1]))\n",
    "        miro.append(line)"
   ]
  },
  {
   "cell_type": "code",
   "execution_count": 51,
   "metadata": {},
   "outputs": [
    {
     "data": {
      "text/plain": [
       "[[1, 0, 1, 1, 1, 1],\n",
       " [1, 0, 1, 0, 1, 0],\n",
       " [1, 0, 1, 0, 1, 1],\n",
       " [1, 1, 1, 0, 1, 1]]"
      ]
     },
     "execution_count": 51,
     "metadata": {},
     "output_type": "execute_result"
    }
   ],
   "source": [
    "N, M = map(int,input().split())\n",
    "graph = []\n",
    "\n",
    "for i in range(N):\n",
    "    graph.append(list(map(int,input())))\n",
    "def dfs(x,y):\n",
    "    dy = [1,0,-1,0]\n",
    "    dx = [0,1,0,-1]\n",
    "    for i in range(4):\n",
    "        ny = y + dy[i]\n",
    "        nx = x + dx[i]\n",
    "        if ny < 0 or nx >= N or nx < 0 or ny >= M: continue\n",
    "        \n"
   ]
  },
  {
   "cell_type": "code",
   "execution_count": 55,
   "metadata": {},
   "outputs": [
    {
     "name": "stdout",
     "output_type": "stream",
     "text": [
      "[4, 2, 3, 1, 4, 3, 4]\n",
      "4\n"
     ]
    }
   ],
   "source": [
    "a = list(map(int,input()))\n",
    "print(a)\n",
    "print(a[0])"
   ]
  },
  {
   "cell_type": "code",
   "execution_count": 59,
   "metadata": {},
   "outputs": [
    {
     "name": "stdout",
     "output_type": "stream",
     "text": [
      "1 2 7 6 8 3 4 5 "
     ]
    }
   ],
   "source": [
    "def dfs(graph, v, visited):\n",
    "    visited[v] = True\n",
    "    print(v, end=' ')\n",
    "    for i in graph[v]:\n",
    "        if not visited[i]:\n",
    "            dfs(graph, i, visited)\n",
    "graph = [\n",
    "    [],\n",
    "    [2,3,8],\n",
    "    [1,7],\n",
    "    [1,4,5],\n",
    "    [3,5],\n",
    "    [3,4],\n",
    "    [7],\n",
    "    [2,6,8],\n",
    "    [1,7]\n",
    "]\n",
    "visited = [False] * 9\n",
    "dfs(graph,1,visited)"
   ]
  },
  {
   "cell_type": "code",
   "execution_count": 152,
   "metadata": {},
   "outputs": [
    {
     "name": "stdout",
     "output_type": "stream",
     "text": [
      "4\n"
     ]
    }
   ],
   "source": [
    "def dfs(y,x):\n",
    "    #방문처리\n",
    "    visited[y][x] = True\n",
    "    #4방향 탐색하기 \n",
    "    dy = [1,-1,0,0]\n",
    "    dx = [0,0,1,-1]\n",
    "    for i in range(4):\n",
    "        ny = y + dy[i]\n",
    "        nx = x + dx[i]\n",
    "        #벽에 부딪힐 때를 가정한 예외처리\n",
    "        if ny < 0 or ny >= N or nx < 0 or nx >= M:\n",
    "            continue\n",
    "        if graph[ny][nx] == 1 and visited[ny][nx] == False:\n",
    "            dfs(ny,nx)\n",
    "    return\n",
    "# N, M = map(int,input().split())\n",
    "# graph = []\n",
    "# for i in range(N):\n",
    "#     graph.append(list(map(int,input())))\n",
    "visited = []\n",
    "for _ in range(5):\n",
    "    visited.append([False,False,False,False,False])\n",
    "\n",
    "cnt = 0\n",
    "graph = [\n",
    "    [1,0,1,0,1],\n",
    "    [1,1,0,0,1],\n",
    "    [0,0,0,1,1],\n",
    "    [0,0,0,1,1],\n",
    "    [0,1,0,0,0]\n",
    "]\n",
    "# visited = [\n",
    "#     [0,0,0,0,0],\n",
    "#     [0,0,0,0,0],\n",
    "#     [0,0,0,0,0],\n",
    "#     [0,0,0,0,0],\n",
    "#     [0,0,0,0,0]\n",
    "# ]\n",
    "\n",
    "for i in range(M):\n",
    "    for j in range(N):\n",
    "        if graph[i][j] == 1 and visited[i][j] == False:\n",
    "            dfs(i,j)\n",
    "            cnt += 1\n",
    "print(cnt)\n",
    "\n",
    "\n"
   ]
  },
  {
   "cell_type": "code",
   "execution_count": 155,
   "metadata": {},
   "outputs": [
    {
     "name": "stdout",
     "output_type": "stream",
     "text": [
      "9\n"
     ]
    }
   ],
   "source": [
    "from collections import deque\n",
    "\n",
    "N, M = map(int,input().split())\n",
    "graph = []\n",
    "for i in range(N):\n",
    "    graph.append(list(map(int,input())))\n",
    "visited = []\n",
    "for _ in range(N):\n",
    "    visited.append([0]*M)\n",
    "q = deque()\n",
    "dy = [0,1,0,-1]\n",
    "dx = [1,0,-1,0]\n",
    "start_y, start_x = map(int,input().split())\n",
    "goal_y, goal_x = map(int,input().split())\n",
    "visited[start_y][start_x] = 1\n",
    "def bfs(graph,y,x,visited):\n",
    "    q.append((y,x))\n",
    "    while q:\n",
    "        y, x = q.popleft()\n",
    "        for i in range(4):\n",
    "            ny = y + dy[i]\n",
    "            nx = x + dx[i]\n",
    "            if ny < 0 or ny >= N or nx < 0 or nx >= M or graph[ny][nx] == 0:\n",
    "                continue\n",
    "            if visited[ny][nx] == 0:\n",
    "                visited[ny][nx] = visited[y][x] + 1\n",
    "                q.append((ny,nx))\n",
    "bfs(graph,start_y,start_x,visited)\n",
    "print(visited[goal_y][goal_x])\n",
    "    \n"
   ]
  },
  {
   "cell_type": "code",
   "execution_count": null,
   "metadata": {},
   "outputs": [],
   "source": [
    "5 5\n",
    "0 0\n",
    "4 4\n",
    "1 0 1 0 1\n",
    "1 1 1 0 1\n",
    "0 0 1 1 1\n",
    "0 0 1 1 1\n",
    "0 0 1 1 1\n",
    "[출처] [알고리즘 강의] 2주차. 그래프이론, DFS, BFS, 트리순회|작성자 큰돌"
   ]
  },
  {
   "cell_type": "code",
   "execution_count": 175,
   "metadata": {},
   "outputs": [
    {
     "ename": "IndexError",
     "evalue": "list index out of range",
     "output_type": "error",
     "traceback": [
      "\u001b[0;31m---------------------------------------------------------------------------\u001b[0m",
      "\u001b[0;31mIndexError\u001b[0m                                Traceback (most recent call last)",
      "\u001b[1;32m/Users/owl/Desktop/Algorithm/inflearn_ch2.ipynb 셀 13\u001b[0m in \u001b[0;36m<cell line: 24>\u001b[0;34m()\u001b[0m\n\u001b[1;32m     <a href='vscode-notebook-cell:/Users/owl/Desktop/Algorithm/inflearn_ch2.ipynb#X24sZmlsZQ%3D%3D?line=21'>22</a>\u001b[0m visited \u001b[39m=\u001b[39m [\u001b[39m0\u001b[39m,\u001b[39m0\u001b[39m,\u001b[39m0\u001b[39m,\u001b[39m0\u001b[39m,\u001b[39m0\u001b[39m]\n\u001b[1;32m     <a href='vscode-notebook-cell:/Users/owl/Desktop/Algorithm/inflearn_ch2.ipynb#X24sZmlsZQ%3D%3D?line=22'>23</a>\u001b[0m root \u001b[39m=\u001b[39m \u001b[39m0\u001b[39m\n\u001b[0;32m---> <a href='vscode-notebook-cell:/Users/owl/Desktop/Algorithm/inflearn_ch2.ipynb#X24sZmlsZQ%3D%3D?line=23'>24</a>\u001b[0m postorder(root)\n",
      "\u001b[1;32m/Users/owl/Desktop/Algorithm/inflearn_ch2.ipynb 셀 13\u001b[0m in \u001b[0;36mpostorder\u001b[0;34m(node)\u001b[0m\n\u001b[1;32m      <a href='vscode-notebook-cell:/Users/owl/Desktop/Algorithm/inflearn_ch2.ipynb#X24sZmlsZQ%3D%3D?line=3'>4</a>\u001b[0m     postorder(graph[node][\u001b[39m0\u001b[39m])\n\u001b[1;32m      <a href='vscode-notebook-cell:/Users/owl/Desktop/Algorithm/inflearn_ch2.ipynb#X24sZmlsZQ%3D%3D?line=4'>5</a>\u001b[0m \u001b[39mif\u001b[39;00m \u001b[39mlen\u001b[39m(graph[node]) \u001b[39m==\u001b[39m \u001b[39m2\u001b[39m:\n\u001b[0;32m----> <a href='vscode-notebook-cell:/Users/owl/Desktop/Algorithm/inflearn_ch2.ipynb#X24sZmlsZQ%3D%3D?line=5'>6</a>\u001b[0m     postorder(graph[node][\u001b[39m0\u001b[39;49m])\n\u001b[1;32m      <a href='vscode-notebook-cell:/Users/owl/Desktop/Algorithm/inflearn_ch2.ipynb#X24sZmlsZQ%3D%3D?line=6'>7</a>\u001b[0m     postorder(graph[node][\u001b[39m1\u001b[39m])\n\u001b[1;32m      <a href='vscode-notebook-cell:/Users/owl/Desktop/Algorithm/inflearn_ch2.ipynb#X24sZmlsZQ%3D%3D?line=7'>8</a>\u001b[0m visited[node] \u001b[39m=\u001b[39m \u001b[39m1\u001b[39m\n",
      "\u001b[1;32m/Users/owl/Desktop/Algorithm/inflearn_ch2.ipynb 셀 13\u001b[0m in \u001b[0;36mpostorder\u001b[0;34m(node)\u001b[0m\n\u001b[1;32m      <a href='vscode-notebook-cell:/Users/owl/Desktop/Algorithm/inflearn_ch2.ipynb#X24sZmlsZQ%3D%3D?line=0'>1</a>\u001b[0m \u001b[39mdef\u001b[39;00m \u001b[39mpostorder\u001b[39m(node):\n\u001b[1;32m      <a href='vscode-notebook-cell:/Users/owl/Desktop/Algorithm/inflearn_ch2.ipynb#X24sZmlsZQ%3D%3D?line=1'>2</a>\u001b[0m     \u001b[39mif\u001b[39;00m visited[node] \u001b[39m==\u001b[39m \u001b[39m0\u001b[39m:\n\u001b[0;32m----> <a href='vscode-notebook-cell:/Users/owl/Desktop/Algorithm/inflearn_ch2.ipynb#X24sZmlsZQ%3D%3D?line=2'>3</a>\u001b[0m         \u001b[39mif\u001b[39;00m \u001b[39mlen\u001b[39m(graph[node]) \u001b[39m==\u001b[39m \u001b[39m1\u001b[39m:\n\u001b[1;32m      <a href='vscode-notebook-cell:/Users/owl/Desktop/Algorithm/inflearn_ch2.ipynb#X24sZmlsZQ%3D%3D?line=3'>4</a>\u001b[0m             postorder(graph[node][\u001b[39m0\u001b[39m])\n\u001b[1;32m      <a href='vscode-notebook-cell:/Users/owl/Desktop/Algorithm/inflearn_ch2.ipynb#X24sZmlsZQ%3D%3D?line=4'>5</a>\u001b[0m         \u001b[39mif\u001b[39;00m \u001b[39mlen\u001b[39m(graph[node]) \u001b[39m==\u001b[39m \u001b[39m2\u001b[39m:\n",
      "\u001b[0;31mIndexError\u001b[0m: list index out of range"
     ]
    }
   ],
   "source": [
    "from re import L\n",
    "\n",
    "\n",
    "class node(object):\n",
    "    def __init__(self, item):\n",
    "        self.item = item\n",
    "        self.left = self.right = None\n",
    "\n",
    "class BinaryTree(object):\n",
    "    def __init__(self):\n",
    "        self.root = None\n",
    "\n",
    "def preorder(self):\n",
    "    d"
   ]
  },
  {
   "cell_type": "code",
   "execution_count": 7,
   "metadata": {},
   "outputs": [],
   "source": [
    "from collections import deque\n",
    "N, M = map(int,input().split())\n",
    "graph = []\n",
    "q = deque()\n",
    "for _ in range(N):\n",
    "    graph.append(list(map(int,input())))\n",
    "dy = [0,1,0,-1]\n",
    "dx = [1,0,-1,0]\n",
    "def bfs(y,x):\n",
    "    q.append((y,x))\n",
    "    while q:\n",
    "        y, x = q.popleft()\n",
    "        for i in range(4):\n",
    "            ny = y + dy[i]\n",
    "            nx = x + dx[i]\n",
    "            if ny < 0 or nx < 0 or ny >= N or nx >= M or graph[ny][nx] == 0:\n",
    "                continue\n",
    "            graph[ny][nx] = graph[y][x] + 1\n",
    "            print(ny,nx)\n",
    "            q.append((ny,nx))\n",
    "bfs(0,0)\n",
    "print(graph[N-1][M-1])"
   ]
  },
  {
   "cell_type": "code",
   "execution_count": null,
   "metadata": {},
   "outputs": [],
   "source": []
  }
 ],
 "metadata": {
  "kernelspec": {
   "display_name": "Python 3.9.13 64-bit",
   "language": "python",
   "name": "python3"
  },
  "language_info": {
   "codemirror_mode": {
    "name": "ipython",
    "version": 3
   },
   "file_extension": ".py",
   "mimetype": "text/x-python",
   "name": "python",
   "nbconvert_exporter": "python",
   "pygments_lexer": "ipython3",
   "version": "3.9.13"
  },
  "orig_nbformat": 4,
  "vscode": {
   "interpreter": {
    "hash": "b0fa6594d8f4cbf19f97940f81e996739fb7646882a419484c72d19e05852a7e"
   }
  }
 },
 "nbformat": 4,
 "nbformat_minor": 2
}
