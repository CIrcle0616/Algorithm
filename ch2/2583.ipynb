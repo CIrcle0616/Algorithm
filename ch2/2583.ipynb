{
 "cells": [
  {
   "cell_type": "markdown",
   "metadata": {},
   "source": [
    "# 2583 영역 구하기"
   ]
  },
  {
   "cell_type": "markdown",
   "metadata": {},
   "source": [
    "## 직사각형의 맵 만들기"
   ]
  },
  {
   "cell_type": "code",
   "execution_count": 4,
   "metadata": {},
   "outputs": [],
   "source": [
    "import sys\n",
    "sys.setrecursionlimit(10**6)\n",
    "M, N, K = map(int,input().split())\n",
    "graph = []\n",
    "visited = []\n",
    "for _ in range(M):\n",
    "    graph.append([0]*N)\n",
    "    visited.append([0]*N)"
   ]
  },
  {
   "cell_type": "markdown",
   "metadata": {},
   "source": [
    "## K개의 직사각형 그리기"
   ]
  },
  {
   "cell_type": "code",
   "execution_count": 5,
   "metadata": {},
   "outputs": [],
   "source": [
    "for _ in range(K):\n",
    "    sx, sy, ax, ay = map(int,input().split())\n",
    "    for i in range(sy,ay):\n",
    "        for j in range(sx,ax):\n",
    "            graph[i][j] = 1"
   ]
  },
  {
   "cell_type": "markdown",
   "metadata": {},
   "source": [
    "## dfs함수 정의하기"
   ]
  },
  {
   "cell_type": "code",
   "execution_count": 14,
   "metadata": {},
   "outputs": [],
   "source": [
    "def dfs(y,x):\n",
    "    visited[y][x] = 1\n",
    "    area = 1\n",
    "    #넓이를 구하기 위해서 dfs함수가 호출 되는 수만큼의 카운트\n",
    "    dy = [0,1,0,-1]\n",
    "    dx = [1,0,-1,0]\n",
    "    for i in range(4):\n",
    "        ny = y + dy[i]\n",
    "        nx = x + dx[i]\n",
    "        #직사각형이 그려진 곳은 탐색하지 않는다.\n",
    "        if ny < 0 or ny >= M or nx < 0 or nx >= N or graph[ny][nx] == 1:\n",
    "            continue\n",
    "        if visited[ny][nx] == 0:\n",
    "            area += dfs(ny,nx) # ***** 여기 부분이 중요함\n",
    "    return area"
   ]
  },
  {
   "cell_type": "markdown",
   "metadata": {},
   "source": [
    "## 탐색하기"
   ]
  },
  {
   "cell_type": "code",
   "execution_count": 16,
   "metadata": {},
   "outputs": [
    {
     "name": "stdout",
     "output_type": "stream",
     "text": [
      "3\n",
      "1 7 13 "
     ]
    }
   ],
   "source": [
    "cnt = 0\n",
    "areas = []\n",
    "for i in range(M):\n",
    "    for j in range(N):\n",
    "        if graph[i][j] == 0 and visited[i][j] == 0:\n",
    "            areas.append(dfs(i,j))\n",
    "            cnt += 1\n",
    "print(cnt)\n",
    "for i in sorted(areas):\n",
    "    print(i, end=' ')"
   ]
  }
 ],
 "metadata": {
  "kernelspec": {
   "display_name": "Python 3.9.13 64-bit",
   "language": "python",
   "name": "python3"
  },
  "language_info": {
   "codemirror_mode": {
    "name": "ipython",
    "version": 3
   },
   "file_extension": ".py",
   "mimetype": "text/x-python",
   "name": "python",
   "nbconvert_exporter": "python",
   "pygments_lexer": "ipython3",
   "version": "3.9.13"
  },
  "orig_nbformat": 4,
  "vscode": {
   "interpreter": {
    "hash": "b0fa6594d8f4cbf19f97940f81e996739fb7646882a419484c72d19e05852a7e"
   }
  }
 },
 "nbformat": 4,
 "nbformat_minor": 2
}
