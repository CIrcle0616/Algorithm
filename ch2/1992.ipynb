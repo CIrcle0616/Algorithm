{
 "cells": [
  {
   "cell_type": "markdown",
   "metadata": {},
   "source": [
    "# 쿼드트리\n",
    "## 영상을 배열로 입력받기"
   ]
  },
  {
   "cell_type": "code",
   "execution_count": 10,
   "metadata": {},
   "outputs": [],
   "source": [
    "N = int(input())\n",
    "graph = []\n",
    "for i in range(N):\n",
    "    graph.append(list(map(int,input())))"
   ]
  },
  {
   "cell_type": "code",
   "execution_count": 98,
   "metadata": {},
   "outputs": [],
   "source": [
    "def quad(y,x,size):\n",
    "    if size == 1:\n",
    "        return str(graph[y][x])\n",
    "    check = graph[y][x]\n",
    "    for i in range(y,y + size):\n",
    "        for j in range(x, x + size):\n",
    "            if check != graph[i][j]:\n",
    "                size = size // 2\n",
    "                ret = '('\n",
    "                ret += str(quad(y,x,size))\n",
    "                ret += str(quad(y,x+size,size))\n",
    "                ret += str(quad(y+size,x,size))\n",
    "                ret += str(quad(y+size,x+size,size))\n",
    "                ret += ')'\n",
    "                return ret\n",
    "    return str(graph[y][x])\n"
   ]
  },
  {
   "cell_type": "code",
   "execution_count": 99,
   "metadata": {},
   "outputs": [
    {
     "name": "stdout",
     "output_type": "stream",
     "text": [
      "((110(0101))(0010)1(0001))\n"
     ]
    }
   ],
   "source": [
    "print(quad(0,0,N))"
   ]
  },
  {
   "cell_type": "markdown",
   "metadata": {},
   "source": [
    "## 문제해결 후 기억했으면 좋을 점\n",
    "- 재귀함수를 만들땐 모든 재귀함수가 하나의 값을 return 할 수 있도록 주의하여 작성한다.\n",
    "- 재귀함수의 값을 계산하는 방법은 root에서 모든 가지수대로 뻗어가고 마지막 가지에서 return값을 모아서 거둬드린다는 개념으로 이해해보면 좋을 듯 하다."
   ]
  },
  {
   "cell_type": "markdown",
   "metadata": {},
   "source": []
  }
 ],
 "metadata": {
  "kernelspec": {
   "display_name": "Python 3.9.13 64-bit",
   "language": "python",
   "name": "python3"
  },
  "language_info": {
   "codemirror_mode": {
    "name": "ipython",
    "version": 3
   },
   "file_extension": ".py",
   "mimetype": "text/x-python",
   "name": "python",
   "nbconvert_exporter": "python",
   "pygments_lexer": "ipython3",
   "version": "3.9.13"
  },
  "orig_nbformat": 4,
  "vscode": {
   "interpreter": {
    "hash": "b0fa6594d8f4cbf19f97940f81e996739fb7646882a419484c72d19e05852a7e"
   }
  }
 },
 "nbformat": 4,
 "nbformat_minor": 2
}
