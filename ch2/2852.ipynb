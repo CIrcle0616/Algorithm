{
 "cells": [
  {
   "cell_type": "markdown",
   "metadata": {},
   "source": [
    "# 2852 NBA 농구\n",
    "    각 팀이 몇 분동안 이기고 있었는지 출력하는 프로그램을 작성하라"
   ]
  },
  {
   "cell_type": "code",
   "execution_count": 61,
   "metadata": {},
   "outputs": [
    {
     "name": "stdout",
     "output_type": "stream",
     "text": [
      "48:00\n",
      "00:00\n"
     ]
    }
   ],
   "source": [
    "N = int(input())\n",
    "A, B = 0, 0\n",
    "Asum, Bsum = 0, 0\n",
    "\n",
    "def changeToInt(time):\n",
    "    time = list(map(int,time.split(':')))\n",
    "    time = time[0] * 60 + time[1]\n",
    "    return time\n",
    "\n",
    "def changeToStr(x):\n",
    "    time1 = '00' + str(x // 60) \n",
    "    time2 = '00' +str(x % 60)\n",
    "    time = time1[-2:] + ':' + time2[-2:]\n",
    "    return time\n",
    "\n",
    "for i in range(N):\n",
    "    team, time = input().split()\n",
    "    time = changeToInt(time)\n",
    "    if A > B:\n",
    "        Asum += time - prev\n",
    "    elif B > A:\n",
    "        Bsum += time - prev\n",
    "    if team == '1':\n",
    "        A += 1\n",
    "    elif team == '2':\n",
    "        B += 1\n",
    "    prev = time\n",
    "if A > B:\n",
    "    Asum = 48 * 60 - prev\n",
    "elif B > A:\n",
    "    Bsum = 48 * 60 - prev\n",
    "print(changeToStr(Asum))\n",
    "print(changeToStr(Bsum))\n",
    "    "
   ]
  },
  {
   "cell_type": "code",
   "execution_count": 47,
   "metadata": {},
   "outputs": [
    {
     "name": "stdout",
     "output_type": "stream",
     "text": [
      "01:10\n"
     ]
    }
   ],
   "source": [
    "changeToInt('01:10')\n",
    "\n",
    "def changeToStr(x):\n",
    "    time1 = '00' + str(x // 60) \n",
    "    time2 = '000' +str(x % 60)\n",
    "    time = time1[-2:] + ':' + time2[-2:]\n",
    "    return time\n",
    "print(changeToStr(70))"
   ]
  },
  {
   "cell_type": "markdown",
   "metadata": {},
   "source": [
    "로직 정리\n",
    "각 팀의 점수를 계산하여 "
   ]
  },
  {
   "cell_type": "code",
   "execution_count": 66,
   "metadata": {},
   "outputs": [
    {
     "name": "stdout",
     "output_type": "stream",
     "text": [
      "[] [70]\n",
      "[] [70]\n",
      "[620] [70]\n"
     ]
    }
   ],
   "source": [
    "N = int(input())\n",
    "A,B = 0,0\n",
    "asum,bsum = [],[]\n",
    "prev = 0\n",
    "for i in range(N):\n",
    "    t, clock = input().split()\n",
    "    t = int(t)\n",
    "    clock = list(map(int,clock.split(':')))\n",
    "    clock = clock[0] * 60 + clock[1]\n",
    "    if t == 1:\n",
    "        A += 1\n",
    "    if t == 2:\n",
    "        B += 1\n",
    "    prev = clock\n",
    "    print(asum,bsum)\n",
    "\n"
   ]
  }
 ],
 "metadata": {
  "kernelspec": {
   "display_name": "Python 3.9.13 64-bit",
   "language": "python",
   "name": "python3"
  },
  "language_info": {
   "codemirror_mode": {
    "name": "ipython",
    "version": 3
   },
   "file_extension": ".py",
   "mimetype": "text/x-python",
   "name": "python",
   "nbconvert_exporter": "python",
   "pygments_lexer": "ipython3",
   "version": "3.9.13"
  },
  "orig_nbformat": 4,
  "vscode": {
   "interpreter": {
    "hash": "b0fa6594d8f4cbf19f97940f81e996739fb7646882a419484c72d19e05852a7e"
   }
  }
 },
 "nbformat": 4,
 "nbformat_minor": 2
}
