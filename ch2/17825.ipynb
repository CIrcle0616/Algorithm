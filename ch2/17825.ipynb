{
 "cells": [
  {
   "cell_type": "code",
   "execution_count": null,
   "metadata": {},
   "outputs": [],
   "source": [
    "point = [-1,-1,-1,-1]\n",
    "array = list(map(int,input().split()))\n",
    "aidx = array[0]\n",
    "a = graph[aidx]\n",
    "point[0] = aidx\n",
    "bidx, cidx, didx = 0,0,0\n",
    "idx = [aidx,bidx,cidx,didx]\n",
    "for i in range(1,10):\n",
    "    for j in idx:\n",
    "        if i + array[j] in point:\n",
    "            continue\n",
    "        else:\n",
    "            j += array[j]\n",
    "            break\n",
    "    "
   ]
  },
  {
   "cell_type": "code",
   "execution_count": 11,
   "metadata": {},
   "outputs": [
    {
     "name": "stdout",
     "output_type": "stream",
     "text": [
      "[2, 4, 6, 8, 10, 12, 14, 16, 18, 20, 22, 24, 26, 28, 30, 32, 34, 36, 38, 40] \n",
      " [13, 16, 19, 25, 30, 35, 40] \n",
      " [20, 22, 24, 25, 30, 35, 40] \n",
      " [30, 28, 27, 26, 25, 30, 35, 40]\n",
      "[[2, 4, 6, 8, 10, 12, 14, 16, 18, 20, 22, 24, 26, 28, 30, 32, 34, 36, 38, 40], [13, 16, 19, 25, 30, 35, 40], [20, 22, 24, 25, 30, 35, 40], [30, 28, 27, 26, 25, 30, 35, 40]]\n"
     ]
    }
   ],
   "source": [
    "graph1 = list(range(2,41,2))\n",
    "graph2 = [13,16,19,25,30,35,40]\n",
    "graph3 = [20,22,24,25,30,35,40]\n",
    "graph4 = [30,28,27,26,25,30,35,40]\n",
    "graph = [graph1,graph2,graph3,graph4]\n",
    "print(a,'\\n',b,'\\n',c,'\\n',d)\n",
    "print(graph)"
   ]
  },
  {
   "cell_type": "code",
   "execution_count": 30,
   "metadata": {},
   "outputs": [
    {
     "name": "stdout",
     "output_type": "stream",
     "text": [
      "190\n"
     ]
    }
   ],
   "source": [
    "from collections import deque\n",
    "\n",
    "graph = [[1], [2], [3], [4], [5], [6, 21], [7], [8], [9], [10], [11, 25], [12], [13], [14], [15], [16, 27], [17], [18], [19], [20], [32], [22], [23], [24], [30], [26], [24], [28], [29], [24], [31], [20], [32]]\n",
    "score = [0, 2, 4, 6, 8, 10, 12, 14, 16, 18, 20, 22, 24, 26, 28, 30, 32, 34, 36, 38, 40, 13, 16, 19, 25, 22, 24, 28, 27, 26, 30, 35, 0]\n",
    "mal = [0,0,0,0]\n",
    "n = 10\n",
    "\n",
    "def move(here, cnt):\n",
    "    if here == 32: return 0\n",
    "    if len(graph[here]) >= 2:\n",
    "        here = graph[here][1]\n",
    "        cnt -= 1\n",
    "\n",
    "    if cnt:\n",
    "        q = deque()\n",
    "        q.append(here)\n",
    "        there = -1\n",
    "        while q:\n",
    "            x = q.popleft()\n",
    "            there = graph[x][0]\n",
    "            q.append(there)\n",
    "            if there == 32: break\n",
    "            cnt -= 1\n",
    "            if cnt == 0: break\n",
    "        return there\n",
    "    return here\n",
    "\n",
    "def is_mal(mal_idx, idx):\n",
    "    if mal_idx == 32: return False\n",
    "    for i in range(4):\n",
    "        if i == idx: continue\n",
    "        if mal[i] == mal_idx: return True\n",
    "    return False\n",
    "\n",
    "\n",
    "def go(here):\n",
    "    if here == n: return 0\n",
    "    ret = 0\n",
    "    for i in range(4):\n",
    "        temp_idx = mal[i]\n",
    "        mal_idx = move(temp_idx, a[here])\n",
    "        if (is_mal(mal_idx, i)): continue\n",
    "        mal[i] = mal_idx\n",
    "        ret = max(ret, go(here + 1) + score[mal_idx])\n",
    "        mal[i] = temp_idx\n",
    "    return ret\n",
    "\n",
    "a = list(map(int,input().split()))\n",
    "print(go(0))\n",
    "\n",
    "\n"
   ]
  }
 ],
 "metadata": {
  "kernelspec": {
   "display_name": "Python 3",
   "language": "python",
   "name": "python3"
  },
  "language_info": {
   "codemirror_mode": {
    "name": "ipython",
    "version": 3
   },
   "file_extension": ".py",
   "mimetype": "text/x-python",
   "name": "python",
   "nbconvert_exporter": "python",
   "pygments_lexer": "ipython3",
   "version": "3.9.13"
  },
  "orig_nbformat": 4,
  "vscode": {
   "interpreter": {
    "hash": "b0fa6594d8f4cbf19f97940f81e996739fb7646882a419484c72d19e05852a7e"
   }
  }
 },
 "nbformat": 4,
 "nbformat_minor": 2
}
