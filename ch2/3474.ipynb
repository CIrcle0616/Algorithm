{
 "cells": [
  {
   "cell_type": "markdown",
   "metadata": {},
   "source": [
    "# 3474 교수가 된 현우\n",
    "    - 주어진 N ~ 1까지 0의 갯수를 세면 되는 문제\n",
    "    - N!를 직접 계산 할 순 없다"
   ]
  },
  {
   "cell_type": "code",
   "execution_count": 19,
   "metadata": {},
   "outputs": [
    {
     "name": "stdout",
     "output_type": "stream",
     "text": [
      "0\n",
      "14\n",
      "24\n",
      "253\n",
      "5861\n",
      "2183837\n"
     ]
    }
   ],
   "source": [
    "import sys \n",
    "T = int(input())\n",
    "for _ in range(T):\n",
    "    cnt = 0\n",
    "    N = int(sys.stdin.readline())\n",
    "    i = 5\n",
    "    while i <= N:\n",
    "        cnt += N // i\n",
    "        i *= 5\n",
    "    print(cnt)\n",
    "    "
   ]
  },
  {
   "cell_type": "markdown",
   "metadata": {},
   "source": [
    "해결 개념 팩토리얼의 0의 개수\n",
    "https://itadventure.tistory.com/22"
   ]
  },
  {
   "cell_type": "markdown",
   "metadata": {},
   "source": []
  }
 ],
 "metadata": {
  "kernelspec": {
   "display_name": "Python 3.9.13 64-bit",
   "language": "python",
   "name": "python3"
  },
  "language_info": {
   "codemirror_mode": {
    "name": "ipython",
    "version": 3
   },
   "file_extension": ".py",
   "mimetype": "text/x-python",
   "name": "python",
   "nbconvert_exporter": "python",
   "pygments_lexer": "ipython3",
   "version": "3.9.13"
  },
  "orig_nbformat": 4,
  "vscode": {
   "interpreter": {
    "hash": "b0fa6594d8f4cbf19f97940f81e996739fb7646882a419484c72d19e05852a7e"
   }
  }
 },
 "nbformat": 4,
 "nbformat_minor": 2
}
