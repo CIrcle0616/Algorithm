{
 "cells": [
  {
   "cell_type": "markdown",
   "metadata": {},
   "source": [
    "# 2910 빈도정렬\n",
    "    간단하게 생각해본 푸는 방법\n",
    "    - 메시지를 입력받고 queue에 저장한 후에 pop한다.\n",
    "    - 그 수를 트리식으로 비교하여 크면 오른쪽 작으면 왼쪽으로 내려보낸다.\n",
    "    - 이렇게 분류한 이후에 빈도대로 앞에서 부터 출력한다."
   ]
  },
  {
   "cell_type": "code",
   "execution_count": null,
   "metadata": {},
   "outputs": [],
   "source": [
    "#변수 입력부\n",
    "N, C = map(int,input().split())\n",
    "msg = list(map(int,input().split()))\n",
    "nums = set(msg)\n",
    "cnt = {}\n",
    "for i in nums:\n",
    "    cnt[i] = msg.count(i)\n",
    "numbers = [[i,j] for i, j in cnt]"
   ]
  },
  {
   "cell_type": "markdown",
   "metadata": {},
   "source": [
    "알고리즘 강의에 따르면 커스텀 오퍼레이션을 사용하여 해결하는 것을 추천한다. "
   ]
  },
  {
   "cell_type": "code",
   "execution_count": 24,
   "metadata": {},
   "outputs": [
    {
     "ename": "TypeError",
     "evalue": "'int' object is not subscriptable",
     "output_type": "error",
     "traceback": [
      "\u001b[0;31m---------------------------------------------------------------------------\u001b[0m",
      "\u001b[0;31mTypeError\u001b[0m                                 Traceback (most recent call last)",
      "\u001b[1;32m/Users/owl/Desktop/Algorithm/ch2/2910.ipynb 셀 4\u001b[0m in \u001b[0;36m<cell line: 9>\u001b[0;34m()\u001b[0m\n\u001b[1;32m      <a href='vscode-notebook-cell:/Users/owl/Desktop/Algorithm/ch2/2910.ipynb#W3sZmlsZQ%3D%3D?line=6'>7</a>\u001b[0m     \u001b[39melse\u001b[39;00m:\n\u001b[1;32m      <a href='vscode-notebook-cell:/Users/owl/Desktop/Algorithm/ch2/2910.ipynb#W3sZmlsZQ%3D%3D?line=7'>8</a>\u001b[0m         cnt[msg[i]] \u001b[39m=\u001b[39m [\u001b[39m1\u001b[39m, i]\n\u001b[0;32m----> <a href='vscode-notebook-cell:/Users/owl/Desktop/Algorithm/ch2/2910.ipynb#W3sZmlsZQ%3D%3D?line=8'>9</a>\u001b[0m result \u001b[39m=\u001b[39m \u001b[39msorted\u001b[39;49m(cnt\u001b[39m.\u001b[39;49mitems(), key\u001b[39m=\u001b[39;49m \u001b[39mlambda\u001b[39;49;00m x: (\u001b[39m-\u001b[39;49mx[\u001b[39m0\u001b[39;49m][\u001b[39m0\u001b[39;49m], x[\u001b[39m0\u001b[39;49m][\u001b[39m1\u001b[39;49m]))\n\u001b[1;32m     <a href='vscode-notebook-cell:/Users/owl/Desktop/Algorithm/ch2/2910.ipynb#W3sZmlsZQ%3D%3D?line=9'>10</a>\u001b[0m answer \u001b[39m=\u001b[39m []\n\u001b[1;32m     <a href='vscode-notebook-cell:/Users/owl/Desktop/Algorithm/ch2/2910.ipynb#W3sZmlsZQ%3D%3D?line=10'>11</a>\u001b[0m \u001b[39mfor\u001b[39;00m i \u001b[39min\u001b[39;00m result:\n",
      "\u001b[1;32m/Users/owl/Desktop/Algorithm/ch2/2910.ipynb 셀 4\u001b[0m in \u001b[0;36m<lambda>\u001b[0;34m(x)\u001b[0m\n\u001b[1;32m      <a href='vscode-notebook-cell:/Users/owl/Desktop/Algorithm/ch2/2910.ipynb#W3sZmlsZQ%3D%3D?line=6'>7</a>\u001b[0m     \u001b[39melse\u001b[39;00m:\n\u001b[1;32m      <a href='vscode-notebook-cell:/Users/owl/Desktop/Algorithm/ch2/2910.ipynb#W3sZmlsZQ%3D%3D?line=7'>8</a>\u001b[0m         cnt[msg[i]] \u001b[39m=\u001b[39m [\u001b[39m1\u001b[39m, i]\n\u001b[0;32m----> <a href='vscode-notebook-cell:/Users/owl/Desktop/Algorithm/ch2/2910.ipynb#W3sZmlsZQ%3D%3D?line=8'>9</a>\u001b[0m result \u001b[39m=\u001b[39m \u001b[39msorted\u001b[39m(cnt\u001b[39m.\u001b[39mitems(), key\u001b[39m=\u001b[39m \u001b[39mlambda\u001b[39;00m x: (\u001b[39m-\u001b[39mx[\u001b[39m0\u001b[39;49m][\u001b[39m0\u001b[39;49m], x[\u001b[39m0\u001b[39m][\u001b[39m1\u001b[39m]))\n\u001b[1;32m     <a href='vscode-notebook-cell:/Users/owl/Desktop/Algorithm/ch2/2910.ipynb#W3sZmlsZQ%3D%3D?line=9'>10</a>\u001b[0m answer \u001b[39m=\u001b[39m []\n\u001b[1;32m     <a href='vscode-notebook-cell:/Users/owl/Desktop/Algorithm/ch2/2910.ipynb#W3sZmlsZQ%3D%3D?line=10'>11</a>\u001b[0m \u001b[39mfor\u001b[39;00m i \u001b[39min\u001b[39;00m result:\n",
      "\u001b[0;31mTypeError\u001b[0m: 'int' object is not subscriptable"
     ]
    }
   ],
   "source": [
    "N,C = map(int,input().split())\n",
    "msg = list(map(int,input().split()))\n",
    "cnt = {}\n",
    "for i in range(N):\n",
    "    if msg[i] in cnt:\n",
    "        cnt[msg[i]][0] += 1\n",
    "    else:\n",
    "        cnt[msg[i]] = [1, i]\n",
    "result = sorted(cnt.items(), key= lambda x: (-x[1][0], x[1][1]))\n",
    "answer = []\n",
    "for i in result:\n",
    "    for j in range(i[1][0]):\n",
    "        answer.append(str(i[0]))\n",
    "print(result)\n",
    "print(cnt)\n",
    "print(\" \".join(answer))\n",
    "    \n",
    "\n"
   ]
  },
  {
   "cell_type": "code",
   "execution_count": 16,
   "metadata": {},
   "outputs": [
    {
     "name": "stdout",
     "output_type": "stream",
     "text": [
      "[[2, [3, 1]], [2, [3, 1]], [1, [2, 2]]]\n"
     ]
    }
   ],
   "source": [
    "n, c = map(int,input().split())\n",
    "seq = list(map(int,input().split()))\n",
    "count = {}\n",
    "idx = 1\n",
    "for s in seq:\n",
    "    if s in count:\n",
    "        count[s][0] += 1\n",
    "    else:\n",
    "        count[s] = [1, idx]\n",
    "        idx += 1\n",
    "numbers = [[i,j] for i,j in count.items()]\n",
    "numbers = sorted(numbers,key=lambda x:(-x[1][0], x[1][1]))\n",
    "res = []\n",
    "for i in range(len(numbers)):\n",
    "    for j in range():\n",
    "        res.append(numbers[i])\n",
    "print(res)\n"
   ]
  },
  {
   "cell_type": "code",
   "execution_count": 17,
   "metadata": {},
   "outputs": [
    {
     "name": "stdout",
     "output_type": "stream",
     "text": [
      "[[2, [3, 1]], [1, [2, 2]]]\n"
     ]
    }
   ],
   "source": [
    "print(numbers)"
   ]
  },
  {
   "cell_type": "code",
   "execution_count": 27,
   "metadata": {},
   "outputs": [
    {
     "name": "stdout",
     "output_type": "stream",
     "text": [
      "2 2 2 1 1\n"
     ]
    }
   ],
   "source": [
    "N,C = map(int,input().split())\n",
    "msg = list(map(int,input().split()))\n",
    "cnt = {}\n",
    "for i in range(N):\n",
    "    if msg[i] in cnt:\n",
    "        cnt[msg[i]][0] += 1\n",
    "    else:\n",
    "        cnt[msg[i]] = [1,i]\n",
    "res = sorted(cnt.items(),key=lambda x:(-x[1][0], x[1][1]))\n",
    "numbers = []\n",
    "for i in res:\n",
    "    for j in range(i[1][0]):\n",
    "        numbers.append(str(i[0]))\n",
    "print(\" \".join(numbers))\n",
    "    \n"
   ]
  },
  {
   "cell_type": "code",
   "execution_count": 28,
   "metadata": {},
   "outputs": [
    {
     "name": "stdout",
     "output_type": "stream",
     "text": [
      "dict_items([(2, [3, 0]), (1, [2, 1])])\n"
     ]
    }
   ],
   "source": [
    "print(cnt.items())\n",
    "c = cnt.items()"
   ]
  }
 ],
 "metadata": {
  "kernelspec": {
   "display_name": "Python 3.9.13 64-bit",
   "language": "python",
   "name": "python3"
  },
  "language_info": {
   "codemirror_mode": {
    "name": "ipython",
    "version": 3
   },
   "file_extension": ".py",
   "mimetype": "text/x-python",
   "name": "python",
   "nbconvert_exporter": "python",
   "pygments_lexer": "ipython3",
   "version": "3.9.13"
  },
  "orig_nbformat": 4,
  "vscode": {
   "interpreter": {
    "hash": "b0fa6594d8f4cbf19f97940f81e996739fb7646882a419484c72d19e05852a7e"
   }
  }
 },
 "nbformat": 4,
 "nbformat_minor": 2
}
