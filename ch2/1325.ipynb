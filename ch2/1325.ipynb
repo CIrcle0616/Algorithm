{
 "cells": [
  {
   "cell_type": "code",
   "execution_count": 18,
   "metadata": {},
   "outputs": [
    {
     "name": "stdout",
     "output_type": "stream",
     "text": [
      "1 "
     ]
    }
   ],
   "source": [
    "#1325 효율적인 해킹\n",
    "n, m = map(int,input().split())\n",
    "graph = [[] for _ in range(n+1)]\n",
    "visit = [0]*(n+1)\n",
    "max_value = 0\n",
    "idx = []\n",
    "\n",
    "def dfs(node):\n",
    "    global re\n",
    "    if graph[node] == []:\n",
    "        return 1\n",
    "    children = graph[node]\n",
    "    for child in children:\n",
    "        re += dfs(child)\n",
    "    return re + 1\n",
    "\n",
    "for i in range(m):\n",
    "    a, b = map(int,input().split())\n",
    "    graph[b].append(a)\n",
    "    idx.append(b)\n",
    "for node in idx:\n",
    "    re = 0\n",
    "    visit[node] = dfs(node)\n",
    "    if visit[node] > max_value:\n",
    "        max_value = visit[node]\n",
    "for node in idx:\n",
    "    if visit[node] == max_value:\n",
    "        print(node, end=' ')\n",
    "\n",
    "    \n",
    "#시간초과 발생 코드"
   ]
  },
  {
   "cell_type": "code",
   "execution_count": 38,
   "metadata": {},
   "outputs": [
    {
     "name": "stdout",
     "output_type": "stream",
     "text": [
      "1 2 3 3 "
     ]
    }
   ],
   "source": [
    "#풀이 2\n",
    "n, m = map(int,input().split())\n",
    "graph = [[] for _ in range(n+1)]\n",
    "idx = []\n",
    "value = [0] * (n+1)\n",
    "max_value = 0\n",
    "sol = []\n",
    "for _ in range(m):\n",
    "    a, b = map(int,input().split())\n",
    "    graph[b].append(a)\n",
    "    idx.append(b)\n",
    "   \n",
    "def dfs(here):\n",
    "    visit[here] = 1\n",
    "    ret = 1\n",
    "    for there in graph[here]:\n",
    "        if visit[here]:\n",
    "            continue\n",
    "        ret += dfs(there)\n",
    "    return ret\n",
    "\n",
    "for i in idx:\n",
    "    visit = [0] * (n+1)\n",
    "    value[i] = dfs(i)\n",
    "    if value[i] > max_value:\n",
    "        max_value = value[i]\n",
    "for i in idx:\n",
    "    if value[i] == max_value:\n",
    "        sol.append(i)\n",
    "sol.sort()\n",
    "for i in sol:\n",
    "    print(i, end=' ')\n",
    "\n"
   ]
  },
  {
   "cell_type": "code",
   "execution_count": 36,
   "metadata": {},
   "outputs": [
    {
     "data": {
      "text/plain": [
       "[0, 5, 2, 0, 1, 1, 1, 1]"
      ]
     },
     "execution_count": 36,
     "metadata": {},
     "output_type": "execute_result"
    }
   ],
   "source": [
    "def dfs(here):\n",
    "    visited[here] = 1\n",
    "    ret = 1\n",
    "    for there in graph[here]:\n",
    "        if visited[here]:\n",
    "            continue\n",
    "        ret += dfs(there)\n",
    "    return ret\n",
    "\n",
    "for i in range(n+1):\n",
    "    visited = [0] * (n+1)\n",
    "    dp[i] = dfs(i)\n",
    "    mx = max(dp[i], mx)\n"
   ]
  }
 ],
 "metadata": {
  "kernelspec": {
   "display_name": "Python 3",
   "language": "python",
   "name": "python3"
  },
  "language_info": {
   "codemirror_mode": {
    "name": "ipython",
    "version": 3
   },
   "file_extension": ".py",
   "mimetype": "text/x-python",
   "name": "python",
   "nbconvert_exporter": "python",
   "pygments_lexer": "ipython3",
   "version": "3.9.13"
  },
  "orig_nbformat": 4,
  "vscode": {
   "interpreter": {
    "hash": "b0fa6594d8f4cbf19f97940f81e996739fb7646882a419484c72d19e05852a7e"
   }
  }
 },
 "nbformat": 4,
 "nbformat_minor": 2
}
