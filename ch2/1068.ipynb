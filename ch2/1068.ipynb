{
 "cells": [
  {
   "cell_type": "code",
   "execution_count": 10,
   "metadata": {},
   "outputs": [],
   "source": [
    "#1068 트리\n",
    "n = int(input())\n",
    "tree = list(map(int,input().split()))\n",
    "remove_node = int(input())\n",
    "visited = [0] * n\n",
    "\n",
    "def explore(remove_nord):\n",
    "    visited[remove_nord] = 1\n",
    "    for i in range(n):\n",
    "        if tree[i] == remove_nord:\n",
    "            explore(i)\n",
    "explore(remove_nord)\n",
    "\n"
   ]
  },
  {
   "cell_type": "code",
   "execution_count": 20,
   "metadata": {},
   "outputs": [
    {
     "name": "stdout",
     "output_type": "stream",
     "text": [
      "2\n"
     ]
    }
   ],
   "source": [
    "def build_tree(n, parent_nodes):\n",
    "    tree = [[] for _ in range(n)]\n",
    "    for i, parent in enumerate(parent_nodes):\n",
    "        if parent == -1:\n",
    "            root = i\n",
    "        else:\n",
    "            tree[parent].append(i)\n",
    "    return root, tree\n",
    "\n",
    "def search_leaves(tree, node, leaves=[]):\n",
    "    children = tree[node]\n",
    "    if not children:\n",
    "        leaves.append(node)\n",
    "    else:\n",
    "        for child in children:\n",
    "            search_leaves(tree, child, leaves)\n",
    "    return leaves\n",
    "\n",
    "def delete_node_and_rebuild_tree(tree, deleted_node):\n",
    "    children = tree[deleted_node]\n",
    "    if not children:\n",
    "        del tree[deleted_node]\n",
    "    else:\n",
    "        for child in children:\n",
    "            delete_node_and_rebuild_tree(tree, child)\n",
    "    return tree\n",
    "        \n",
    "    \n",
    "n = int(input())\n",
    "parent_list = list(map(int,input().split()))\n",
    "deleted_node = int(input())\n",
    "\n",
    "tree = build_tree(n, parent_list)\n",
    "tree =  delete_node_and_rebuild_tree(tree, deleted_node)\n",
    "for node in range(len(tree)):\n",
    "    leaves = search_leaves(tree, node)"
   ]
  },
  {
   "cell_type": "code",
   "execution_count": 31,
   "metadata": {},
   "outputs": [
    {
     "ename": "IndexError",
     "evalue": "list index out of range",
     "output_type": "error",
     "traceback": [
      "\u001b[0;31m---------------------------------------------------------------------------\u001b[0m",
      "\u001b[0;31mIndexError\u001b[0m                                Traceback (most recent call last)",
      "\u001b[1;32mUntitled-1.ipynb 셀 3\u001b[0m in \u001b[0;36m<cell line: 39>\u001b[0;34m()\u001b[0m\n\u001b[1;32m     <a href='vscode-notebook-cell:Untitled-1.ipynb?jupyter-notebook#W5sdW50aXRsZWQ%3D?line=35'>36</a>\u001b[0m             search_leaves(tree, child, leaves)\n\u001b[1;32m     <a href='vscode-notebook-cell:Untitled-1.ipynb?jupyter-notebook#W5sdW50aXRsZWQ%3D?line=36'>37</a>\u001b[0m     \u001b[39mreturn\u001b[39;00m leaves\n\u001b[0;32m---> <a href='vscode-notebook-cell:Untitled-1.ipynb?jupyter-notebook#W5sdW50aXRsZWQ%3D?line=38'>39</a>\u001b[0m leaves \u001b[39m=\u001b[39m search_leaves(new_tree, root)\n\u001b[1;32m     <a href='vscode-notebook-cell:Untitled-1.ipynb?jupyter-notebook#W5sdW50aXRsZWQ%3D?line=39'>40</a>\u001b[0m \u001b[39mprint\u001b[39m(\u001b[39mlen\u001b[39m(leaves))\n",
      "\u001b[1;32mUntitled-1.ipynb 셀 3\u001b[0m in \u001b[0;36msearch_leaves\u001b[0;34m(tree, node, leaves)\u001b[0m\n\u001b[1;32m     <a href='vscode-notebook-cell:Untitled-1.ipynb?jupyter-notebook#W5sdW50aXRsZWQ%3D?line=33'>34</a>\u001b[0m \u001b[39melse\u001b[39;00m:\n\u001b[1;32m     <a href='vscode-notebook-cell:Untitled-1.ipynb?jupyter-notebook#W5sdW50aXRsZWQ%3D?line=34'>35</a>\u001b[0m     \u001b[39mfor\u001b[39;00m child \u001b[39min\u001b[39;00m children:\n\u001b[0;32m---> <a href='vscode-notebook-cell:Untitled-1.ipynb?jupyter-notebook#W5sdW50aXRsZWQ%3D?line=35'>36</a>\u001b[0m         search_leaves(tree, child, leaves)\n\u001b[1;32m     <a href='vscode-notebook-cell:Untitled-1.ipynb?jupyter-notebook#W5sdW50aXRsZWQ%3D?line=36'>37</a>\u001b[0m \u001b[39mreturn\u001b[39;00m leaves\n",
      "\u001b[1;32mUntitled-1.ipynb 셀 3\u001b[0m in \u001b[0;36msearch_leaves\u001b[0;34m(tree, node, leaves)\u001b[0m\n\u001b[1;32m     <a href='vscode-notebook-cell:Untitled-1.ipynb?jupyter-notebook#W5sdW50aXRsZWQ%3D?line=29'>30</a>\u001b[0m \u001b[39mdef\u001b[39;00m \u001b[39msearch_leaves\u001b[39m(tree, node, leaves\u001b[39m=\u001b[39m[]):\n\u001b[0;32m---> <a href='vscode-notebook-cell:Untitled-1.ipynb?jupyter-notebook#W5sdW50aXRsZWQ%3D?line=30'>31</a>\u001b[0m     children \u001b[39m=\u001b[39m tree[node]\n\u001b[1;32m     <a href='vscode-notebook-cell:Untitled-1.ipynb?jupyter-notebook#W5sdW50aXRsZWQ%3D?line=31'>32</a>\u001b[0m     \u001b[39mif\u001b[39;00m \u001b[39mnot\u001b[39;00m children:\n\u001b[1;32m     <a href='vscode-notebook-cell:Untitled-1.ipynb?jupyter-notebook#W5sdW50aXRsZWQ%3D?line=32'>33</a>\u001b[0m         leaves\u001b[39m.\u001b[39mappend(node)\n",
      "\u001b[0;31mIndexError\u001b[0m: list index out of range"
     ]
    }
   ],
   "source": [
    "n = int(input())\n",
    "parent_node = list(map(int,input().split()))\n",
    "deleted_node = int(input())\n",
    "\n",
    "def construct_tree(n, parent_node):\n",
    "    tree = [[] for _ in range(n)]\n",
    "    for i, parent in enumerate(parent_list):\n",
    "        if parent == -1:\n",
    "            root = i\n",
    "        else:\n",
    "            tree[parent].append(i)\n",
    "    return root, tree\n",
    "\n",
    "def delete_node_and_descendants(tree, deleted_node):\n",
    "    if not tree:\n",
    "        return []\n",
    "    new_tree = []\n",
    "    for sub_tree in tree:\n",
    "        if isinstance(sub_tree, list):\n",
    "            sub_tree = delete_node_and_descendants(sub_tree, deleted_node)\n",
    "            if sub_tree:\n",
    "                new_tree.append(sub_tree)\n",
    "        else:\n",
    "            if sub_tree != deleted_node:\n",
    "                new_tree.append(sub_tree)\n",
    "    return new_tree\n",
    "\n",
    "root, tree = construct_tree(n, parent_node)\n",
    "new_tree = delete_node_and_descendants(tree, deleted_node)\n",
    "def search_leaves(tree, node, leaves=[]):\n",
    "    children = tree[node]\n",
    "    if not children:\n",
    "        leaves.append(node)\n",
    "    else:\n",
    "        for child in children:\n",
    "            search_leaves(tree, child, leaves)\n",
    "    return leaves\n",
    "\n",
    "leaves = search_leaves(new_tree, root)\n",
    "print(len(leaves))\n",
    "        "
   ]
  },
  {
   "cell_type": "code",
   "execution_count": 29,
   "metadata": {},
   "outputs": [
    {
     "data": {
      "text/plain": [
       "[[1, 2], [3, 4], [], [], []]"
      ]
     },
     "execution_count": 29,
     "metadata": {},
     "output_type": "execute_result"
    }
   ],
   "source": [
    "tree"
   ]
  },
  {
   "cell_type": "code",
   "execution_count": 51,
   "metadata": {},
   "outputs": [
    {
     "name": "stdout",
     "output_type": "stream",
     "text": [
      "1\n"
     ]
    }
   ],
   "source": [
    "n = int(input())\n",
    "parent = list(map(int,input().split()))\n",
    "deleteNode = int(input())\n",
    "\n",
    "def build_tree(n, parent):\n",
    "    tree = [[] for _ in range(n)]\n",
    "    for i, parent in enumerate(parent):\n",
    "        if parent == -1:\n",
    "            root = i\n",
    "        else:\n",
    "            tree[parent].append(i)\n",
    "    return root, tree\n",
    "notleaves = []\n",
    "root, tree = build_tree(n, parent)\n",
    "def remove_sub_tree(node,tree):\n",
    "    children = tree[node]\n",
    "    tree[node] = ['x']\n",
    "    for child in children:\n",
    "        notleaves.append(child)\n",
    "        remove_sub_tree(child,tree)\n",
    "    return tree\n",
    "\n",
    "remove_sub_tree(deleteNode,tree)\n",
    "count_leaves = 0\n",
    "for i in range(n):\n",
    "    if tree[i] == [deleteNode]:\n",
    "        tree[i] = []\n",
    "    if tree[i] == []:\n",
    "        count_leaves += 1\n",
    "print(count_leaves)\n",
    "    \n"
   ]
  },
  {
   "cell_type": "code",
   "execution_count": 49,
   "metadata": {},
   "outputs": [
    {
     "data": {
      "text/plain": [
       "[[1, 2], [], [4], ['x'], ['x'], ['x'], ['x'], ['x'], ['x']]"
      ]
     },
     "execution_count": 49,
     "metadata": {},
     "output_type": "execute_result"
    }
   ],
   "source": [
    "tree\n"
   ]
  }
 ],
 "metadata": {
  "kernelspec": {
   "display_name": "Python 3",
   "language": "python",
   "name": "python3"
  },
  "language_info": {
   "codemirror_mode": {
    "name": "ipython",
    "version": 3
   },
   "file_extension": ".py",
   "mimetype": "text/x-python",
   "name": "python",
   "nbconvert_exporter": "python",
   "pygments_lexer": "ipython3",
   "version": "3.9.13"
  },
  "orig_nbformat": 4,
  "vscode": {
   "interpreter": {
    "hash": "b0fa6594d8f4cbf19f97940f81e996739fb7646882a419484c72d19e05852a7e"
   }
  }
 },
 "nbformat": 4,
 "nbformat_minor": 2
}
