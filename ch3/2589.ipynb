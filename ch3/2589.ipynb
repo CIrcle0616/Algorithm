{
 "cells": [
  {
   "cell_type": "code",
   "execution_count": 32,
   "metadata": {},
   "outputs": [
    {
     "name": "stdout",
     "output_type": "stream",
     "text": [
      "8\n"
     ]
    }
   ],
   "source": [
    "#2589 보물섬\n",
    "from collections import deque\n",
    "\n",
    "#상 하 좌 우\n",
    "dy = [1,-1,0,0]\n",
    "dx = [0,0,-1,1]\n",
    "#입력\n",
    "n, m = map(int,input().split())\n",
    "graph = [list(input()) for _ in range(n)]\n",
    "\n",
    "#bfs\n",
    "def bfs(y,x):\n",
    "    q = deque()\n",
    "    visited = [[-1]*m for _ in range(n)]\n",
    "    q.append((y,x))\n",
    "    visited[y][x] = 0\n",
    "    dist = 0\n",
    "    while q:\n",
    "        y,x = q.popleft()\n",
    "        for i in range(4):\n",
    "            ny = y + dy[i]\n",
    "            nx = x + dx[i]\n",
    "            if ny < 0 or nx < 0 or ny >= n or nx >= m or graph[ny][nx]  == 'W' or visited[ny][nx] != -1: continue\n",
    "            visited[ny][nx] = visited[y][x]+1\n",
    "            q.append((ny,nx))\n",
    "            dist = max(dist, visited[ny][nx])\n",
    "    return  dist\n",
    "dist = 0\n",
    "for i in range(n):\n",
    "    for j in range(m):\n",
    "        if graph[i][j] == 'L':\n",
    "            dist = max(dist, bfs(i,j))\n",
    "print(dist)"
   ]
  },
  {
   "cell_type": "code",
   "execution_count": 24,
   "metadata": {},
   "outputs": [
    {
     "name": "stdout",
     "output_type": "stream",
     "text": [
      "8\n"
     ]
    }
   ],
   "source": [
    "from itertools import combinations\n",
    "from collections import deque\n",
    "\n",
    "dy = [0,1,0,-1]\n",
    "dx = [1,0,-1,0]\n",
    "\n",
    "def bfs(start,end):\n",
    "    y,x = start\n",
    "    visited = [[0]*m for _ in range(n)]\n",
    "    q = deque()\n",
    "    q.append((y,x))\n",
    "    while q:\n",
    "        y,x = q.popleft()\n",
    "        for i in range(4):\n",
    "            ny = y + dy[i]\n",
    "            nx = x + dx[i]\n",
    "            if ny < 0 or nx < 0 or ny >= n or nx >= m or graph[ny][nx]  == 'W' or visited[ny][nx]: continue\n",
    "            visited[ny][nx] = visited[y][x] + 1\n",
    "            q.append((ny,nx))\n",
    "    return visited[end[0]][end[1]]\n",
    "\n",
    "n, m = map(int,input().split())\n",
    "graph = [list(input()) for _ in range(n)]\n",
    "loc = []\n",
    "dist = 0\n",
    "\n",
    "for i in range(n):\n",
    "    for j in range(m):\n",
    "        if graph[i][j] == 'L':\n",
    "            loc.append((i,j))\n",
    "\n",
    "for c in combinations(loc,2):\n",
    "    dist = max(dist,bfs(c[0],c[1]))\n",
    "print(dist)"
   ]
  },
  {
   "cell_type": "code",
   "execution_count": null,
   "metadata": {},
   "outputs": [],
   "source": []
  }
 ],
 "metadata": {
  "kernelspec": {
   "display_name": "Python 3",
   "language": "python",
   "name": "python3"
  },
  "language_info": {
   "codemirror_mode": {
    "name": "ipython",
    "version": 3
   },
   "file_extension": ".py",
   "mimetype": "text/x-python",
   "name": "python",
   "nbconvert_exporter": "python",
   "pygments_lexer": "ipython3",
   "version": "3.9.13"
  },
  "orig_nbformat": 4,
  "vscode": {
   "interpreter": {
    "hash": "b0fa6594d8f4cbf19f97940f81e996739fb7646882a419484c72d19e05852a7e"
   }
  }
 },
 "nbformat": 4,
 "nbformat_minor": 2
}
