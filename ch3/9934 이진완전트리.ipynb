{
 "cells": [
  {
   "cell_type": "code",
   "execution_count": null,
   "metadata": {},
   "outputs": [],
   "source": [
    "k = int(input())\n",
    "nodes = list(map(int,input().split()))\n",
    "graph = [[] for _ in range(k)]\n",
    "visited = [0] * 2**k\n",
    "\n",
    "for n in range(k):\n",
    "    graph[n].append(nodes[2**(k-n-1) - 1])\n",
    "    visited[2**n - 1] = 1\n",
    "    for i in range(2**k):\n",
    "        if i == graph[n][-1] + 2**(k-n):\n",
    "            graph[n].append(nodes[i])\n",
    "    \n",
    "#실패\n"
   ]
  },
  {
   "cell_type": "code",
   "execution_count": null,
   "metadata": {},
   "outputs": [],
   "source": [
    "#가운데를 추출하고 다음 레벨로 이동하는 풀이법\n",
    "k = int(input())\n",
    "nodes = list(map(int,input().split()))\n",
    "graph = [[] for _ in range(k)]\n",
    "\n",
    "def go(s, e, level):\n",
    "    if s > e: return\n",
    "    if level == k: return\n",
    "    if s == e: \n",
    "        graph[level].append(nodes[s])\n",
    "        return\n",
    "    mid = int((s + e) / 2)\n",
    "    graph[level].append(nodes[mid])\n",
    "    go(s, mid - 1, level + 1)\n",
    "    go(mid + 1, e, level + 1)\n",
    "    return\n",
    "\n",
    "go(0,2**k - 2, 0)\n",
    "\n",
    "for i in range(k):\n",
    "    for j in graph[i]:\n",
    "        print(j, end=' ')\n",
    "    print()"
   ]
  },
  {
   "cell_type": "code",
   "execution_count": null,
   "metadata": {},
   "outputs": [],
   "source": [
    "graph"
   ]
  },
  {
   "cell_type": "code",
   "execution_count": null,
   "metadata": {},
   "outputs": [],
   "source": []
  }
 ],
 "metadata": {
  "kernelspec": {
   "display_name": "Python 3",
   "language": "python",
   "name": "python3"
  },
  "language_info": {
   "codemirror_mode": {
    "name": "ipython",
    "version": 3
   },
   "file_extension": ".py",
   "mimetype": "text/x-python",
   "name": "python",
   "nbconvert_exporter": "python",
   "pygments_lexer": "ipython3",
   "version": "3.9.13"
  },
  "orig_nbformat": 4
 },
 "nbformat": 4,
 "nbformat_minor": 2
}
