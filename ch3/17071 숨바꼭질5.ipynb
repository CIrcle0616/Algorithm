{
 "cells": [
  {
   "cell_type": "code",
   "execution_count": null,
   "metadata": {},
   "outputs": [],
   "source": [
    "#17071 숨바꼭질5\n",
    "\n",
    "from collections import deque\n",
    "\n",
    "n, k = map(int,input().split())\n",
    "MAX = 500001\n",
    "visited = [[0] * (MAX + 4) for _ in range(2)]\n",
    "move_k = []\n",
    "i = k\n",
    "a = 1\n",
    "while i <= 500000:\n",
    "    move_k.append(i)\n",
    "    i += a\n",
    "    a += 1\n",
    "\n",
    "if n == k:\n",
    "    print(0)\n",
    "else:\n",
    "    q = deque()\n",
    "    q.append(n)\n",
    "    visited[n] = 1 #n이라는 정수를 방문하는 데 걸리는 시간을 저장하는 배열\n",
    "    while q:\n",
    "        here = q.popleft()\n",
    "        if here == move_k[visited[here]-1]:\n",
    "            ret = visited[here]\n",
    "            break\n",
    "        for next in [here+1, here-1, here*2]: #수빈이가 이동하는 경우의 수\n",
    "            if 0 <= next and next <= 100000: #수빈이가 이동할 수 있는 범위를 의미한다. next가 0이상 100000이하일때 이동가능\n",
    "                if not visited[next]: #다음에 방문할 정수가 방문한 적이 없을 경우에 이동가능하다 = 다음 정수로 이동거리가 최소거리이다(bfs 넓이 우선 탐색이기 때문에)\n",
    "                    visited[next] = visited[here] + 1 #수빈이가 이동한 시간은 전의 정수를 방문한 시간 + 1이다.\n",
    "                q.append(next) #이동했으니 q에 추가한다\n",
    "    \n",
    "    \n"
   ]
  },
  {
   "cell_type": "code",
   "execution_count": 24,
   "metadata": {},
   "outputs": [
    {
     "ename": "IndexError",
     "evalue": "list index out of range",
     "output_type": "error",
     "traceback": [
      "\u001b[0;31m---------------------------------------------------------------------------\u001b[0m",
      "\u001b[0;31mIndexError\u001b[0m                                Traceback (most recent call last)",
      "\u001b[1;32mUntitled-1.ipynb Cell 2\u001b[0m in \u001b[0;36m<cell line: 43>\u001b[0;34m()\u001b[0m\n\u001b[1;32m     <a href='vscode-notebook-cell:Untitled-1.ipynb?jupyter-notebook#W2sdW50aXRsZWQ%3D?line=39'>40</a>\u001b[0m         \u001b[39mif\u001b[39;00m ok:\u001b[39mbreak\u001b[39;00m\n\u001b[1;32m     <a href='vscode-notebook-cell:Untitled-1.ipynb?jupyter-notebook#W2sdW50aXRsZWQ%3D?line=40'>41</a>\u001b[0m         turn \u001b[39m+\u001b[39m\u001b[39m=\u001b[39m \u001b[39m1\u001b[39m\n\u001b[0;32m---> <a href='vscode-notebook-cell:Untitled-1.ipynb?jupyter-notebook#W2sdW50aXRsZWQ%3D?line=42'>43</a>\u001b[0m main()\n",
      "\u001b[1;32mUntitled-1.ipynb Cell 2\u001b[0m in \u001b[0;36mmain\u001b[0;34m()\u001b[0m\n\u001b[1;32m     <a href='vscode-notebook-cell:Untitled-1.ipynb?jupyter-notebook#W2sdW50aXRsZWQ%3D?line=10'>11</a>\u001b[0m     \u001b[39mprint\u001b[39m(\u001b[39m0\u001b[39m) \n\u001b[1;32m     <a href='vscode-notebook-cell:Untitled-1.ipynb?jupyter-notebook#W2sdW50aXRsZWQ%3D?line=11'>12</a>\u001b[0m     \u001b[39mreturn\u001b[39;00m \u001b[39m0\u001b[39m\n\u001b[0;32m---> <a href='vscode-notebook-cell:Untitled-1.ipynb?jupyter-notebook#W2sdW50aXRsZWQ%3D?line=12'>13</a>\u001b[0m bfs()\n\u001b[1;32m     <a href='vscode-notebook-cell:Untitled-1.ipynb?jupyter-notebook#W2sdW50aXRsZWQ%3D?line=13'>14</a>\u001b[0m \u001b[39mif\u001b[39;00m ok: \u001b[39mprint\u001b[39m(turn)\n\u001b[1;32m     <a href='vscode-notebook-cell:Untitled-1.ipynb?jupyter-notebook#W2sdW50aXRsZWQ%3D?line=14'>15</a>\u001b[0m \u001b[39melse\u001b[39;00m: \u001b[39mprint\u001b[39m(\u001b[39m-\u001b[39m\u001b[39m1\u001b[39m)\n",
      "\u001b[1;32mUntitled-1.ipynb Cell 2\u001b[0m in \u001b[0;36mbfs\u001b[0;34m()\u001b[0m\n\u001b[1;32m     <a href='vscode-notebook-cell:Untitled-1.ipynb?jupyter-notebook#W2sdW50aXRsZWQ%3D?line=31'>32</a>\u001b[0m \u001b[39mfor\u001b[39;00m nx \u001b[39min\u001b[39;00m [x \u001b[39m+\u001b[39m \u001b[39m1\u001b[39m, x \u001b[39m-\u001b[39m \u001b[39m1\u001b[39m, x \u001b[39m*\u001b[39m \u001b[39m2\u001b[39m]:\n\u001b[1;32m     <a href='vscode-notebook-cell:Untitled-1.ipynb?jupyter-notebook#W2sdW50aXRsZWQ%3D?line=32'>33</a>\u001b[0m     \u001b[39mif\u001b[39;00m nx \u001b[39m<\u001b[39m \u001b[39m0\u001b[39m \u001b[39mor\u001b[39;00m nx \u001b[39m>\u001b[39m MAX \u001b[39mor\u001b[39;00m visited[turn\u001b[39m%\u001b[39m\u001b[39m2\u001b[39m][nx]: \u001b[39mcontinue\u001b[39;00m\n\u001b[0;32m---> <a href='vscode-notebook-cell:Untitled-1.ipynb?jupyter-notebook#W2sdW50aXRsZWQ%3D?line=33'>34</a>\u001b[0m     visited[turn\u001b[39m%\u001b[39m\u001b[39m2\u001b[39m][nx] \u001b[39m=\u001b[39m visited[turn \u001b[39m+\u001b[39;49m \u001b[39m1\u001b[39;49m][x] \u001b[39m+\u001b[39m \u001b[39m1\u001b[39m\n\u001b[1;32m     <a href='vscode-notebook-cell:Untitled-1.ipynb?jupyter-notebook#W2sdW50aXRsZWQ%3D?line=34'>35</a>\u001b[0m     \u001b[39mif\u001b[39;00m nx \u001b[39m==\u001b[39m k:\n\u001b[1;32m     <a href='vscode-notebook-cell:Untitled-1.ipynb?jupyter-notebook#W2sdW50aXRsZWQ%3D?line=35'>36</a>\u001b[0m         ok \u001b[39m=\u001b[39m \u001b[39mTrue\u001b[39;00m\n",
      "\u001b[0;31mIndexError\u001b[0m: list index out of range"
     ]
    }
   ],
   "source": [
    "from collections import deque\n",
    "\n",
    "n, k = map(int,input().split())\n",
    "MAX = 500000\n",
    "turn = 1\n",
    "visited = [[0] * (MAX + 4) for _ in range(2)]\n",
    "\n",
    "def main():\n",
    "    ok = bool\n",
    "    if n == k: \n",
    "        print(0) \n",
    "        return 0\n",
    "    bfs()\n",
    "    if ok: print(turn)\n",
    "    else: print(-1)\n",
    "    return 0\n",
    "def bfs():\n",
    "    global k\n",
    "    global turn\n",
    "    q = deque()\n",
    "    q.append(n)\n",
    "    visited[0][n] = 1\n",
    "    while q:\n",
    "        k += turn\n",
    "        if k > MAX: break\n",
    "        if visited[turn % 2][k]:\n",
    "            ok = True\n",
    "            break\n",
    "        qsize = len(q)\n",
    "        for i in range(qsize):\n",
    "            x = q.popleft()\n",
    "            for nx in [x + 1, x - 1, x * 2]:\n",
    "                if nx < 0 or nx > MAX or visited[turn % 2][nx]: continue\n",
    "                visited[turn % 2][nx] = visited[turn + 1][x] + 1\n",
    "                if nx == k:\n",
    "                    ok = True\n",
    "                    break\n",
    "                q.append(nx)\n",
    "            if ok:break\n",
    "        if ok:break\n",
    "        turn += 1\n",
    "    \n",
    "main()\n"
   ]
  }
 ],
 "metadata": {
  "kernelspec": {
   "display_name": "Python 3",
   "language": "python",
   "name": "python3"
  },
  "language_info": {
   "codemirror_mode": {
    "name": "ipython",
    "version": 3
   },
   "file_extension": ".py",
   "mimetype": "text/x-python",
   "name": "python",
   "nbconvert_exporter": "python",
   "pygments_lexer": "ipython3",
   "version": "3.9.13"
  },
  "orig_nbformat": 4
 },
 "nbformat": 4,
 "nbformat_minor": 2
}
