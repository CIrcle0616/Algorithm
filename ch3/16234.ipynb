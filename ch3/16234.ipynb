{
 "cells": [
  {
   "cell_type": "code",
   "execution_count": 38,
   "metadata": {},
   "outputs": [
    {
     "name": "stdout",
     "output_type": "stream",
     "text": [
      "1\n"
     ]
    }
   ],
   "source": [
    "#16234 인구이동\n",
    "import sys\n",
    "sys.setrecursionlimit(10**6)\n",
    "\n",
    "n, l, r = map(int,input().split())\n",
    "graph = [list(map(int,input().split())) for _ in range(n)]\n",
    "id = 0\n",
    "#up,down,right,left\n",
    "dy = [1,-1,0,0]\n",
    "dx = [0,0,1,-1]\n",
    "visited = [[0]*n for _ in range(n)]\n",
    "\n",
    "def check(y,x,graph,visited,id):\n",
    "    if visited[y][x] == id: return\n",
    "    visited[y][x] = id\n",
    "    for i in range(4):\n",
    "        ny = y + dy[i]\n",
    "        nx = x + dx[i]\n",
    "        if ny < 0 or nx < 0 or nx >= n or ny >= n: continue\n",
    "        if not abs(graph[ny][nx] - graph[y][x]) >= l: continue\n",
    "        if not abs(graph[ny][nx] - graph[y][x]) <= r: continue\n",
    "        check(ny,nx,graph,visited,id)\n",
    "    return visited\n",
    "\n",
    "def find_group():\n",
    "    id = 1\n",
    "    visited = [[0]*n for _ in range(n)]\n",
    "    for i in range(n):\n",
    "        for j in range(n):\n",
    "            if visited[i][j] == 0:\n",
    "                check(i,j,graph,visited,id)\n",
    "                id += 1\n",
    "    return visited, id\n",
    "\n",
    "def move_group(graph,visited,id):\n",
    "    for idx in range(1,id+1):\n",
    "        ret = 0\n",
    "        cnt = 0\n",
    "        for i in range(n):\n",
    "            for j in range(n):\n",
    "                if visited[i][j] == idx:\n",
    "                    ret += graph[i][j]\n",
    "                    cnt += 1\n",
    "        for i in range(n):\n",
    "            for j in range(n):\n",
    "                if visited[i][j] == idx:\n",
    "                    graph[i][j] = ret // cnt\n",
    "    return\n",
    "\n",
    "cn = 0\n",
    "visited, id = find_group()\n",
    "move_group(graph,visited,id)\n",
    "id = find_group()[1]\n",
    "if id == n**2+1: cn = 1\n",
    "while not id == (n**2)+1:\n",
    "    cn += 1\n",
    "    visited, id = find_group()\n",
    "    move_group(graph,visited,id)\n",
    "print(cn)\n",
    "\n"
   ]
  },
  {
   "cell_type": "code",
   "execution_count": 76,
   "metadata": {},
   "outputs": [
    {
     "name": "stdout",
     "output_type": "stream",
     "text": [
      "(0,0) 1 0 70\n",
      "(1,0) 1 1 110\n",
      "(0,0) 0 1 100\n",
      "1\n"
     ]
    }
   ],
   "source": [
    "import sys\n",
    "sys.setrecursionlimit(10**6)\n",
    "\n",
    "n, l, r = map(int,input().split())\n",
    "graph = [list(map(int,input().split())) for _ in range(n)]\n",
    "\n",
    "#up,down,right,left\n",
    "dy = [1,-1,0,0]\n",
    "dx = [0,0,1,-1]\n",
    "cnt = 0\n",
    "\n",
    "def dfs(y,x,v,ret):\n",
    "    for i in range(4):\n",
    "        ny = y + dy[i]\n",
    "        nx = x + dx[i]\n",
    "        if ny < 0 or nx < 0 or nx >= n or ny >= n or visited[ny][nx]: continue\n",
    "        if not abs(graph[ny][nx] - graph[y][x]) >= l: continue\n",
    "        if not abs(graph[ny][nx] - graph[y][x]) <= r: continue\n",
    "        v.append((ny,nx))\n",
    "        visited[ny][nx] = 1\n",
    "        ret += graph[ny][nx]\n",
    "        print(f'({y},{x})',ny,nx,ret)\n",
    "        dfs(ny,nx,v,ret)\n",
    "    return\n",
    "\n",
    "while True:\n",
    "    flag = 0\n",
    "    visited = [[0]*n for _ in range(n)]\n",
    "    for i in range(n):\n",
    "        for j in range(n):\n",
    "            if visited[i][j] == 1: continue\n",
    "            v = []\n",
    "            v.append((i,j))\n",
    "            visited[i][j] = 1\n",
    "            ret = graph[i][j]\n",
    "            dfs(i,j,v,ret)\n",
    "            if len(v) == 1: continue\n",
    "            for y,x in v:\n",
    "                graph[y][x] = ret // len(v)\n",
    "                flag = 1\n",
    "    if not flag: break\n",
    "    cnt += 1\n",
    "\n",
    "print(cnt)"
   ]
  },
  {
   "cell_type": "code",
   "execution_count": 69,
   "metadata": {},
   "outputs": [
    {
     "data": {
      "text/plain": [
       "[[35, 35], [35, 35]]"
      ]
     },
     "execution_count": 69,
     "metadata": {},
     "output_type": "execute_result"
    }
   ],
   "source": [
    "graph"
   ]
  }
 ],
 "metadata": {
  "kernelspec": {
   "display_name": "Python 3",
   "language": "python",
   "name": "python3"
  },
  "language_info": {
   "codemirror_mode": {
    "name": "ipython",
    "version": 3
   },
   "file_extension": ".py",
   "mimetype": "text/x-python",
   "name": "python",
   "nbconvert_exporter": "python",
   "pygments_lexer": "ipython3",
   "version": "3.9.13"
  },
  "orig_nbformat": 4,
  "vscode": {
   "interpreter": {
    "hash": "b0fa6594d8f4cbf19f97940f81e996739fb7646882a419484c72d19e05852a7e"
   }
  }
 },
 "nbformat": 4,
 "nbformat_minor": 2
}
