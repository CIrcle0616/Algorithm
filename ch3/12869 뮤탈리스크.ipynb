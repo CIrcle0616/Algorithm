{
 "cells": [
  {
   "cell_type": "code",
   "execution_count": 16,
   "metadata": {},
   "outputs": [
    {
     "data": {
      "text/plain": [
       "7"
      ]
     },
     "execution_count": 16,
     "metadata": {},
     "output_type": "execute_result"
    }
   ],
   "source": [
    "#12869 뮤탈리스크\n",
    "from collections import deque\n",
    "\n",
    "# 때리는 경우의수 6가지\n",
    "hit = [[9,3,1],[9,1,3],[3,9,1],[3,1,9],[1,3,9],[1,9,3]]\n",
    "visited = [[[0]*61 for _ in range(61)] for _ in range(61)]\n",
    "N = int(input())\n",
    "hp = list(map(int,input().split()))\n",
    "\n",
    "def bfs(a,b,c):\n",
    "    q = deque()\n",
    "    q.append((a,b,c))\n",
    "    visited[a][b][c] = 1\n",
    "    while q:\n",
    "        a,b,c = q.popleft()\n",
    "        if visited[0][0][0]: break\n",
    "        for i in range(6):\n",
    "            na = max(0, a - hit[i][0])\n",
    "            nb = max(0, b - hit[i][1])\n",
    "            nc = max(0, c - hit[i][2])\n",
    "            if visited[na][nb][nc]: continue\n",
    "            visited[na][nb][nc] = visited[a][b][c] + 1\n",
    "            q.append((na,nb,nc))\n",
    "    return visited[0][0][0] - 1\n",
    "while len(hp) < 3:\n",
    "    hp.append(0)\n",
    "a, b, c = hp[0], hp[1], hp[2]\n",
    "bfs(a,b,c)"
   ]
  },
  {
   "cell_type": "code",
   "execution_count": 17,
   "metadata": {},
   "outputs": [
    {
     "data": {
      "text/plain": [
       "[60, 0, 0]"
      ]
     },
     "execution_count": 17,
     "metadata": {},
     "output_type": "execute_result"
    }
   ],
   "source": [
    "hp"
   ]
  }
 ],
 "metadata": {
  "kernelspec": {
   "display_name": "Python 3",
   "language": "python",
   "name": "python3"
  },
  "language_info": {
   "codemirror_mode": {
    "name": "ipython",
    "version": 3
   },
   "file_extension": ".py",
   "mimetype": "text/x-python",
   "name": "python",
   "nbconvert_exporter": "python",
   "pygments_lexer": "ipython3",
   "version": "3.9.13"
  },
  "orig_nbformat": 4,
  "vscode": {
   "interpreter": {
    "hash": "b0fa6594d8f4cbf19f97940f81e996739fb7646882a419484c72d19e05852a7e"
   }
  }
 },
 "nbformat": 4,
 "nbformat_minor": 2
}
