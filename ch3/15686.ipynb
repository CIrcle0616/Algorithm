{
 "cells": [
  {
   "cell_type": "code",
   "execution_count": 11,
   "metadata": {},
   "outputs": [
    {
     "name": "stdout",
     "output_type": "stream",
     "text": [
      "32\n"
     ]
    }
   ],
   "source": [
    "#15686 치킨배달\n",
    "from itertools import combinations\n",
    "from copy import deepcopy\n",
    "\n",
    "#치킨집 없애는 함수\n",
    "def xchi(yx,new_gp):\n",
    "    y,x = yx[0], yx[1]\n",
    "    new_gp[y][x] = 0\n",
    "    return\n",
    "#집의 위치에서 각각의 치킨집까지 거리중 최솟값인 치킨거리를 구하는 함수\n",
    "def check(y,x,graph):\n",
    "    ret = 99\n",
    "    for i in coor(graph):\n",
    "        ret = min(ret, abs(i[0]-y) + abs(i[1]-x))\n",
    "    return ret\n",
    "\n",
    "#치킨집 좌표확인\n",
    "def coor(graph):\n",
    "    a = []\n",
    "    for i in range(n):\n",
    "        for j in range(n):\n",
    "            if graph[i][j] == 2:\n",
    "                a.append((i,j))\n",
    "    return a\n",
    "\n",
    "n, m = map(int,input().split())\n",
    "graph = [list(map(int,input().split())) for _ in range(n)]\n",
    "a = coor(graph)\n",
    "#치킨집 없앨 치킨집 선택 후 삭제\n",
    "dist = 10000\n",
    "for c in combinations(a,len(a)-m):\n",
    "    total = 0\n",
    "    visited = [[0]*n for _ in range(n)]\n",
    "    new_gp = deepcopy(graph)\n",
    "    for i in c:\n",
    "        xchi(i,new_gp)\n",
    "    new_a = coor(new_gp)\n",
    "    for i in range(n):\n",
    "        for j in range(n):\n",
    "            if new_gp[i][j] == 1:\n",
    "                visited[i][j] = check(i,j,new_gp)\n",
    "                total += visited[i][j]\n",
    "    dist = min(dist, total)\n",
    "print(dist)\n",
    "\n",
    "#python제출시 시간초과 pypy3제출시 성공!\n"
   ]
  },
  {
   "cell_type": "code",
   "execution_count": 8,
   "metadata": {},
   "outputs": [
    {
     "data": {
      "text/plain": [
       "[[0, 0, 1, 0, 0],\n",
       " [0, 0, 2, 0, 1],\n",
       " [0, 1, 2, 0, 1],\n",
       " [0, 0, 1, 0, 0],\n",
       " [0, 0, 0, 0, 2]]"
      ]
     },
     "execution_count": 8,
     "metadata": {},
     "output_type": "execute_result"
    }
   ],
   "source": [
    "graph"
   ]
  }
 ],
 "metadata": {
  "kernelspec": {
   "display_name": "Python 3",
   "language": "python",
   "name": "python3"
  },
  "language_info": {
   "codemirror_mode": {
    "name": "ipython",
    "version": 3
   },
   "file_extension": ".py",
   "mimetype": "text/x-python",
   "name": "python",
   "nbconvert_exporter": "python",
   "pygments_lexer": "ipython3",
   "version": "3.9.13"
  },
  "orig_nbformat": 4,
  "vscode": {
   "interpreter": {
    "hash": "b0fa6594d8f4cbf19f97940f81e996739fb7646882a419484c72d19e05852a7e"
   }
  }
 },
 "nbformat": 4,
 "nbformat_minor": 2
}
