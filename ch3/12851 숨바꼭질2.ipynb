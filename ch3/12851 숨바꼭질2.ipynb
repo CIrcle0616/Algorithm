{
 "cells": [
  {
   "cell_type": "code",
   "execution_count": null,
   "metadata": {},
   "outputs": [],
   "source": [
    "#12851 숨바꼭질2\n",
    "import sys\n",
    "sys.setrecursionlimit(10**6)\n",
    "\n",
    "n, k = map(int,input().split())\n",
    "\n",
    "min_time = 200000\n",
    "cnt = 0\n",
    "\n",
    "def dfs(su_value, time):\n",
    "    global cnt\n",
    "    global min_time\n",
    "    if time > min_time or su_value == 0: return\n",
    "    if su_value == k:\n",
    "        min_time = min(min_time, time)\n",
    "        return\n",
    "    if su_value > k:\n",
    "        dfs(su_value-1, time+1)\n",
    "    if su_value < k:\n",
    "        dfs(su_value+1, time+1)\n",
    "        dfs(su_value*2, time+1)\n",
    "    \n",
    "        \n",
    "\n",
    "dfs(n, 0)\n",
    "print(min_time,cnt)"
   ]
  },
  {
   "cell_type": "code",
   "execution_count": 61,
   "metadata": {},
   "outputs": [
    {
     "name": "stdout",
     "output_type": "stream",
     "text": [
      "10\n",
      "5\n"
     ]
    }
   ],
   "source": [
    "from collections import deque\n",
    "\n",
    "n, k = map(int,input().split())\n",
    "visited = [0] * 100001\n",
    "cnt = [0] * 100001\n",
    "\n",
    "def bfs(n, k):\n",
    "    q = deque()\n",
    "    q.append(n)\n",
    "    if n == k:\n",
    "         visited[k] = 1\n",
    "         cnt[k] = 1\n",
    "         return\n",
    "    visited[n] = 1\n",
    "    cnt[n] = 1\n",
    "    while q:\n",
    "        n = q.popleft()\n",
    "        move = [n-1, n+1, n*2]\n",
    "        for i in move:\n",
    "            if i < 0 or i >= 100001: continue\n",
    "            if not visited[i]:\n",
    "                q.append(i)\n",
    "                visited[i] = visited[n] + 1\n",
    "                cnt[i] += cnt[n]\n",
    "            elif visited[i] == visited[n] + 1:\n",
    "                cnt[i] += cnt[n]\n",
    "        \n",
    "bfs(n,k)\n",
    "print(visited[k]-1)\n",
    "print(cnt[k])\n",
    "        "
   ]
  },
  {
   "cell_type": "code",
   "execution_count": 71,
   "metadata": {},
   "outputs": [
    {
     "name": "stdout",
     "output_type": "stream",
     "text": [
      "4\n",
      "2\n"
     ]
    }
   ],
   "source": [
    "from collections import deque\n",
    "\n",
    "n, k = map(int,input().split())\n",
    "visited = [0] * 100004\n",
    "cnt = [0] * 100004\n",
    "if n == k:\n",
    "    print(0)\n",
    "    print(1)\n",
    "else:\n",
    "    q = deque()\n",
    "    q.append(n)\n",
    "    visited[n] = 1 #n이라는 정수를 방문하는 데 걸리는 시간을 저장하는 배열\n",
    "    cnt[n] = 1     #n이라는 정수를 방문하는 경우의 수를 저장하는 배열 \n",
    "    while q:\n",
    "        n = q.popleft()\n",
    "        for next in [n+1, n-1, n*2]: #수빈이가 이동하는 경우의 수\n",
    "            if 0 <= next and next <= 100000: #수빈이가 이동할 수 있는 범위를 의미한다. next가 0이상 100000이하일때 이동가능\n",
    "                if not visited[next]: #다음에 방문할 정수가 방문한 적이 없을 경우에 이동가능하다 = 다음 정수로 이동거리가 최소거리이다(bfs 넓이 우선 탐색이기 때문에)\n",
    "                    visited[next] = visited[n] + 1 #수빈이가 이동한 시간은 전의 정수를 방문한 시간 + 1이다.\n",
    "                    cnt[next] += cnt[n]\n",
    "                    q.append(next) #이동했으니 q에 추가한다\n",
    "                elif visited[next] == visited[n] + 1: #이미 방문한 적 있으나 같은 넓이의 경우의 수가 추가로 방문할 경우\n",
    "                    cnt[next] += cnt[n]\n",
    "                    #여기선 q에 추가로 넣을 필요가 있는가 없는가?\n",
    "                    #이 로직은 100000의 모든 정수에 대해서 최소거리 경우의 수를 모두 구하는 로직이다.\n",
    "    print(visited[k]-1)\n",
    "    print(cnt[k])\n"
   ]
  },
  {
   "cell_type": "code",
   "execution_count": 83,
   "metadata": {},
   "outputs": [
    {
     "name": "stdout",
     "output_type": "stream",
     "text": [
      "1\n"
     ]
    }
   ],
   "source": []
  }
 ],
 "metadata": {
  "kernelspec": {
   "display_name": "Python 3",
   "language": "python",
   "name": "python3"
  },
  "language_info": {
   "codemirror_mode": {
    "name": "ipython",
    "version": 3
   },
   "file_extension": ".py",
   "mimetype": "text/x-python",
   "name": "python",
   "nbconvert_exporter": "python",
   "pygments_lexer": "ipython3",
   "version": "3.9.13"
  },
  "orig_nbformat": 4
 },
 "nbformat": 4,
 "nbformat_minor": 2
}
