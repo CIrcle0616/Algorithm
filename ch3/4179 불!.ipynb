{
 "cells": [
  {
   "cell_type": "code",
   "execution_count": 103,
   "metadata": {},
   "outputs": [
    {
     "name": "stdout",
     "output_type": "stream",
     "text": [
      "2\n"
     ]
    }
   ],
   "source": [
    "#3149 불!\n",
    "from collections import deque\n",
    "\n",
    "\n",
    "dy = [0,1,0,-1]\n",
    "dx = [1,0,-1,0]\n",
    "\n",
    "# def dfs(y,x):\n",
    "#     global flag\n",
    "#     if y == 0 or y == r-1 or x == 0 or x == c-1:\n",
    "#         flag = True\n",
    "#         return\n",
    "#     for i in range(4):\n",
    "#         ny = y + dy[i]\n",
    "#         nx = x + dx[i]\n",
    "#         if ny < 0 or nx < 0 or ny >= r or nx >= c or visited[ny][nx] or miro[ny][nx] == '#' or miro[ny][nx] == 'F': continue\n",
    "#         visited[ny][nx] = visited[y][x] + 1\n",
    "#         fire()\n",
    "#         dfs(ny,nx)\n",
    "def bfs(y,x):\n",
    "    global flag\n",
    "    q = deque()\n",
    "    q.append((y,x))\n",
    "    while q:\n",
    "        y,x = q.popleft()\n",
    "        if y == 0 or y == r-1 or x == 0 or x == c-1:\n",
    "            flag = True\n",
    "            return (y,x)\n",
    "        for i in range(4):\n",
    "            ny = y + dy[i]\n",
    "            nx = x + dx[i]\n",
    "            if ny < 0 or nx < 0 or ny >= r or nx >= c or visited[ny][nx] or miro[ny][nx] == '#' or miro[ny][nx] == 'F': continue\n",
    "            visited[ny][nx] = visited[y][x] + 1\n",
    "            q.append((ny,nx))\n",
    "        fire()\n",
    "    return\n",
    "\n",
    "        \n",
    "def fire():\n",
    "    q = []\n",
    "    for i in range(r):\n",
    "        for j in range(c):\n",
    "            if miro[i][j] == 'F':\n",
    "                y,x = i,j\n",
    "                q.append((y,x))\n",
    "    while q:\n",
    "        y,x = q.pop()\n",
    "        for i in range(4):\n",
    "            ny = y + dy[i]\n",
    "            nx = x + dx[i]\n",
    "            if ny < 0 or nx < 0 or ny >= r or nx >= c or miro[ny][nx] == '#': continue\n",
    "            miro[ny][nx] = 'F'\n",
    "\n",
    "r, c = map(int,input().split())\n",
    "miro = [list(input()) for _ in range(r)]\n",
    "visited = [[0]*c for _ in range(r)]\n",
    "flag = False\n",
    "for i in range(r):\n",
    "    for j in range(c):\n",
    "        if miro[i][j] == \"J\":\n",
    "            visited[i][j] = 1\n",
    "            ret = bfs(i,j)\n",
    "\n",
    "if not flag:\n",
    "    print('IMPOSSIBLE')\n",
    "else:\n",
    "    y,x = ret\n",
    "    print(visited[y][x])\n",
    "\n",
    "#bfs를 통해 J가 이동하고 그 다음에 불이 번져 그래프에 변화를 주고 이동시키는 로직으로 풀어보려고 했으나 잘되지 않았다.\n"
   ]
  },
  {
   "cell_type": "code",
   "execution_count": 163,
   "metadata": {},
   "outputs": [
    {
     "name": "stdout",
     "output_type": "stream",
     "text": [
      "1\n"
     ]
    }
   ],
   "source": [
    "#강의에서의 접근법 불의 최단거리 bfs를 구하고 J의 최단거리 맵을 만든후 J가 불보다 빨리 이동가능하면 그 곳으로 이동할 수 있다는 로직\n",
    "\n",
    "from collections import deque\n",
    "\n",
    "dy = [0,1,0,-1]\n",
    "dx = [1,0,-1,0]\n",
    "\n",
    "r,c = map(int,input().split())\n",
    "graph = [list(input()) for _ in range(r)]\n",
    "\n",
    "visited_F = [[1e9]*c for _ in range(r)] #불이 없을 경우를 위해서 INF에 가까운 수로 초기화를 한다\n",
    "visited_J = [[0]*c for _ in range(r)]\n",
    "\n",
    "def bfs(y,x,visited):\n",
    "    global flag\n",
    "    q = deque()\n",
    "    q.append((y,x))\n",
    "    visited[y][x] = 1\n",
    "    while q:\n",
    "        y,x = q.popleft()\n",
    "        if y == 0 or y == r-1 or x == 0 or x == c-1:\n",
    "            flag = True\n",
    "            return visited[y][x]        \n",
    "        for i in range(4):\n",
    "            ny = y + dy[i]\n",
    "            nx = x + dx[i]\n",
    "            if ny < 0 or nx < 0 or ny >= r or nx >= c or visited[ny][nx] or graph[ny][nx] == '#': continue\n",
    "            temp = visited[y][x] + 1\n",
    "            if temp < visited_F[ny][nx]:\n",
    "                visited[ny][nx] = temp\n",
    "                q.append((ny,nx))\n",
    "        \n",
    "def bfs_F(y,x,visited):\n",
    "    q = deque()\n",
    "    q.append((y,x))\n",
    "    visited[y][x] = 1\n",
    "    while q:\n",
    "        y,x = q.popleft()\n",
    "        for i in range(4):\n",
    "            ny = y + dy[i]\n",
    "            nx = x + dx[i]\n",
    "            if ny < 0 or nx < 0 or ny >= r or nx >= c or graph[ny][nx] == '#': continue\n",
    "            temp = visited[y][x] + 1\n",
    "            if temp < visited[ny][nx]:\n",
    "                visited[ny][nx] = temp\n",
    "                q.append((ny,nx))\n",
    "flag = False\n",
    "for i in range(r):\n",
    "    for j in range(c):\n",
    "        if graph[i][j] == 'F':\n",
    "            bfs_F(i,j,visited_F)\n",
    "\n",
    "for i in range(r):\n",
    "    for j in range(c):\n",
    "        if graph[i][j] == 'J':\n",
    "            ret = bfs(i,j,visited_J)\n",
    "\n",
    "if flag == False:\n",
    "    print('IMPOSSIBLE')\n",
    "else:\n",
    "    print(ret)\n",
    "\n",
    "\n"
   ]
  },
  {
   "cell_type": "code",
   "execution_count": 162,
   "metadata": {},
   "outputs": [
    {
     "data": {
      "text/plain": [
       "[[1, 0], [0, 0]]"
      ]
     },
     "execution_count": 162,
     "metadata": {},
     "output_type": "execute_result"
    }
   ],
   "source": [
    "visited_J"
   ]
  }
 ],
 "metadata": {
  "kernelspec": {
   "display_name": "Python 3",
   "language": "python",
   "name": "python3"
  },
  "language_info": {
   "codemirror_mode": {
    "name": "ipython",
    "version": 3
   },
   "file_extension": ".py",
   "mimetype": "text/x-python",
   "name": "python",
   "nbconvert_exporter": "python",
   "pygments_lexer": "ipython3",
   "version": "3.9.13"
  },
  "orig_nbformat": 4,
  "vscode": {
   "interpreter": {
    "hash": "b0fa6594d8f4cbf19f97940f81e996739fb7646882a419484c72d19e05852a7e"
   }
  }
 },
 "nbformat": 4,
 "nbformat_minor": 2
}
