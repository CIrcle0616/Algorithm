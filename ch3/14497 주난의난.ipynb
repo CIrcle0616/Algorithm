{
 "cells": [
  {
   "cell_type": "code",
   "execution_count": 30,
   "metadata": {},
   "outputs": [
    {
     "name": "stdout",
     "output_type": "stream",
     "text": [
      "2\n"
     ]
    }
   ],
   "source": [
    "#14497 주난의난\n",
    "import sys\n",
    "sys.setrecursionlimit(10**6)\n",
    "\n",
    "dy = [0,1,0,-1]\n",
    "dx = [1,0,-1,0]\n",
    "\n",
    "n, m = map(int,input().split())\n",
    "y1, x1, y2, x2 = map(int,input().split())\n",
    "graph = [list(input()) for _ in range(n)]\n",
    "graph[y1-1][x1-1] = '0'\n",
    "graph[y2-1][x2-1] = '1'\n",
    "\n",
    "cnt = 0\n",
    "\n",
    "def dfs(y,x):\n",
    "    visited[y][x] = 1\n",
    "    if graph[y][x] == '1': return\n",
    "    for i in range(4):\n",
    "        ny = y + dy[i]\n",
    "        nx = x + dx[i]\n",
    "        if ny < 0 or nx < 0 or ny >= n or nx >= m or visited[ny][nx]: continue\n",
    "        dfs(ny,nx)\n",
    "\n",
    "while graph[y2-1][x2-1] != '0':\n",
    "    visited = [[0] * m for _ in range(n)]   \n",
    "    cnt += 1\n",
    "    dfs(y1-1,x1-1)\n",
    "    for i in range(n):\n",
    "        for j in range(m):\n",
    "            if graph[i][j] == '1' and visited[i][j] == 1:\n",
    "                graph[i][j] = '0'\n",
    "print(cnt)"
   ]
  },
  {
   "cell_type": "code",
   "execution_count": 27,
   "metadata": {},
   "outputs": [
    {
     "data": {
      "text/plain": [
       "'0'"
      ]
     },
     "execution_count": 27,
     "metadata": {},
     "output_type": "execute_result"
    }
   ],
   "source": [
    "graph[1][2]"
   ]
  }
 ],
 "metadata": {
  "kernelspec": {
   "display_name": "Python 3",
   "language": "python",
   "name": "python3"
  },
  "language_info": {
   "codemirror_mode": {
    "name": "ipython",
    "version": 3
   },
   "file_extension": ".py",
   "mimetype": "text/x-python",
   "name": "python",
   "nbconvert_exporter": "python",
   "pygments_lexer": "ipython3",
   "version": "3.9.13"
  },
  "orig_nbformat": 4
 },
 "nbformat": 4,
 "nbformat_minor": 2
}
