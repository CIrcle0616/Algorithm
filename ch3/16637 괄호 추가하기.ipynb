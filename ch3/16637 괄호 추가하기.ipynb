{
 "cells": [
  {
   "cell_type": "code",
   "execution_count": 1,
   "metadata": {},
   "outputs": [
    {
     "name": "stdout",
     "output_type": "stream",
     "text": [
      "136\n"
     ]
    }
   ],
   "source": [
    "#16637 괄호구하기\n",
    "\n",
    "n = int(input())\n",
    "s = input()\n",
    "\n",
    "max_value = -2**31\n",
    "\n",
    "def calc(a, b, op):\n",
    "    if op == '+':\n",
    "        return a + b\n",
    "    if op == '-':\n",
    "        return a - b\n",
    "    if op == '*':\n",
    "        return a * b\n",
    "\n",
    "def dfs(idx, value): # 깊이 우선 탐색을 통해 모든 경우의 수를 탐색하는 함수\n",
    "    global max_value # 전역 변수 사용\n",
    "    if idx >= n: # 인덱스가 수식의 길이보다 크거나 같으면 종료 조건\n",
    "        max_value = max(max_value, value) # 최대값 갱신\n",
    "        return\n",
    "    \n",
    "    cur = int(s[idx]) # 현재 인덱스에 해당하는 정수 값\n",
    "    \n",
    "    if idx == 0: # 첫 번째 인덱스면 그냥 다음 인덱스로 넘어가기\n",
    "        dfs(idx+2, cur)\n",
    "    else:\n",
    "        prev_op = s[idx-1] # 이전 인덱스에 해당하는 연산자 값\n",
    "        \n",
    "        # 괄호를 추가하지 않고 이전 결과에 현재 값을 계산하기 (예: (1+2)+3)\n",
    "        dfs(idx+2, calc(value, cur, prev_op))\n",
    "        \n",
    "        if idx+2 < n: # 인덱스가 범위 안에 있으면\n",
    "            next_op = s[idx+1] # 다음 인덱스에 해당하는 연산자 값\n",
    "            \n",
    "            # 괄호를 추가하고 현재 값과 다음 값을 먼저 계산하기 (예: 1+(2*3))\n",
    "            dfs(idx+4, calc(value, calc(cur,int(s[idx+2]),next_op),prev_op))\n",
    "\n",
    "dfs(0,0) # 탐색 시작\n",
    "\n",
    "print(max_value) # 결과 출력"
   ]
  },
  {
   "cell_type": "code",
   "execution_count": 11,
   "metadata": {},
   "outputs": [
    {
     "ename": "ValueError",
     "evalue": "invalid literal for int() with base 10: ''",
     "output_type": "error",
     "traceback": [
      "\u001b[0;31m---------------------------------------------------------------------------\u001b[0m",
      "\u001b[0;31mValueError\u001b[0m                                Traceback (most recent call last)",
      "\u001b[1;32mUntitled-1.ipynb Cell 2\u001b[0m in \u001b[0;36m<cell line: 4>\u001b[0;34m()\u001b[0m\n\u001b[1;32m      <a href='vscode-notebook-cell:Untitled-1.ipynb?jupyter-notebook#W1sdW50aXRsZWQ%3D?line=0'>1</a>\u001b[0m \u001b[39mimport\u001b[39;00m \u001b[39msys\u001b[39;00m\n\u001b[1;32m      <a href='vscode-notebook-cell:Untitled-1.ipynb?jupyter-notebook#W1sdW50aXRsZWQ%3D?line=1'>2</a>\u001b[0m \u001b[39minput\u001b[39m \u001b[39m=\u001b[39m sys\u001b[39m.\u001b[39mstdin\u001b[39m.\u001b[39mreadline\n\u001b[0;32m----> <a href='vscode-notebook-cell:Untitled-1.ipynb?jupyter-notebook#W1sdW50aXRsZWQ%3D?line=3'>4</a>\u001b[0m n \u001b[39m=\u001b[39m \u001b[39mint\u001b[39;49m(\u001b[39minput\u001b[39;49m())\n\u001b[1;32m      <a href='vscode-notebook-cell:Untitled-1.ipynb?jupyter-notebook#W1sdW50aXRsZWQ%3D?line=4'>5</a>\u001b[0m s \u001b[39m=\u001b[39m \u001b[39minput\u001b[39m()\u001b[39m.\u001b[39mstrip()\n\u001b[1;32m      <a href='vscode-notebook-cell:Untitled-1.ipynb?jupyter-notebook#W1sdW50aXRsZWQ%3D?line=6'>7</a>\u001b[0m max_value \u001b[39m=\u001b[39m \u001b[39m-\u001b[39m\u001b[39m2\u001b[39m\u001b[39m*\u001b[39m\u001b[39m*\u001b[39m\u001b[39m31\u001b[39m\n",
      "\u001b[0;31mValueError\u001b[0m: invalid literal for int() with base 10: ''"
     ]
    }
   ],
   "source": [
    "n = int(input())\n",
    "s = input()\n",
    "\n",
    "def calc(a, b, op):\n",
    "    if op == '+':\n",
    "        return a + b\n",
    "    if op == '-':\n",
    "        return a - b\n",
    "    if op == '*':\n",
    "        return a * b\n",
    "\n",
    "max_value = -2**31\n",
    "\n",
    "def dfs(idx, value):\n",
    "    global max_value\n",
    "    if idx >= n:\n",
    "        max_value = max(max_value, value)\n",
    "        return\n",
    "    cur = int(s[idx])\n",
    "    if idx == 0:\n",
    "        dfs(idx+2,cur)\n",
    "    else:\n",
    "        prev_op = s[idx-1]\n",
    "        dfs(idx+2, calc(value,cur,prev_op))\n",
    "        if idx + 2 < n:\n",
    "            next_op = s[idx+1]\n",
    "            dfs(idx+4, calc(value, calc(cur, int(s[idx+2]), next_op), prev_op))\n",
    "\n",
    "dfs(0,0)\n",
    "print(max_value)\n",
    "            \n"
   ]
  }
 ],
 "metadata": {
  "kernelspec": {
   "display_name": "Python 3",
   "language": "python",
   "name": "python3"
  },
  "language_info": {
   "codemirror_mode": {
    "name": "ipython",
    "version": 3
   },
   "file_extension": ".py",
   "mimetype": "text/x-python",
   "name": "python",
   "nbconvert_exporter": "python",
   "pygments_lexer": "ipython3",
   "version": "3.9.13"
  },
  "orig_nbformat": 4
 },
 "nbformat": 4,
 "nbformat_minor": 2
}
