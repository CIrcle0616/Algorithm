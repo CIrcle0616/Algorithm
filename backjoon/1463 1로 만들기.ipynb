{
 "cells": [
  {
   "cell_type": "code",
   "execution_count": 60,
   "metadata": {},
   "outputs": [
    {
     "name": "stdout",
     "output_type": "stream",
     "text": [
      "3\n"
     ]
    }
   ],
   "source": [
    "#1463 1로 만들기\n",
    "N = int(input())\n",
    "a = [0] * (N+1) # a[0]은 1을 만드는 수\n",
    "for i in range(2,N+1):\n",
    "    a[i] = a[i-1] + 1\n",
    "    if i % 2 == 0:\n",
    "        a[i] = min(a[i//2]+1,a[i])\n",
    "    if i % 3 == 0:\n",
    "        a[i] = min(a[i//3]+1,a[i])\n",
    "print(a[N])\n"
   ]
  },
  {
   "cell_type": "code",
   "execution_count": null,
   "metadata": {},
   "outputs": [],
   "source": [
    "n"
   ]
  }
 ],
 "metadata": {
  "kernelspec": {
   "display_name": "Python 3.9.13 64-bit",
   "language": "python",
   "name": "python3"
  },
  "language_info": {
   "codemirror_mode": {
    "name": "ipython",
    "version": 3
   },
   "file_extension": ".py",
   "mimetype": "text/x-python",
   "name": "python",
   "nbconvert_exporter": "python",
   "pygments_lexer": "ipython3",
   "version": "3.9.13"
  },
  "orig_nbformat": 4,
  "vscode": {
   "interpreter": {
    "hash": "b0fa6594d8f4cbf19f97940f81e996739fb7646882a419484c72d19e05852a7e"
   }
  }
 },
 "nbformat": 4,
 "nbformat_minor": 2
}
