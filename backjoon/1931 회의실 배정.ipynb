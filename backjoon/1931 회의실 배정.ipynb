{
 "cells": [
  {
   "cell_type": "code",
   "execution_count": 6,
   "metadata": {},
   "outputs": [
    {
     "name": "stdout",
     "output_type": "stream",
     "text": [
      "2\n"
     ]
    }
   ],
   "source": [
    "# 1931 회의실 배정\n",
    "N = int(input())\n",
    "timetable = []\n",
    "for i in range(N):\n",
    "    timetable.append(list(map(int,input().split())))\n",
    "timetable.sort(key = lambda x: (x[1],x[0]))\n",
    "a = 0\n",
    "cnt = 1\n",
    "for i in range(1,N):\n",
    "    \n",
    "    if timetable[i][0] >= timetable[a][1]:\n",
    "        a = i\n",
    "        cnt += 1\n",
    "print(cnt)"
   ]
  }
 ],
 "metadata": {
  "kernelspec": {
   "display_name": "Python 3.9.13 64-bit",
   "language": "python",
   "name": "python3"
  },
  "language_info": {
   "codemirror_mode": {
    "name": "ipython",
    "version": 3
   },
   "file_extension": ".py",
   "mimetype": "text/x-python",
   "name": "python",
   "nbconvert_exporter": "python",
   "pygments_lexer": "ipython3",
   "version": "3.9.13"
  },
  "orig_nbformat": 4,
  "vscode": {
   "interpreter": {
    "hash": "b0fa6594d8f4cbf19f97940f81e996739fb7646882a419484c72d19e05852a7e"
   }
  }
 },
 "nbformat": 4,
 "nbformat_minor": 2
}
