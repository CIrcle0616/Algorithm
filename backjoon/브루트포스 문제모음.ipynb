{
 "cells": [
  {
   "cell_type": "code",
   "execution_count": 19,
   "metadata": {},
   "outputs": [
    {
     "name": "stdout",
     "output_type": "stream",
     "text": [
      "497\n"
     ]
    }
   ],
   "source": [
    "# 2798 블랙잭\n",
    "from itertools import combinations\n",
    "N, M = map(int,input().split())\n",
    "givenCard = list(map(int,input().split()))\n",
    "choose = 0\n",
    "a = 0\n",
    "for c in combinations(givenCard,3):\n",
    "    if sum(c) > M:\n",
    "        continue\n",
    "    elif sum(c) > a:\n",
    "        a = sum(c)\n",
    "print(a)\n",
    "    "
   ]
  },
  {
   "cell_type": "code",
   "execution_count": 32,
   "metadata": {},
   "outputs": [
    {
     "name": "stdout",
     "output_type": "stream",
     "text": [
      "198\n"
     ]
    }
   ],
   "source": [
    "#2231 분해합\n",
    "N = int(input())\n",
    "gen = []\n",
    "flag = False\n",
    "for i in range(N):\n",
    "    a = i\n",
    "    for j in str(i):\n",
    "        a += int(j)\n",
    "    if a == N:\n",
    "        gen.append(i)\n",
    "        flag = True\n",
    "if flag == False:\n",
    "    gen.append(0)\n",
    "print(min(gen))"
   ]
  },
  {
   "cell_type": "code",
   "execution_count": 26,
   "metadata": {},
   "outputs": [
    {
     "data": {
      "text/plain": [
       "0"
      ]
     },
     "execution_count": 26,
     "metadata": {},
     "output_type": "execute_result"
    }
   ],
   "source": []
  }
 ],
 "metadata": {
  "kernelspec": {
   "display_name": "Python 3.9.13 64-bit",
   "language": "python",
   "name": "python3"
  },
  "language_info": {
   "codemirror_mode": {
    "name": "ipython",
    "version": 3
   },
   "file_extension": ".py",
   "mimetype": "text/x-python",
   "name": "python",
   "nbconvert_exporter": "python",
   "pygments_lexer": "ipython3",
   "version": "3.9.13"
  },
  "orig_nbformat": 4,
  "vscode": {
   "interpreter": {
    "hash": "b0fa6594d8f4cbf19f97940f81e996739fb7646882a419484c72d19e05852a7e"
   }
  }
 },
 "nbformat": 4,
 "nbformat_minor": 2
}
