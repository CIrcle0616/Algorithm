{
 "cells": [
  {
   "cell_type": "code",
   "execution_count": 1,
   "metadata": {},
   "outputs": [
    {
     "name": "stdout",
     "output_type": "stream",
     "text": [
      "4 4 4 \n",
      "6 6 6 \n",
      "5 6 100 \n"
     ]
    }
   ],
   "source": [
    "# 2738 행렬 덧셉\n",
    "N, M = map(int,input().split())\n",
    "n = [list(map(int,input().split())) for _ in range(N)]\n",
    "m = [list(map(int,input().split())) for _ in range(N)]\n",
    "for i in range(N):\n",
    "    for j in range(M):\n",
    "        print(n[i][j] + m[i][j],end=' ')\n",
    "    print()"
   ]
  },
  {
   "cell_type": "code",
   "execution_count": null,
   "metadata": {},
   "outputs": [],
   "source": [
    "# 2566 최댓값\n",
    "graph = [list(map(int,input().split())) for _ in range(9)]\n",
    "y, x = 0, 0\n",
    "big = 0\n",
    "for i in range(9):\n",
    "    for j in range(9):\n",
    "        if graph[i][j] > big:\n",
    "            big = graph[i][j]\n",
    "            y, x = i, j\n",
    "print(big)\n",
    "print(y+1,' ',x+1)"
   ]
  },
  {
   "cell_type": "code",
   "execution_count": 14,
   "metadata": {},
   "outputs": [
    {
     "name": "stdout",
     "output_type": "stream",
     "text": [
      "260\n"
     ]
    }
   ],
   "source": [
    "#2563 색종이\n",
    "graph = [[0]*100 for _ in range(100)]\n",
    "N = int(input())\n",
    "area = 0\n",
    "for _ in range(N):\n",
    "    a, b = map(int,input().split())\n",
    "    for i in range(a,a+10):\n",
    "        for j in range(b,b+10):\n",
    "            graph[i][j] = 1\n",
    "for i in range(100):\n",
    "    area += sum(graph[i])\n",
    "print(area)"
   ]
  }
 ],
 "metadata": {
  "kernelspec": {
   "display_name": "Python 3.9.13 64-bit",
   "language": "python",
   "name": "python3"
  },
  "language_info": {
   "codemirror_mode": {
    "name": "ipython",
    "version": 3
   },
   "file_extension": ".py",
   "mimetype": "text/x-python",
   "name": "python",
   "nbconvert_exporter": "python",
   "pygments_lexer": "ipython3",
   "version": "3.9.13"
  },
  "orig_nbformat": 4,
  "vscode": {
   "interpreter": {
    "hash": "b0fa6594d8f4cbf19f97940f81e996739fb7646882a419484c72d19e05852a7e"
   }
  }
 },
 "nbformat": 4,
 "nbformat_minor": 2
}
