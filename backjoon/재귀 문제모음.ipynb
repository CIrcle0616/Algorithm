{
 "cells": [
  {
   "cell_type": "code",
   "execution_count": 32,
   "metadata": {},
   "outputs": [
    {
     "name": "stdout",
     "output_type": "stream",
     "text": [
      "479001600\n"
     ]
    }
   ],
   "source": [
    "# 10872 팩토리얼\n",
    "N = int(input())\n",
    "a = 1\n",
    "for i in range(1,N+1):\n",
    "    a *= i\n",
    "print(a)\n",
    "#for문"
   ]
  },
  {
   "cell_type": "code",
   "execution_count": 35,
   "metadata": {},
   "outputs": [
    {
     "data": {
      "text/plain": [
       "1"
      ]
     },
     "execution_count": 35,
     "metadata": {},
     "output_type": "execute_result"
    }
   ],
   "source": [
    "# 10872 팩토리얼 재귀함수\n",
    "def fact(N):\n",
    "    if N == 1 or N == 0: return 1\n",
    "    else:\n",
    "        return N * fact(N-1)\n",
    "N = int(input())\n",
    "print(fact(N))"
   ]
  },
  {
   "cell_type": "code",
   "execution_count": 38,
   "metadata": {},
   "outputs": [
    {
     "name": "stdout",
     "output_type": "stream",
     "text": [
      "55\n"
     ]
    }
   ],
   "source": [
    "# 10870 피보나치\n",
    "def fibo(N):\n",
    "    if N == 0 return 0\n",
    "    if N == 1 or N == 2: return 1\n",
    "    else:\n",
    "        return fibo(N-1) + fibo(N-2)\n",
    "print(fibo(int(input())))"
   ]
  },
  {
   "cell_type": "code",
   "execution_count": 47,
   "metadata": {},
   "outputs": [
    {
     "name": "stdout",
     "output_type": "stream",
     "text": [
      "1 2\n",
      "1 1\n",
      "1 1\n",
      "1 1\n",
      "1 1\n"
     ]
    }
   ],
   "source": [
    "# 25501 재귀의 귀재\n",
    "def recursion(s, l, r):\n",
    "    global cnt\n",
    "    cnt += 1\n",
    "    if l >= r: return 1\n",
    "    elif s[l] != s[r]: return 0\n",
    "    else: return recursion(s, l+1, r-1)\n",
    "\n",
    "def isPalindrome(s):\n",
    "    global cnt\n",
    "    cnt = 0\n",
    "    return recursion(s, 0, len(s)-1)\n",
    "\n",
    "T = int(input())\n",
    "for _ in range(T):\n",
    "    print(isPalindrome(input()), cnt)"
   ]
  },
  {
   "cell_type": "code",
   "execution_count": null,
   "metadata": {},
   "outputs": [],
   "source": [
    "# 24060 알고리즘 수업 - 병합 정렬 1\n"
   ]
  }
 ],
 "metadata": {
  "kernelspec": {
   "display_name": "Python 3.9.13 64-bit",
   "language": "python",
   "name": "python3"
  },
  "language_info": {
   "codemirror_mode": {
    "name": "ipython",
    "version": 3
   },
   "file_extension": ".py",
   "mimetype": "text/x-python",
   "name": "python",
   "nbconvert_exporter": "python",
   "pygments_lexer": "ipython3",
   "version": "3.9.13"
  },
  "orig_nbformat": 4,
  "vscode": {
   "interpreter": {
    "hash": "b0fa6594d8f4cbf19f97940f81e996739fb7646882a419484c72d19e05852a7e"
   }
  }
 },
 "nbformat": 4,
 "nbformat_minor": 2
}
